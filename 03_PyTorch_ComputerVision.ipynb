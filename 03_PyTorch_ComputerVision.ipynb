{
  "nbformat": 4,
  "nbformat_minor": 0,
  "metadata": {
    "colab": {
      "provenance": []
    },
    "kernelspec": {
      "name": "python3",
      "display_name": "Python 3"
    },
    "language_info": {
      "name": "python"
    },
    "widgets": {
      "application/vnd.jupyter.widget-state+json": {
        "379d11e61ebc42c7b493c2b9cc042a27": {
          "model_module": "@jupyter-widgets/controls",
          "model_name": "HBoxModel",
          "model_module_version": "1.5.0",
          "state": {
            "_dom_classes": [],
            "_model_module": "@jupyter-widgets/controls",
            "_model_module_version": "1.5.0",
            "_model_name": "HBoxModel",
            "_view_count": null,
            "_view_module": "@jupyter-widgets/controls",
            "_view_module_version": "1.5.0",
            "_view_name": "HBoxView",
            "box_style": "",
            "children": [
              "IPY_MODEL_cccde6e3a0804239804c15aa6dcc3630",
              "IPY_MODEL_a68de13398dd45508f9d3e78155eaf6e",
              "IPY_MODEL_2c52e6f0dbfc47498de0a91e8fdc61b3"
            ],
            "layout": "IPY_MODEL_c6c3c1fd2cb847a0bb0bfd71cdb445e8"
          }
        },
        "cccde6e3a0804239804c15aa6dcc3630": {
          "model_module": "@jupyter-widgets/controls",
          "model_name": "HTMLModel",
          "model_module_version": "1.5.0",
          "state": {
            "_dom_classes": [],
            "_model_module": "@jupyter-widgets/controls",
            "_model_module_version": "1.5.0",
            "_model_name": "HTMLModel",
            "_view_count": null,
            "_view_module": "@jupyter-widgets/controls",
            "_view_module_version": "1.5.0",
            "_view_name": "HTMLView",
            "description": "",
            "description_tooltip": null,
            "layout": "IPY_MODEL_b205e73195ab47a197ddf6c9c1afe0ac",
            "placeholder": "​",
            "style": "IPY_MODEL_65782e3e07e049e396f3f434e57ebe1d",
            "value": "100%"
          }
        },
        "a68de13398dd45508f9d3e78155eaf6e": {
          "model_module": "@jupyter-widgets/controls",
          "model_name": "FloatProgressModel",
          "model_module_version": "1.5.0",
          "state": {
            "_dom_classes": [],
            "_model_module": "@jupyter-widgets/controls",
            "_model_module_version": "1.5.0",
            "_model_name": "FloatProgressModel",
            "_view_count": null,
            "_view_module": "@jupyter-widgets/controls",
            "_view_module_version": "1.5.0",
            "_view_name": "ProgressView",
            "bar_style": "success",
            "description": "",
            "description_tooltip": null,
            "layout": "IPY_MODEL_3e0fec9857a84db08925d72a3e5a8cce",
            "max": 3,
            "min": 0,
            "orientation": "horizontal",
            "style": "IPY_MODEL_181448c8ccf546f8b47b6504a2047aed",
            "value": 3
          }
        },
        "2c52e6f0dbfc47498de0a91e8fdc61b3": {
          "model_module": "@jupyter-widgets/controls",
          "model_name": "HTMLModel",
          "model_module_version": "1.5.0",
          "state": {
            "_dom_classes": [],
            "_model_module": "@jupyter-widgets/controls",
            "_model_module_version": "1.5.0",
            "_model_name": "HTMLModel",
            "_view_count": null,
            "_view_module": "@jupyter-widgets/controls",
            "_view_module_version": "1.5.0",
            "_view_name": "HTMLView",
            "description": "",
            "description_tooltip": null,
            "layout": "IPY_MODEL_e860c99a66ee4f40ab6febc0478b9c77",
            "placeholder": "​",
            "style": "IPY_MODEL_cc6cc5c2d7894ea3b9412e131efa7c47",
            "value": " 3/3 [00:35&lt;00:00, 11.91s/it]"
          }
        },
        "c6c3c1fd2cb847a0bb0bfd71cdb445e8": {
          "model_module": "@jupyter-widgets/base",
          "model_name": "LayoutModel",
          "model_module_version": "1.2.0",
          "state": {
            "_model_module": "@jupyter-widgets/base",
            "_model_module_version": "1.2.0",
            "_model_name": "LayoutModel",
            "_view_count": null,
            "_view_module": "@jupyter-widgets/base",
            "_view_module_version": "1.2.0",
            "_view_name": "LayoutView",
            "align_content": null,
            "align_items": null,
            "align_self": null,
            "border": null,
            "bottom": null,
            "display": null,
            "flex": null,
            "flex_flow": null,
            "grid_area": null,
            "grid_auto_columns": null,
            "grid_auto_flow": null,
            "grid_auto_rows": null,
            "grid_column": null,
            "grid_gap": null,
            "grid_row": null,
            "grid_template_areas": null,
            "grid_template_columns": null,
            "grid_template_rows": null,
            "height": null,
            "justify_content": null,
            "justify_items": null,
            "left": null,
            "margin": null,
            "max_height": null,
            "max_width": null,
            "min_height": null,
            "min_width": null,
            "object_fit": null,
            "object_position": null,
            "order": null,
            "overflow": null,
            "overflow_x": null,
            "overflow_y": null,
            "padding": null,
            "right": null,
            "top": null,
            "visibility": null,
            "width": null
          }
        },
        "b205e73195ab47a197ddf6c9c1afe0ac": {
          "model_module": "@jupyter-widgets/base",
          "model_name": "LayoutModel",
          "model_module_version": "1.2.0",
          "state": {
            "_model_module": "@jupyter-widgets/base",
            "_model_module_version": "1.2.0",
            "_model_name": "LayoutModel",
            "_view_count": null,
            "_view_module": "@jupyter-widgets/base",
            "_view_module_version": "1.2.0",
            "_view_name": "LayoutView",
            "align_content": null,
            "align_items": null,
            "align_self": null,
            "border": null,
            "bottom": null,
            "display": null,
            "flex": null,
            "flex_flow": null,
            "grid_area": null,
            "grid_auto_columns": null,
            "grid_auto_flow": null,
            "grid_auto_rows": null,
            "grid_column": null,
            "grid_gap": null,
            "grid_row": null,
            "grid_template_areas": null,
            "grid_template_columns": null,
            "grid_template_rows": null,
            "height": null,
            "justify_content": null,
            "justify_items": null,
            "left": null,
            "margin": null,
            "max_height": null,
            "max_width": null,
            "min_height": null,
            "min_width": null,
            "object_fit": null,
            "object_position": null,
            "order": null,
            "overflow": null,
            "overflow_x": null,
            "overflow_y": null,
            "padding": null,
            "right": null,
            "top": null,
            "visibility": null,
            "width": null
          }
        },
        "65782e3e07e049e396f3f434e57ebe1d": {
          "model_module": "@jupyter-widgets/controls",
          "model_name": "DescriptionStyleModel",
          "model_module_version": "1.5.0",
          "state": {
            "_model_module": "@jupyter-widgets/controls",
            "_model_module_version": "1.5.0",
            "_model_name": "DescriptionStyleModel",
            "_view_count": null,
            "_view_module": "@jupyter-widgets/base",
            "_view_module_version": "1.2.0",
            "_view_name": "StyleView",
            "description_width": ""
          }
        },
        "3e0fec9857a84db08925d72a3e5a8cce": {
          "model_module": "@jupyter-widgets/base",
          "model_name": "LayoutModel",
          "model_module_version": "1.2.0",
          "state": {
            "_model_module": "@jupyter-widgets/base",
            "_model_module_version": "1.2.0",
            "_model_name": "LayoutModel",
            "_view_count": null,
            "_view_module": "@jupyter-widgets/base",
            "_view_module_version": "1.2.0",
            "_view_name": "LayoutView",
            "align_content": null,
            "align_items": null,
            "align_self": null,
            "border": null,
            "bottom": null,
            "display": null,
            "flex": null,
            "flex_flow": null,
            "grid_area": null,
            "grid_auto_columns": null,
            "grid_auto_flow": null,
            "grid_auto_rows": null,
            "grid_column": null,
            "grid_gap": null,
            "grid_row": null,
            "grid_template_areas": null,
            "grid_template_columns": null,
            "grid_template_rows": null,
            "height": null,
            "justify_content": null,
            "justify_items": null,
            "left": null,
            "margin": null,
            "max_height": null,
            "max_width": null,
            "min_height": null,
            "min_width": null,
            "object_fit": null,
            "object_position": null,
            "order": null,
            "overflow": null,
            "overflow_x": null,
            "overflow_y": null,
            "padding": null,
            "right": null,
            "top": null,
            "visibility": null,
            "width": null
          }
        },
        "181448c8ccf546f8b47b6504a2047aed": {
          "model_module": "@jupyter-widgets/controls",
          "model_name": "ProgressStyleModel",
          "model_module_version": "1.5.0",
          "state": {
            "_model_module": "@jupyter-widgets/controls",
            "_model_module_version": "1.5.0",
            "_model_name": "ProgressStyleModel",
            "_view_count": null,
            "_view_module": "@jupyter-widgets/base",
            "_view_module_version": "1.2.0",
            "_view_name": "StyleView",
            "bar_color": null,
            "description_width": ""
          }
        },
        "e860c99a66ee4f40ab6febc0478b9c77": {
          "model_module": "@jupyter-widgets/base",
          "model_name": "LayoutModel",
          "model_module_version": "1.2.0",
          "state": {
            "_model_module": "@jupyter-widgets/base",
            "_model_module_version": "1.2.0",
            "_model_name": "LayoutModel",
            "_view_count": null,
            "_view_module": "@jupyter-widgets/base",
            "_view_module_version": "1.2.0",
            "_view_name": "LayoutView",
            "align_content": null,
            "align_items": null,
            "align_self": null,
            "border": null,
            "bottom": null,
            "display": null,
            "flex": null,
            "flex_flow": null,
            "grid_area": null,
            "grid_auto_columns": null,
            "grid_auto_flow": null,
            "grid_auto_rows": null,
            "grid_column": null,
            "grid_gap": null,
            "grid_row": null,
            "grid_template_areas": null,
            "grid_template_columns": null,
            "grid_template_rows": null,
            "height": null,
            "justify_content": null,
            "justify_items": null,
            "left": null,
            "margin": null,
            "max_height": null,
            "max_width": null,
            "min_height": null,
            "min_width": null,
            "object_fit": null,
            "object_position": null,
            "order": null,
            "overflow": null,
            "overflow_x": null,
            "overflow_y": null,
            "padding": null,
            "right": null,
            "top": null,
            "visibility": null,
            "width": null
          }
        },
        "cc6cc5c2d7894ea3b9412e131efa7c47": {
          "model_module": "@jupyter-widgets/controls",
          "model_name": "DescriptionStyleModel",
          "model_module_version": "1.5.0",
          "state": {
            "_model_module": "@jupyter-widgets/controls",
            "_model_module_version": "1.5.0",
            "_model_name": "DescriptionStyleModel",
            "_view_count": null,
            "_view_module": "@jupyter-widgets/base",
            "_view_module_version": "1.2.0",
            "_view_name": "StyleView",
            "description_width": ""
          }
        },
        "1a07dc3773e0413eac3f3713bbc3a042": {
          "model_module": "@jupyter-widgets/controls",
          "model_name": "HBoxModel",
          "model_module_version": "1.5.0",
          "state": {
            "_dom_classes": [],
            "_model_module": "@jupyter-widgets/controls",
            "_model_module_version": "1.5.0",
            "_model_name": "HBoxModel",
            "_view_count": null,
            "_view_module": "@jupyter-widgets/controls",
            "_view_module_version": "1.5.0",
            "_view_name": "HBoxView",
            "box_style": "",
            "children": [
              "IPY_MODEL_803180fe8df04fc88c54b17de3f5b3a0",
              "IPY_MODEL_ec354c0fd0954621b8aa31a32a1caa70",
              "IPY_MODEL_de91c7b87f814772a4431b2233570bd4"
            ],
            "layout": "IPY_MODEL_b5f860451b3e439b90c0c2f2b0317902"
          }
        },
        "803180fe8df04fc88c54b17de3f5b3a0": {
          "model_module": "@jupyter-widgets/controls",
          "model_name": "HTMLModel",
          "model_module_version": "1.5.0",
          "state": {
            "_dom_classes": [],
            "_model_module": "@jupyter-widgets/controls",
            "_model_module_version": "1.5.0",
            "_model_name": "HTMLModel",
            "_view_count": null,
            "_view_module": "@jupyter-widgets/controls",
            "_view_module_version": "1.5.0",
            "_view_name": "HTMLView",
            "description": "",
            "description_tooltip": null,
            "layout": "IPY_MODEL_6967f20de67c48c6a263033da94ce26a",
            "placeholder": "​",
            "style": "IPY_MODEL_12795c3fda1044e2826335b7eb9b1049",
            "value": "100%"
          }
        },
        "ec354c0fd0954621b8aa31a32a1caa70": {
          "model_module": "@jupyter-widgets/controls",
          "model_name": "FloatProgressModel",
          "model_module_version": "1.5.0",
          "state": {
            "_dom_classes": [],
            "_model_module": "@jupyter-widgets/controls",
            "_model_module_version": "1.5.0",
            "_model_name": "FloatProgressModel",
            "_view_count": null,
            "_view_module": "@jupyter-widgets/controls",
            "_view_module_version": "1.5.0",
            "_view_name": "ProgressView",
            "bar_style": "success",
            "description": "",
            "description_tooltip": null,
            "layout": "IPY_MODEL_08263a59322f4e898ae61d1ac3f772b3",
            "max": 3,
            "min": 0,
            "orientation": "horizontal",
            "style": "IPY_MODEL_b05b5a17935b49b898661dec5305a69d",
            "value": 3
          }
        },
        "de91c7b87f814772a4431b2233570bd4": {
          "model_module": "@jupyter-widgets/controls",
          "model_name": "HTMLModel",
          "model_module_version": "1.5.0",
          "state": {
            "_dom_classes": [],
            "_model_module": "@jupyter-widgets/controls",
            "_model_module_version": "1.5.0",
            "_model_name": "HTMLModel",
            "_view_count": null,
            "_view_module": "@jupyter-widgets/controls",
            "_view_module_version": "1.5.0",
            "_view_name": "HTMLView",
            "description": "",
            "description_tooltip": null,
            "layout": "IPY_MODEL_97d5336ae421406799563d6802b45f9c",
            "placeholder": "​",
            "style": "IPY_MODEL_6e582687ba464c029c4b6c8c2bde6c4b",
            "value": " 3/3 [00:36&lt;00:00, 12.08s/it]"
          }
        },
        "b5f860451b3e439b90c0c2f2b0317902": {
          "model_module": "@jupyter-widgets/base",
          "model_name": "LayoutModel",
          "model_module_version": "1.2.0",
          "state": {
            "_model_module": "@jupyter-widgets/base",
            "_model_module_version": "1.2.0",
            "_model_name": "LayoutModel",
            "_view_count": null,
            "_view_module": "@jupyter-widgets/base",
            "_view_module_version": "1.2.0",
            "_view_name": "LayoutView",
            "align_content": null,
            "align_items": null,
            "align_self": null,
            "border": null,
            "bottom": null,
            "display": null,
            "flex": null,
            "flex_flow": null,
            "grid_area": null,
            "grid_auto_columns": null,
            "grid_auto_flow": null,
            "grid_auto_rows": null,
            "grid_column": null,
            "grid_gap": null,
            "grid_row": null,
            "grid_template_areas": null,
            "grid_template_columns": null,
            "grid_template_rows": null,
            "height": null,
            "justify_content": null,
            "justify_items": null,
            "left": null,
            "margin": null,
            "max_height": null,
            "max_width": null,
            "min_height": null,
            "min_width": null,
            "object_fit": null,
            "object_position": null,
            "order": null,
            "overflow": null,
            "overflow_x": null,
            "overflow_y": null,
            "padding": null,
            "right": null,
            "top": null,
            "visibility": null,
            "width": null
          }
        },
        "6967f20de67c48c6a263033da94ce26a": {
          "model_module": "@jupyter-widgets/base",
          "model_name": "LayoutModel",
          "model_module_version": "1.2.0",
          "state": {
            "_model_module": "@jupyter-widgets/base",
            "_model_module_version": "1.2.0",
            "_model_name": "LayoutModel",
            "_view_count": null,
            "_view_module": "@jupyter-widgets/base",
            "_view_module_version": "1.2.0",
            "_view_name": "LayoutView",
            "align_content": null,
            "align_items": null,
            "align_self": null,
            "border": null,
            "bottom": null,
            "display": null,
            "flex": null,
            "flex_flow": null,
            "grid_area": null,
            "grid_auto_columns": null,
            "grid_auto_flow": null,
            "grid_auto_rows": null,
            "grid_column": null,
            "grid_gap": null,
            "grid_row": null,
            "grid_template_areas": null,
            "grid_template_columns": null,
            "grid_template_rows": null,
            "height": null,
            "justify_content": null,
            "justify_items": null,
            "left": null,
            "margin": null,
            "max_height": null,
            "max_width": null,
            "min_height": null,
            "min_width": null,
            "object_fit": null,
            "object_position": null,
            "order": null,
            "overflow": null,
            "overflow_x": null,
            "overflow_y": null,
            "padding": null,
            "right": null,
            "top": null,
            "visibility": null,
            "width": null
          }
        },
        "12795c3fda1044e2826335b7eb9b1049": {
          "model_module": "@jupyter-widgets/controls",
          "model_name": "DescriptionStyleModel",
          "model_module_version": "1.5.0",
          "state": {
            "_model_module": "@jupyter-widgets/controls",
            "_model_module_version": "1.5.0",
            "_model_name": "DescriptionStyleModel",
            "_view_count": null,
            "_view_module": "@jupyter-widgets/base",
            "_view_module_version": "1.2.0",
            "_view_name": "StyleView",
            "description_width": ""
          }
        },
        "08263a59322f4e898ae61d1ac3f772b3": {
          "model_module": "@jupyter-widgets/base",
          "model_name": "LayoutModel",
          "model_module_version": "1.2.0",
          "state": {
            "_model_module": "@jupyter-widgets/base",
            "_model_module_version": "1.2.0",
            "_model_name": "LayoutModel",
            "_view_count": null,
            "_view_module": "@jupyter-widgets/base",
            "_view_module_version": "1.2.0",
            "_view_name": "LayoutView",
            "align_content": null,
            "align_items": null,
            "align_self": null,
            "border": null,
            "bottom": null,
            "display": null,
            "flex": null,
            "flex_flow": null,
            "grid_area": null,
            "grid_auto_columns": null,
            "grid_auto_flow": null,
            "grid_auto_rows": null,
            "grid_column": null,
            "grid_gap": null,
            "grid_row": null,
            "grid_template_areas": null,
            "grid_template_columns": null,
            "grid_template_rows": null,
            "height": null,
            "justify_content": null,
            "justify_items": null,
            "left": null,
            "margin": null,
            "max_height": null,
            "max_width": null,
            "min_height": null,
            "min_width": null,
            "object_fit": null,
            "object_position": null,
            "order": null,
            "overflow": null,
            "overflow_x": null,
            "overflow_y": null,
            "padding": null,
            "right": null,
            "top": null,
            "visibility": null,
            "width": null
          }
        },
        "b05b5a17935b49b898661dec5305a69d": {
          "model_module": "@jupyter-widgets/controls",
          "model_name": "ProgressStyleModel",
          "model_module_version": "1.5.0",
          "state": {
            "_model_module": "@jupyter-widgets/controls",
            "_model_module_version": "1.5.0",
            "_model_name": "ProgressStyleModel",
            "_view_count": null,
            "_view_module": "@jupyter-widgets/base",
            "_view_module_version": "1.2.0",
            "_view_name": "StyleView",
            "bar_color": null,
            "description_width": ""
          }
        },
        "97d5336ae421406799563d6802b45f9c": {
          "model_module": "@jupyter-widgets/base",
          "model_name": "LayoutModel",
          "model_module_version": "1.2.0",
          "state": {
            "_model_module": "@jupyter-widgets/base",
            "_model_module_version": "1.2.0",
            "_model_name": "LayoutModel",
            "_view_count": null,
            "_view_module": "@jupyter-widgets/base",
            "_view_module_version": "1.2.0",
            "_view_name": "LayoutView",
            "align_content": null,
            "align_items": null,
            "align_self": null,
            "border": null,
            "bottom": null,
            "display": null,
            "flex": null,
            "flex_flow": null,
            "grid_area": null,
            "grid_auto_columns": null,
            "grid_auto_flow": null,
            "grid_auto_rows": null,
            "grid_column": null,
            "grid_gap": null,
            "grid_row": null,
            "grid_template_areas": null,
            "grid_template_columns": null,
            "grid_template_rows": null,
            "height": null,
            "justify_content": null,
            "justify_items": null,
            "left": null,
            "margin": null,
            "max_height": null,
            "max_width": null,
            "min_height": null,
            "min_width": null,
            "object_fit": null,
            "object_position": null,
            "order": null,
            "overflow": null,
            "overflow_x": null,
            "overflow_y": null,
            "padding": null,
            "right": null,
            "top": null,
            "visibility": null,
            "width": null
          }
        },
        "6e582687ba464c029c4b6c8c2bde6c4b": {
          "model_module": "@jupyter-widgets/controls",
          "model_name": "DescriptionStyleModel",
          "model_module_version": "1.5.0",
          "state": {
            "_model_module": "@jupyter-widgets/controls",
            "_model_module_version": "1.5.0",
            "_model_name": "DescriptionStyleModel",
            "_view_count": null,
            "_view_module": "@jupyter-widgets/base",
            "_view_module_version": "1.2.0",
            "_view_name": "StyleView",
            "description_width": ""
          }
        },
        "377b941a216d49ec923c3161d21404dc": {
          "model_module": "@jupyter-widgets/controls",
          "model_name": "HBoxModel",
          "model_module_version": "1.5.0",
          "state": {
            "_dom_classes": [],
            "_model_module": "@jupyter-widgets/controls",
            "_model_module_version": "1.5.0",
            "_model_name": "HBoxModel",
            "_view_count": null,
            "_view_module": "@jupyter-widgets/controls",
            "_view_module_version": "1.5.0",
            "_view_name": "HBoxView",
            "box_style": "",
            "children": [
              "IPY_MODEL_cfe84672c90b40fbb421660a0cfe52ab",
              "IPY_MODEL_fa86d6b5a0e84ff78811fcc4c509e56e",
              "IPY_MODEL_5b0f3e1589e24ad19b0ca4b493c25f7f"
            ],
            "layout": "IPY_MODEL_18dad3bce5ed4abc893053f493ee8df1"
          }
        },
        "cfe84672c90b40fbb421660a0cfe52ab": {
          "model_module": "@jupyter-widgets/controls",
          "model_name": "HTMLModel",
          "model_module_version": "1.5.0",
          "state": {
            "_dom_classes": [],
            "_model_module": "@jupyter-widgets/controls",
            "_model_module_version": "1.5.0",
            "_model_name": "HTMLModel",
            "_view_count": null,
            "_view_module": "@jupyter-widgets/controls",
            "_view_module_version": "1.5.0",
            "_view_name": "HTMLView",
            "description": "",
            "description_tooltip": null,
            "layout": "IPY_MODEL_2ce9e3454d3a48bf82bcfaa5e574d4f9",
            "placeholder": "​",
            "style": "IPY_MODEL_50d0b6d6b3c04fbd98762215c0caac27",
            "value": "100%"
          }
        },
        "fa86d6b5a0e84ff78811fcc4c509e56e": {
          "model_module": "@jupyter-widgets/controls",
          "model_name": "FloatProgressModel",
          "model_module_version": "1.5.0",
          "state": {
            "_dom_classes": [],
            "_model_module": "@jupyter-widgets/controls",
            "_model_module_version": "1.5.0",
            "_model_name": "FloatProgressModel",
            "_view_count": null,
            "_view_module": "@jupyter-widgets/controls",
            "_view_module_version": "1.5.0",
            "_view_name": "ProgressView",
            "bar_style": "success",
            "description": "",
            "description_tooltip": null,
            "layout": "IPY_MODEL_440342c574ea432c8221785657debb04",
            "max": 3,
            "min": 0,
            "orientation": "horizontal",
            "style": "IPY_MODEL_5e23a0f459884900b1dab7977666b52e",
            "value": 3
          }
        },
        "5b0f3e1589e24ad19b0ca4b493c25f7f": {
          "model_module": "@jupyter-widgets/controls",
          "model_name": "HTMLModel",
          "model_module_version": "1.5.0",
          "state": {
            "_dom_classes": [],
            "_model_module": "@jupyter-widgets/controls",
            "_model_module_version": "1.5.0",
            "_model_name": "HTMLModel",
            "_view_count": null,
            "_view_module": "@jupyter-widgets/controls",
            "_view_module_version": "1.5.0",
            "_view_name": "HTMLView",
            "description": "",
            "description_tooltip": null,
            "layout": "IPY_MODEL_230aa9d213b64c37a33e84e20decdfbe",
            "placeholder": "​",
            "style": "IPY_MODEL_32e6bf35143c46839c7c3d5b3f4edd40",
            "value": " 3/3 [02:43&lt;00:00, 54.45s/it]"
          }
        },
        "18dad3bce5ed4abc893053f493ee8df1": {
          "model_module": "@jupyter-widgets/base",
          "model_name": "LayoutModel",
          "model_module_version": "1.2.0",
          "state": {
            "_model_module": "@jupyter-widgets/base",
            "_model_module_version": "1.2.0",
            "_model_name": "LayoutModel",
            "_view_count": null,
            "_view_module": "@jupyter-widgets/base",
            "_view_module_version": "1.2.0",
            "_view_name": "LayoutView",
            "align_content": null,
            "align_items": null,
            "align_self": null,
            "border": null,
            "bottom": null,
            "display": null,
            "flex": null,
            "flex_flow": null,
            "grid_area": null,
            "grid_auto_columns": null,
            "grid_auto_flow": null,
            "grid_auto_rows": null,
            "grid_column": null,
            "grid_gap": null,
            "grid_row": null,
            "grid_template_areas": null,
            "grid_template_columns": null,
            "grid_template_rows": null,
            "height": null,
            "justify_content": null,
            "justify_items": null,
            "left": null,
            "margin": null,
            "max_height": null,
            "max_width": null,
            "min_height": null,
            "min_width": null,
            "object_fit": null,
            "object_position": null,
            "order": null,
            "overflow": null,
            "overflow_x": null,
            "overflow_y": null,
            "padding": null,
            "right": null,
            "top": null,
            "visibility": null,
            "width": null
          }
        },
        "2ce9e3454d3a48bf82bcfaa5e574d4f9": {
          "model_module": "@jupyter-widgets/base",
          "model_name": "LayoutModel",
          "model_module_version": "1.2.0",
          "state": {
            "_model_module": "@jupyter-widgets/base",
            "_model_module_version": "1.2.0",
            "_model_name": "LayoutModel",
            "_view_count": null,
            "_view_module": "@jupyter-widgets/base",
            "_view_module_version": "1.2.0",
            "_view_name": "LayoutView",
            "align_content": null,
            "align_items": null,
            "align_self": null,
            "border": null,
            "bottom": null,
            "display": null,
            "flex": null,
            "flex_flow": null,
            "grid_area": null,
            "grid_auto_columns": null,
            "grid_auto_flow": null,
            "grid_auto_rows": null,
            "grid_column": null,
            "grid_gap": null,
            "grid_row": null,
            "grid_template_areas": null,
            "grid_template_columns": null,
            "grid_template_rows": null,
            "height": null,
            "justify_content": null,
            "justify_items": null,
            "left": null,
            "margin": null,
            "max_height": null,
            "max_width": null,
            "min_height": null,
            "min_width": null,
            "object_fit": null,
            "object_position": null,
            "order": null,
            "overflow": null,
            "overflow_x": null,
            "overflow_y": null,
            "padding": null,
            "right": null,
            "top": null,
            "visibility": null,
            "width": null
          }
        },
        "50d0b6d6b3c04fbd98762215c0caac27": {
          "model_module": "@jupyter-widgets/controls",
          "model_name": "DescriptionStyleModel",
          "model_module_version": "1.5.0",
          "state": {
            "_model_module": "@jupyter-widgets/controls",
            "_model_module_version": "1.5.0",
            "_model_name": "DescriptionStyleModel",
            "_view_count": null,
            "_view_module": "@jupyter-widgets/base",
            "_view_module_version": "1.2.0",
            "_view_name": "StyleView",
            "description_width": ""
          }
        },
        "440342c574ea432c8221785657debb04": {
          "model_module": "@jupyter-widgets/base",
          "model_name": "LayoutModel",
          "model_module_version": "1.2.0",
          "state": {
            "_model_module": "@jupyter-widgets/base",
            "_model_module_version": "1.2.0",
            "_model_name": "LayoutModel",
            "_view_count": null,
            "_view_module": "@jupyter-widgets/base",
            "_view_module_version": "1.2.0",
            "_view_name": "LayoutView",
            "align_content": null,
            "align_items": null,
            "align_self": null,
            "border": null,
            "bottom": null,
            "display": null,
            "flex": null,
            "flex_flow": null,
            "grid_area": null,
            "grid_auto_columns": null,
            "grid_auto_flow": null,
            "grid_auto_rows": null,
            "grid_column": null,
            "grid_gap": null,
            "grid_row": null,
            "grid_template_areas": null,
            "grid_template_columns": null,
            "grid_template_rows": null,
            "height": null,
            "justify_content": null,
            "justify_items": null,
            "left": null,
            "margin": null,
            "max_height": null,
            "max_width": null,
            "min_height": null,
            "min_width": null,
            "object_fit": null,
            "object_position": null,
            "order": null,
            "overflow": null,
            "overflow_x": null,
            "overflow_y": null,
            "padding": null,
            "right": null,
            "top": null,
            "visibility": null,
            "width": null
          }
        },
        "5e23a0f459884900b1dab7977666b52e": {
          "model_module": "@jupyter-widgets/controls",
          "model_name": "ProgressStyleModel",
          "model_module_version": "1.5.0",
          "state": {
            "_model_module": "@jupyter-widgets/controls",
            "_model_module_version": "1.5.0",
            "_model_name": "ProgressStyleModel",
            "_view_count": null,
            "_view_module": "@jupyter-widgets/base",
            "_view_module_version": "1.2.0",
            "_view_name": "StyleView",
            "bar_color": null,
            "description_width": ""
          }
        },
        "230aa9d213b64c37a33e84e20decdfbe": {
          "model_module": "@jupyter-widgets/base",
          "model_name": "LayoutModel",
          "model_module_version": "1.2.0",
          "state": {
            "_model_module": "@jupyter-widgets/base",
            "_model_module_version": "1.2.0",
            "_model_name": "LayoutModel",
            "_view_count": null,
            "_view_module": "@jupyter-widgets/base",
            "_view_module_version": "1.2.0",
            "_view_name": "LayoutView",
            "align_content": null,
            "align_items": null,
            "align_self": null,
            "border": null,
            "bottom": null,
            "display": null,
            "flex": null,
            "flex_flow": null,
            "grid_area": null,
            "grid_auto_columns": null,
            "grid_auto_flow": null,
            "grid_auto_rows": null,
            "grid_column": null,
            "grid_gap": null,
            "grid_row": null,
            "grid_template_areas": null,
            "grid_template_columns": null,
            "grid_template_rows": null,
            "height": null,
            "justify_content": null,
            "justify_items": null,
            "left": null,
            "margin": null,
            "max_height": null,
            "max_width": null,
            "min_height": null,
            "min_width": null,
            "object_fit": null,
            "object_position": null,
            "order": null,
            "overflow": null,
            "overflow_x": null,
            "overflow_y": null,
            "padding": null,
            "right": null,
            "top": null,
            "visibility": null,
            "width": null
          }
        },
        "32e6bf35143c46839c7c3d5b3f4edd40": {
          "model_module": "@jupyter-widgets/controls",
          "model_name": "DescriptionStyleModel",
          "model_module_version": "1.5.0",
          "state": {
            "_model_module": "@jupyter-widgets/controls",
            "_model_module_version": "1.5.0",
            "_model_name": "DescriptionStyleModel",
            "_view_count": null,
            "_view_module": "@jupyter-widgets/base",
            "_view_module_version": "1.2.0",
            "_view_name": "StyleView",
            "description_width": ""
          }
        },
        "8e598ed50abe44aaaeb8f105999ee2a5": {
          "model_module": "@jupyter-widgets/controls",
          "model_name": "HBoxModel",
          "model_module_version": "1.5.0",
          "state": {
            "_dom_classes": [],
            "_model_module": "@jupyter-widgets/controls",
            "_model_module_version": "1.5.0",
            "_model_name": "HBoxModel",
            "_view_count": null,
            "_view_module": "@jupyter-widgets/controls",
            "_view_module_version": "1.5.0",
            "_view_name": "HBoxView",
            "box_style": "",
            "children": [
              "IPY_MODEL_1bd3c9a7ebd447468a41668795d90157",
              "IPY_MODEL_87dfe6182c804d0a8846d769f724eb1b",
              "IPY_MODEL_8f22a176911f492a89384322540b426e"
            ],
            "layout": "IPY_MODEL_87d1b66f8a4b4c82bc8f4f4fdd330b51"
          }
        },
        "1bd3c9a7ebd447468a41668795d90157": {
          "model_module": "@jupyter-widgets/controls",
          "model_name": "HTMLModel",
          "model_module_version": "1.5.0",
          "state": {
            "_dom_classes": [],
            "_model_module": "@jupyter-widgets/controls",
            "_model_module_version": "1.5.0",
            "_model_name": "HTMLModel",
            "_view_count": null,
            "_view_module": "@jupyter-widgets/controls",
            "_view_module_version": "1.5.0",
            "_view_name": "HTMLView",
            "description": "",
            "description_tooltip": null,
            "layout": "IPY_MODEL_b7c4ee00c8134f8f8a9aaa26e0a12f7b",
            "placeholder": "​",
            "style": "IPY_MODEL_d7097ebef45148fa8b6559174258b2a1",
            "value": "Making predictions...: 100%"
          }
        },
        "87dfe6182c804d0a8846d769f724eb1b": {
          "model_module": "@jupyter-widgets/controls",
          "model_name": "FloatProgressModel",
          "model_module_version": "1.5.0",
          "state": {
            "_dom_classes": [],
            "_model_module": "@jupyter-widgets/controls",
            "_model_module_version": "1.5.0",
            "_model_name": "FloatProgressModel",
            "_view_count": null,
            "_view_module": "@jupyter-widgets/controls",
            "_view_module_version": "1.5.0",
            "_view_name": "ProgressView",
            "bar_style": "success",
            "description": "",
            "description_tooltip": null,
            "layout": "IPY_MODEL_cbb21718371443ea885650fb3e77c2a0",
            "max": 313,
            "min": 0,
            "orientation": "horizontal",
            "style": "IPY_MODEL_c9f5596f7511421dbb1ac6a04cf7984e",
            "value": 313
          }
        },
        "8f22a176911f492a89384322540b426e": {
          "model_module": "@jupyter-widgets/controls",
          "model_name": "HTMLModel",
          "model_module_version": "1.5.0",
          "state": {
            "_dom_classes": [],
            "_model_module": "@jupyter-widgets/controls",
            "_model_module_version": "1.5.0",
            "_model_name": "HTMLModel",
            "_view_count": null,
            "_view_module": "@jupyter-widgets/controls",
            "_view_module_version": "1.5.0",
            "_view_name": "HTMLView",
            "description": "",
            "description_tooltip": null,
            "layout": "IPY_MODEL_b07beddb87f340588af7ca92c9c305ad",
            "placeholder": "​",
            "style": "IPY_MODEL_4c8c15d3b9ac4f6e8cea2eaa3f75e524",
            "value": " 313/313 [00:04&lt;00:00, 72.32it/s]"
          }
        },
        "87d1b66f8a4b4c82bc8f4f4fdd330b51": {
          "model_module": "@jupyter-widgets/base",
          "model_name": "LayoutModel",
          "model_module_version": "1.2.0",
          "state": {
            "_model_module": "@jupyter-widgets/base",
            "_model_module_version": "1.2.0",
            "_model_name": "LayoutModel",
            "_view_count": null,
            "_view_module": "@jupyter-widgets/base",
            "_view_module_version": "1.2.0",
            "_view_name": "LayoutView",
            "align_content": null,
            "align_items": null,
            "align_self": null,
            "border": null,
            "bottom": null,
            "display": null,
            "flex": null,
            "flex_flow": null,
            "grid_area": null,
            "grid_auto_columns": null,
            "grid_auto_flow": null,
            "grid_auto_rows": null,
            "grid_column": null,
            "grid_gap": null,
            "grid_row": null,
            "grid_template_areas": null,
            "grid_template_columns": null,
            "grid_template_rows": null,
            "height": null,
            "justify_content": null,
            "justify_items": null,
            "left": null,
            "margin": null,
            "max_height": null,
            "max_width": null,
            "min_height": null,
            "min_width": null,
            "object_fit": null,
            "object_position": null,
            "order": null,
            "overflow": null,
            "overflow_x": null,
            "overflow_y": null,
            "padding": null,
            "right": null,
            "top": null,
            "visibility": null,
            "width": null
          }
        },
        "b7c4ee00c8134f8f8a9aaa26e0a12f7b": {
          "model_module": "@jupyter-widgets/base",
          "model_name": "LayoutModel",
          "model_module_version": "1.2.0",
          "state": {
            "_model_module": "@jupyter-widgets/base",
            "_model_module_version": "1.2.0",
            "_model_name": "LayoutModel",
            "_view_count": null,
            "_view_module": "@jupyter-widgets/base",
            "_view_module_version": "1.2.0",
            "_view_name": "LayoutView",
            "align_content": null,
            "align_items": null,
            "align_self": null,
            "border": null,
            "bottom": null,
            "display": null,
            "flex": null,
            "flex_flow": null,
            "grid_area": null,
            "grid_auto_columns": null,
            "grid_auto_flow": null,
            "grid_auto_rows": null,
            "grid_column": null,
            "grid_gap": null,
            "grid_row": null,
            "grid_template_areas": null,
            "grid_template_columns": null,
            "grid_template_rows": null,
            "height": null,
            "justify_content": null,
            "justify_items": null,
            "left": null,
            "margin": null,
            "max_height": null,
            "max_width": null,
            "min_height": null,
            "min_width": null,
            "object_fit": null,
            "object_position": null,
            "order": null,
            "overflow": null,
            "overflow_x": null,
            "overflow_y": null,
            "padding": null,
            "right": null,
            "top": null,
            "visibility": null,
            "width": null
          }
        },
        "d7097ebef45148fa8b6559174258b2a1": {
          "model_module": "@jupyter-widgets/controls",
          "model_name": "DescriptionStyleModel",
          "model_module_version": "1.5.0",
          "state": {
            "_model_module": "@jupyter-widgets/controls",
            "_model_module_version": "1.5.0",
            "_model_name": "DescriptionStyleModel",
            "_view_count": null,
            "_view_module": "@jupyter-widgets/base",
            "_view_module_version": "1.2.0",
            "_view_name": "StyleView",
            "description_width": ""
          }
        },
        "cbb21718371443ea885650fb3e77c2a0": {
          "model_module": "@jupyter-widgets/base",
          "model_name": "LayoutModel",
          "model_module_version": "1.2.0",
          "state": {
            "_model_module": "@jupyter-widgets/base",
            "_model_module_version": "1.2.0",
            "_model_name": "LayoutModel",
            "_view_count": null,
            "_view_module": "@jupyter-widgets/base",
            "_view_module_version": "1.2.0",
            "_view_name": "LayoutView",
            "align_content": null,
            "align_items": null,
            "align_self": null,
            "border": null,
            "bottom": null,
            "display": null,
            "flex": null,
            "flex_flow": null,
            "grid_area": null,
            "grid_auto_columns": null,
            "grid_auto_flow": null,
            "grid_auto_rows": null,
            "grid_column": null,
            "grid_gap": null,
            "grid_row": null,
            "grid_template_areas": null,
            "grid_template_columns": null,
            "grid_template_rows": null,
            "height": null,
            "justify_content": null,
            "justify_items": null,
            "left": null,
            "margin": null,
            "max_height": null,
            "max_width": null,
            "min_height": null,
            "min_width": null,
            "object_fit": null,
            "object_position": null,
            "order": null,
            "overflow": null,
            "overflow_x": null,
            "overflow_y": null,
            "padding": null,
            "right": null,
            "top": null,
            "visibility": null,
            "width": null
          }
        },
        "c9f5596f7511421dbb1ac6a04cf7984e": {
          "model_module": "@jupyter-widgets/controls",
          "model_name": "ProgressStyleModel",
          "model_module_version": "1.5.0",
          "state": {
            "_model_module": "@jupyter-widgets/controls",
            "_model_module_version": "1.5.0",
            "_model_name": "ProgressStyleModel",
            "_view_count": null,
            "_view_module": "@jupyter-widgets/base",
            "_view_module_version": "1.2.0",
            "_view_name": "StyleView",
            "bar_color": null,
            "description_width": ""
          }
        },
        "b07beddb87f340588af7ca92c9c305ad": {
          "model_module": "@jupyter-widgets/base",
          "model_name": "LayoutModel",
          "model_module_version": "1.2.0",
          "state": {
            "_model_module": "@jupyter-widgets/base",
            "_model_module_version": "1.2.0",
            "_model_name": "LayoutModel",
            "_view_count": null,
            "_view_module": "@jupyter-widgets/base",
            "_view_module_version": "1.2.0",
            "_view_name": "LayoutView",
            "align_content": null,
            "align_items": null,
            "align_self": null,
            "border": null,
            "bottom": null,
            "display": null,
            "flex": null,
            "flex_flow": null,
            "grid_area": null,
            "grid_auto_columns": null,
            "grid_auto_flow": null,
            "grid_auto_rows": null,
            "grid_column": null,
            "grid_gap": null,
            "grid_row": null,
            "grid_template_areas": null,
            "grid_template_columns": null,
            "grid_template_rows": null,
            "height": null,
            "justify_content": null,
            "justify_items": null,
            "left": null,
            "margin": null,
            "max_height": null,
            "max_width": null,
            "min_height": null,
            "min_width": null,
            "object_fit": null,
            "object_position": null,
            "order": null,
            "overflow": null,
            "overflow_x": null,
            "overflow_y": null,
            "padding": null,
            "right": null,
            "top": null,
            "visibility": null,
            "width": null
          }
        },
        "4c8c15d3b9ac4f6e8cea2eaa3f75e524": {
          "model_module": "@jupyter-widgets/controls",
          "model_name": "DescriptionStyleModel",
          "model_module_version": "1.5.0",
          "state": {
            "_model_module": "@jupyter-widgets/controls",
            "_model_module_version": "1.5.0",
            "_model_name": "DescriptionStyleModel",
            "_view_count": null,
            "_view_module": "@jupyter-widgets/base",
            "_view_module_version": "1.2.0",
            "_view_name": "StyleView",
            "description_width": ""
          }
        }
      }
    }
  },
  "cells": [
    {
      "cell_type": "markdown",
      "source": [
        "# PyTorch Computer Vision\n",
        "\n"
      ],
      "metadata": {
        "id": "0KZNfiHmjxgd"
      }
    },
    {
      "cell_type": "markdown",
      "source": [
        "## 0. Computer Vision Libraries in PyTorch\n",
        "\n",
        "* **torchvision**\n",
        "* **torchvision.datasets** - get datasets and data loading functions for computer vision.\n",
        "* **torchvision.models** - get pretrained computer vision models taht you leverage for your own problems.\n",
        "* **torchvision.transforms** - functions for manipulating your vision data (images) to be suitable for use with an  ML model.\n",
        "* **torch.utils.data.Dataset** - Base dataset class for PyTorch.\n",
        "* **torch.utils.data.DataLoader** - Creates a Python iterable over a dataset."
      ],
      "metadata": {
        "id": "PzBCnc0Ej7Zt"
      }
    },
    {
      "cell_type": "code",
      "execution_count": 239,
      "metadata": {
        "colab": {
          "base_uri": "https://localhost:8080/"
        },
        "id": "tSw-3M89z7fz",
        "outputId": "66a62515-26ed-4279-b490-7827ff1748c0"
      },
      "outputs": [
        {
          "output_type": "stream",
          "name": "stdout",
          "text": [
            "2.3.1+cu121\n",
            "0.18.1+cu121\n"
          ]
        }
      ],
      "source": [
        "import torch\n",
        "from torch import nn\n",
        "\n",
        "import torchvision\n",
        "from torchvision import datasets\n",
        "from torchvision import transforms\n",
        "from torchvision.transforms import ToTensor\n",
        "\n",
        "import matplotlib.pyplot as plt\n",
        "\n",
        "print(torch.__version__)\n",
        "print(torchvision.__version__)"
      ]
    },
    {
      "cell_type": "markdown",
      "source": [
        "## 1. Getting a dataset\n",
        "\n",
        "Dataset - FashionMNIST from torchvision.datasets."
      ],
      "metadata": {
        "id": "b3uqLJu9mRvM"
      }
    },
    {
      "cell_type": "code",
      "source": [
        "# Setup training data\n",
        "train_data = datasets.FashionMNIST(\n",
        "    root=\"data\", # where to download the data to?\n",
        "    train = True, # do we want the training dataset\n",
        "    download=True, # do we want to download yes/no?\n",
        "    transform = torchvision.transforms.ToTensor(), # how do we transform the data?\n",
        "    target_transform=None # how do wetransform the labels/targets?\n",
        "    )\n",
        "\n",
        "# Setup test data\n",
        "test_data = datasets.FashionMNIST(\n",
        "    root=\"data\", # where to download the data to?\n",
        "    train = False, # do we want the training dataset\n",
        "    download=True, # do we want to download yes/no?\n",
        "    transform = torchvision.transforms.ToTensor(), # how do we transform the data?\n",
        "    target_transform=None # how do wetransform the labels/targets?\n",
        "    )"
      ],
      "metadata": {
        "id": "OR610qIzmChD"
      },
      "execution_count": 240,
      "outputs": []
    },
    {
      "cell_type": "code",
      "source": [
        "train_data"
      ],
      "metadata": {
        "colab": {
          "base_uri": "https://localhost:8080/"
        },
        "id": "GvNKrbCnoXfW",
        "outputId": "db0acf9a-6486-415e-de72-ec7e51a022ad"
      },
      "execution_count": 241,
      "outputs": [
        {
          "output_type": "execute_result",
          "data": {
            "text/plain": [
              "Dataset FashionMNIST\n",
              "    Number of datapoints: 60000\n",
              "    Root location: data\n",
              "    Split: Train\n",
              "    StandardTransform\n",
              "Transform: ToTensor()"
            ]
          },
          "metadata": {},
          "execution_count": 241
        }
      ]
    },
    {
      "cell_type": "code",
      "source": [
        "test_data"
      ],
      "metadata": {
        "colab": {
          "base_uri": "https://localhost:8080/"
        },
        "id": "stZJxU0UohgY",
        "outputId": "7aa7c03b-77dc-4033-b3e6-98646a3ec5a7"
      },
      "execution_count": 242,
      "outputs": [
        {
          "output_type": "execute_result",
          "data": {
            "text/plain": [
              "Dataset FashionMNIST\n",
              "    Number of datapoints: 10000\n",
              "    Root location: data\n",
              "    Split: Test\n",
              "    StandardTransform\n",
              "Transform: ToTensor()"
            ]
          },
          "metadata": {},
          "execution_count": 242
        }
      ]
    },
    {
      "cell_type": "code",
      "source": [
        "# See the first training example\n",
        "image, label = train_data[0]\n",
        "image, label"
      ],
      "metadata": {
        "colab": {
          "base_uri": "https://localhost:8080/"
        },
        "id": "HGUNBkZiotj1",
        "outputId": "5d7860fc-720b-4cf3-e03e-e7d1f2306442"
      },
      "execution_count": 243,
      "outputs": [
        {
          "output_type": "execute_result",
          "data": {
            "text/plain": [
              "(tensor([[[0.0000, 0.0000, 0.0000, 0.0000, 0.0000, 0.0000, 0.0000, 0.0000,\n",
              "           0.0000, 0.0000, 0.0000, 0.0000, 0.0000, 0.0000, 0.0000, 0.0000,\n",
              "           0.0000, 0.0000, 0.0000, 0.0000, 0.0000, 0.0000, 0.0000, 0.0000,\n",
              "           0.0000, 0.0000, 0.0000, 0.0000],\n",
              "          [0.0000, 0.0000, 0.0000, 0.0000, 0.0000, 0.0000, 0.0000, 0.0000,\n",
              "           0.0000, 0.0000, 0.0000, 0.0000, 0.0000, 0.0000, 0.0000, 0.0000,\n",
              "           0.0000, 0.0000, 0.0000, 0.0000, 0.0000, 0.0000, 0.0000, 0.0000,\n",
              "           0.0000, 0.0000, 0.0000, 0.0000],\n",
              "          [0.0000, 0.0000, 0.0000, 0.0000, 0.0000, 0.0000, 0.0000, 0.0000,\n",
              "           0.0000, 0.0000, 0.0000, 0.0000, 0.0000, 0.0000, 0.0000, 0.0000,\n",
              "           0.0000, 0.0000, 0.0000, 0.0000, 0.0000, 0.0000, 0.0000, 0.0000,\n",
              "           0.0000, 0.0000, 0.0000, 0.0000],\n",
              "          [0.0000, 0.0000, 0.0000, 0.0000, 0.0000, 0.0000, 0.0000, 0.0000,\n",
              "           0.0000, 0.0000, 0.0000, 0.0000, 0.0039, 0.0000, 0.0000, 0.0510,\n",
              "           0.2863, 0.0000, 0.0000, 0.0039, 0.0157, 0.0000, 0.0000, 0.0000,\n",
              "           0.0000, 0.0039, 0.0039, 0.0000],\n",
              "          [0.0000, 0.0000, 0.0000, 0.0000, 0.0000, 0.0000, 0.0000, 0.0000,\n",
              "           0.0000, 0.0000, 0.0000, 0.0000, 0.0118, 0.0000, 0.1412, 0.5333,\n",
              "           0.4980, 0.2431, 0.2118, 0.0000, 0.0000, 0.0000, 0.0039, 0.0118,\n",
              "           0.0157, 0.0000, 0.0000, 0.0118],\n",
              "          [0.0000, 0.0000, 0.0000, 0.0000, 0.0000, 0.0000, 0.0000, 0.0000,\n",
              "           0.0000, 0.0000, 0.0000, 0.0000, 0.0235, 0.0000, 0.4000, 0.8000,\n",
              "           0.6902, 0.5255, 0.5647, 0.4824, 0.0902, 0.0000, 0.0000, 0.0000,\n",
              "           0.0000, 0.0471, 0.0392, 0.0000],\n",
              "          [0.0000, 0.0000, 0.0000, 0.0000, 0.0000, 0.0000, 0.0000, 0.0000,\n",
              "           0.0000, 0.0000, 0.0000, 0.0000, 0.0000, 0.0000, 0.6078, 0.9255,\n",
              "           0.8118, 0.6980, 0.4196, 0.6118, 0.6314, 0.4275, 0.2510, 0.0902,\n",
              "           0.3020, 0.5098, 0.2824, 0.0588],\n",
              "          [0.0000, 0.0000, 0.0000, 0.0000, 0.0000, 0.0000, 0.0000, 0.0000,\n",
              "           0.0000, 0.0000, 0.0000, 0.0039, 0.0000, 0.2706, 0.8118, 0.8745,\n",
              "           0.8549, 0.8471, 0.8471, 0.6392, 0.4980, 0.4745, 0.4784, 0.5725,\n",
              "           0.5529, 0.3451, 0.6745, 0.2588],\n",
              "          [0.0000, 0.0000, 0.0000, 0.0000, 0.0000, 0.0000, 0.0000, 0.0000,\n",
              "           0.0000, 0.0039, 0.0039, 0.0039, 0.0000, 0.7843, 0.9098, 0.9098,\n",
              "           0.9137, 0.8980, 0.8745, 0.8745, 0.8431, 0.8353, 0.6431, 0.4980,\n",
              "           0.4824, 0.7686, 0.8980, 0.0000],\n",
              "          [0.0000, 0.0000, 0.0000, 0.0000, 0.0000, 0.0000, 0.0000, 0.0000,\n",
              "           0.0000, 0.0000, 0.0000, 0.0000, 0.0000, 0.7176, 0.8824, 0.8471,\n",
              "           0.8745, 0.8941, 0.9216, 0.8902, 0.8784, 0.8706, 0.8784, 0.8667,\n",
              "           0.8745, 0.9608, 0.6784, 0.0000],\n",
              "          [0.0000, 0.0000, 0.0000, 0.0000, 0.0000, 0.0000, 0.0000, 0.0000,\n",
              "           0.0000, 0.0000, 0.0000, 0.0000, 0.0000, 0.7569, 0.8941, 0.8549,\n",
              "           0.8353, 0.7765, 0.7059, 0.8314, 0.8235, 0.8275, 0.8353, 0.8745,\n",
              "           0.8627, 0.9529, 0.7922, 0.0000],\n",
              "          [0.0000, 0.0000, 0.0000, 0.0000, 0.0000, 0.0000, 0.0000, 0.0000,\n",
              "           0.0000, 0.0039, 0.0118, 0.0000, 0.0471, 0.8588, 0.8627, 0.8314,\n",
              "           0.8549, 0.7529, 0.6627, 0.8902, 0.8157, 0.8549, 0.8784, 0.8314,\n",
              "           0.8863, 0.7725, 0.8196, 0.2039],\n",
              "          [0.0000, 0.0000, 0.0000, 0.0000, 0.0000, 0.0000, 0.0000, 0.0000,\n",
              "           0.0000, 0.0000, 0.0235, 0.0000, 0.3882, 0.9569, 0.8706, 0.8627,\n",
              "           0.8549, 0.7961, 0.7765, 0.8667, 0.8431, 0.8353, 0.8706, 0.8627,\n",
              "           0.9608, 0.4667, 0.6549, 0.2196],\n",
              "          [0.0000, 0.0000, 0.0000, 0.0000, 0.0000, 0.0000, 0.0000, 0.0000,\n",
              "           0.0000, 0.0157, 0.0000, 0.0000, 0.2157, 0.9255, 0.8941, 0.9020,\n",
              "           0.8941, 0.9412, 0.9098, 0.8353, 0.8549, 0.8745, 0.9176, 0.8510,\n",
              "           0.8510, 0.8196, 0.3608, 0.0000],\n",
              "          [0.0000, 0.0000, 0.0039, 0.0157, 0.0235, 0.0275, 0.0078, 0.0000,\n",
              "           0.0000, 0.0000, 0.0000, 0.0000, 0.9294, 0.8863, 0.8510, 0.8745,\n",
              "           0.8706, 0.8588, 0.8706, 0.8667, 0.8471, 0.8745, 0.8980, 0.8431,\n",
              "           0.8549, 1.0000, 0.3020, 0.0000],\n",
              "          [0.0000, 0.0118, 0.0000, 0.0000, 0.0000, 0.0000, 0.0000, 0.0000,\n",
              "           0.0000, 0.2431, 0.5686, 0.8000, 0.8941, 0.8118, 0.8353, 0.8667,\n",
              "           0.8549, 0.8157, 0.8275, 0.8549, 0.8784, 0.8745, 0.8588, 0.8431,\n",
              "           0.8784, 0.9569, 0.6235, 0.0000],\n",
              "          [0.0000, 0.0000, 0.0000, 0.0000, 0.0706, 0.1725, 0.3216, 0.4196,\n",
              "           0.7412, 0.8941, 0.8627, 0.8706, 0.8510, 0.8863, 0.7843, 0.8039,\n",
              "           0.8275, 0.9020, 0.8784, 0.9176, 0.6902, 0.7373, 0.9804, 0.9725,\n",
              "           0.9137, 0.9333, 0.8431, 0.0000],\n",
              "          [0.0000, 0.2235, 0.7333, 0.8157, 0.8784, 0.8667, 0.8784, 0.8157,\n",
              "           0.8000, 0.8392, 0.8157, 0.8196, 0.7843, 0.6235, 0.9608, 0.7569,\n",
              "           0.8078, 0.8745, 1.0000, 1.0000, 0.8667, 0.9176, 0.8667, 0.8275,\n",
              "           0.8627, 0.9098, 0.9647, 0.0000],\n",
              "          [0.0118, 0.7922, 0.8941, 0.8784, 0.8667, 0.8275, 0.8275, 0.8392,\n",
              "           0.8039, 0.8039, 0.8039, 0.8627, 0.9412, 0.3137, 0.5882, 1.0000,\n",
              "           0.8980, 0.8667, 0.7373, 0.6039, 0.7490, 0.8235, 0.8000, 0.8196,\n",
              "           0.8706, 0.8941, 0.8824, 0.0000],\n",
              "          [0.3843, 0.9137, 0.7765, 0.8235, 0.8706, 0.8980, 0.8980, 0.9176,\n",
              "           0.9765, 0.8627, 0.7608, 0.8431, 0.8510, 0.9451, 0.2549, 0.2863,\n",
              "           0.4157, 0.4588, 0.6588, 0.8588, 0.8667, 0.8431, 0.8510, 0.8745,\n",
              "           0.8745, 0.8784, 0.8980, 0.1137],\n",
              "          [0.2941, 0.8000, 0.8314, 0.8000, 0.7569, 0.8039, 0.8275, 0.8824,\n",
              "           0.8471, 0.7255, 0.7725, 0.8078, 0.7765, 0.8353, 0.9412, 0.7647,\n",
              "           0.8902, 0.9608, 0.9373, 0.8745, 0.8549, 0.8314, 0.8196, 0.8706,\n",
              "           0.8627, 0.8667, 0.9020, 0.2627],\n",
              "          [0.1882, 0.7961, 0.7176, 0.7608, 0.8353, 0.7725, 0.7255, 0.7451,\n",
              "           0.7608, 0.7529, 0.7922, 0.8392, 0.8588, 0.8667, 0.8627, 0.9255,\n",
              "           0.8824, 0.8471, 0.7804, 0.8078, 0.7294, 0.7098, 0.6941, 0.6745,\n",
              "           0.7098, 0.8039, 0.8078, 0.4510],\n",
              "          [0.0000, 0.4784, 0.8588, 0.7569, 0.7020, 0.6706, 0.7176, 0.7686,\n",
              "           0.8000, 0.8235, 0.8353, 0.8118, 0.8275, 0.8235, 0.7843, 0.7686,\n",
              "           0.7608, 0.7490, 0.7647, 0.7490, 0.7765, 0.7529, 0.6902, 0.6118,\n",
              "           0.6549, 0.6941, 0.8235, 0.3608],\n",
              "          [0.0000, 0.0000, 0.2902, 0.7412, 0.8314, 0.7490, 0.6863, 0.6745,\n",
              "           0.6863, 0.7098, 0.7255, 0.7373, 0.7412, 0.7373, 0.7569, 0.7765,\n",
              "           0.8000, 0.8196, 0.8235, 0.8235, 0.8275, 0.7373, 0.7373, 0.7608,\n",
              "           0.7529, 0.8471, 0.6667, 0.0000],\n",
              "          [0.0078, 0.0000, 0.0000, 0.0000, 0.2588, 0.7843, 0.8706, 0.9294,\n",
              "           0.9373, 0.9490, 0.9647, 0.9529, 0.9569, 0.8667, 0.8627, 0.7569,\n",
              "           0.7490, 0.7020, 0.7137, 0.7137, 0.7098, 0.6902, 0.6510, 0.6588,\n",
              "           0.3882, 0.2275, 0.0000, 0.0000],\n",
              "          [0.0000, 0.0000, 0.0000, 0.0000, 0.0000, 0.0000, 0.0000, 0.1569,\n",
              "           0.2392, 0.1725, 0.2824, 0.1608, 0.1373, 0.0000, 0.0000, 0.0000,\n",
              "           0.0000, 0.0000, 0.0000, 0.0000, 0.0000, 0.0000, 0.0000, 0.0000,\n",
              "           0.0000, 0.0000, 0.0000, 0.0000],\n",
              "          [0.0000, 0.0000, 0.0000, 0.0000, 0.0000, 0.0000, 0.0000, 0.0000,\n",
              "           0.0000, 0.0000, 0.0000, 0.0000, 0.0000, 0.0000, 0.0000, 0.0000,\n",
              "           0.0000, 0.0000, 0.0000, 0.0000, 0.0000, 0.0000, 0.0000, 0.0000,\n",
              "           0.0000, 0.0000, 0.0000, 0.0000],\n",
              "          [0.0000, 0.0000, 0.0000, 0.0000, 0.0000, 0.0000, 0.0000, 0.0000,\n",
              "           0.0000, 0.0000, 0.0000, 0.0000, 0.0000, 0.0000, 0.0000, 0.0000,\n",
              "           0.0000, 0.0000, 0.0000, 0.0000, 0.0000, 0.0000, 0.0000, 0.0000,\n",
              "           0.0000, 0.0000, 0.0000, 0.0000]]]),\n",
              " 9)"
            ]
          },
          "metadata": {},
          "execution_count": 243
        }
      ]
    },
    {
      "cell_type": "code",
      "source": [
        "class_names = train_data.classes"
      ],
      "metadata": {
        "id": "_HKkWmzopAJc"
      },
      "execution_count": 244,
      "outputs": []
    },
    {
      "cell_type": "code",
      "source": [
        "class_to_idx = train_data.class_to_idx"
      ],
      "metadata": {
        "id": "muSgdG0qpnJn"
      },
      "execution_count": 245,
      "outputs": []
    },
    {
      "cell_type": "markdown",
      "source": [
        "### 1.1 Check input and output shapes of data"
      ],
      "metadata": {
        "id": "n5mxlIkwrzZf"
      }
    },
    {
      "cell_type": "code",
      "source": [
        "# Check the shape of our image\n",
        "print(f\"Image Shape: {image.shape} -> [color_channels, height, width]\")\n",
        "print(f\"Image label: {class_names[label]}\")"
      ],
      "metadata": {
        "colab": {
          "base_uri": "https://localhost:8080/"
        },
        "id": "D3hZrA4qpwGB",
        "outputId": "d8c54fd7-ffe4-45d3-a2a7-8cb69a98b137"
      },
      "execution_count": 246,
      "outputs": [
        {
          "output_type": "stream",
          "name": "stdout",
          "text": [
            "Image Shape: torch.Size([1, 28, 28]) -> [color_channels, height, width]\n",
            "Image label: Ankle boot\n"
          ]
        }
      ]
    },
    {
      "cell_type": "markdown",
      "source": [
        "### 1.2 Visualize out data"
      ],
      "metadata": {
        "id": "NcAJW_HKrsCp"
      }
    },
    {
      "cell_type": "code",
      "source": [
        "image, label = train_data[0]\n",
        "print(f\"Image shape: {image.shape}\")\n",
        "plt.imshow(image.squeeze())\n",
        "plt.title(label)"
      ],
      "metadata": {
        "colab": {
          "base_uri": "https://localhost:8080/",
          "height": 487
        },
        "id": "XNR6ZtlKp80X",
        "outputId": "f075d2e0-89b7-4bc6-9f23-21d1fd853d6d"
      },
      "execution_count": 247,
      "outputs": [
        {
          "output_type": "stream",
          "name": "stdout",
          "text": [
            "Image shape: torch.Size([1, 28, 28])\n"
          ]
        },
        {
          "output_type": "execute_result",
          "data": {
            "text/plain": [
              "Text(0.5, 1.0, '9')"
            ]
          },
          "metadata": {},
          "execution_count": 247
        },
        {
          "output_type": "display_data",
          "data": {
            "text/plain": [
              "<Figure size 640x480 with 1 Axes>"
            ],
            "image/png": "[encoded data removed]"
          },
          "metadata": {}
        }
      ]
    },
    {
      "cell_type": "code",
      "source": [
        "plt.imshow(image.squeeze(), cmap=\"gray\")\n",
        "plt.title(class_names[label])\n",
        "plt.axis(False)"
      ],
      "metadata": {
        "colab": {
          "base_uri": "https://localhost:8080/",
          "height": 445
        },
        "id": "a4AYupCCrUhb",
        "outputId": "2a185c54-91f2-4a0b-f689-a166b1d62607"
      },
      "execution_count": 248,
      "outputs": [
        {
          "output_type": "execute_result",
          "data": {
            "text/plain": [
              "(-0.5, 27.5, 27.5, -0.5)"
            ]
          },
          "metadata": {},
          "execution_count": 248
        },
        {
          "output_type": "display_data",
          "data": {
            "text/plain": [
              "<Figure size 640x480 with 1 Axes>"
            ],
            "image/png": "[encoded data removed]"
          },
          "metadata": {}
        }
      ]
    },
    {
      "cell_type": "code",
      "source": [
        "# Plot more images\n",
        "# torch.manual_seed(42)\n",
        "fig = plt.figure(figsize=(9,9))\n",
        "rows, cols = 4, 4\n",
        "for i in range(1, rows*cols+1):\n",
        "  random_idx = torch.randint(0, len(train_data), size=[1]).item()\n",
        "  img, label = train_data[random_idx]\n",
        "  fig.add_subplot(rows, cols, i)\n",
        "  plt.imshow(img.squeeze(), cmap=\"gray\")\n",
        "  plt.title(class_names[label])\n",
        "  plt.axis(False)"
      ],
      "metadata": {
        "colab": {
          "base_uri": "https://localhost:8080/",
          "height": 663
        },
        "id": "mT19HVgRr71e",
        "outputId": "4857006f-dd71-4481-c154-e6c8273eebfe"
      },
      "execution_count": 249,
      "outputs": [
        {
          "output_type": "display_data",
          "data": {
            "text/plain": [
              "<Figure size 900x900 with 16 Axes>"
            ],
            "image/png": "[encoded data removed]"
          },
          "metadata": {}
        }
      ]
    },
    {
      "cell_type": "markdown",
      "source": [
        "Linearity or Non-linearity?"
      ],
      "metadata": {
        "id": "zW7ISJSWyCFv"
      }
    },
    {
      "cell_type": "markdown",
      "source": [
        "## 2. Prepare DataLoader\n",
        "\n",
        "Right now, data is in the form of PyTorch Datasets.\n",
        "\n",
        "DataLoader turns our dataset into python iterable.\n",
        "\n",
        "More specifically, we want to turn our data into batches or mini-batches.\n",
        "\n",
        "Why?\n",
        "\n",
        "1. It is computationally efficient.\n",
        "2. It gives our neural network more chances to update it's gradient per epoch."
      ],
      "metadata": {
        "id": "UUEdUs7vyK9U"
      }
    },
    {
      "cell_type": "code",
      "source": [
        "from torch.utils.data import DataLoader\n",
        "\n",
        "# Setup the batch size hyperparameter\n",
        "BATCH_SIZE = 32\n",
        "\n",
        "# Turn datasets into iterable (batches)\n",
        "train_dataloader = DataLoader(dataset=train_data,\n",
        "                              batch_size=BATCH_SIZE,\n",
        "                              shuffle=True)\n",
        "\n",
        "test_dataloader = DataLoader(dataset=test_data,\n",
        "                             batch_size=BATCH_SIZE,\n",
        "                             shuffle=False)\n",
        "\n",
        "train_dataloader, test_dataloader"
      ],
      "metadata": {
        "colab": {
          "base_uri": "https://localhost:8080/"
        },
        "id": "wMDqArlLr7wc",
        "outputId": "3ea2c17e-4b9a-4c77-d08e-65982769732f"
      },
      "execution_count": 250,
      "outputs": [
        {
          "output_type": "execute_result",
          "data": {
            "text/plain": [
              "(<torch.utils.data.dataloader.DataLoader at 0x7e34f6756a40>,\n",
              " <torch.utils.data.dataloader.DataLoader at 0x7e34f6754370>)"
            ]
          },
          "metadata": {},
          "execution_count": 250
        }
      ]
    },
    {
      "cell_type": "code",
      "source": [
        "print(f\"Dataloaders: {train_dataloader, test_dataloader}\")\n",
        "print(f\"Length of train dataloader: {len(train_dataloader)} batches of {BATCH_SIZE}..\")\n",
        "print(f\"Length of test dataloader: {len(test_dataloader)} batches of {BATCH_SIZE}..\")"
      ],
      "metadata": {
        "colab": {
          "base_uri": "https://localhost:8080/"
        },
        "id": "JhKos_k5r7fH",
        "outputId": "1f3a31fd-f72e-483a-8e2c-6b345ac19490"
      },
      "execution_count": 251,
      "outputs": [
        {
          "output_type": "stream",
          "name": "stdout",
          "text": [
            "Dataloaders: (<torch.utils.data.dataloader.DataLoader object at 0x7e34f6756a40>, <torch.utils.data.dataloader.DataLoader object at 0x7e34f6754370>)\n",
            "Length of train dataloader: 1875 batches of 32..\n",
            "Length of test dataloader: 313 batches of 32..\n"
          ]
        }
      ]
    },
    {
      "cell_type": "code",
      "source": [
        "10000/32"
      ],
      "metadata": {
        "colab": {
          "base_uri": "https://localhost:8080/"
        },
        "id": "Aw1OKBRqr7bC",
        "outputId": "a15ccb7d-6af6-4550-b2ce-fb1901246de2"
      },
      "execution_count": 252,
      "outputs": [
        {
          "output_type": "execute_result",
          "data": {
            "text/plain": [
              "312.5"
            ]
          },
          "metadata": {},
          "execution_count": 252
        }
      ]
    },
    {
      "cell_type": "code",
      "source": [
        "train_features_batch, train_labels_batch = next(iter(train_dataloader))\n",
        "train_features_batch.shape, train_labels_batch.shape"
      ],
      "metadata": {
        "colab": {
          "base_uri": "https://localhost:8080/"
        },
        "id": "2P5sS3X82Vo7",
        "outputId": "68327749-dedc-4fb1-965d-9540a4490c3c"
      },
      "execution_count": 253,
      "outputs": [
        {
          "output_type": "execute_result",
          "data": {
            "text/plain": [
              "(torch.Size([32, 1, 28, 28]), torch.Size([32]))"
            ]
          },
          "metadata": {},
          "execution_count": 253
        }
      ]
    },
    {
      "cell_type": "code",
      "source": [
        "# Show a sample\n",
        "# torch.manual_seed(42)\n",
        "random_idx = torch.randint(0, len(train_features_batch), size=[1]).item()\n",
        "img, label = train_features_batch[random_idx], train_labels_batch[random_idx]\n",
        "plt.imshow(img.squeeze(), cmap=\"gray\")\n",
        "plt.title(class_names[label])\n",
        "plt.axis(False)\n",
        "print(f\"Image size: {img.shape}\")\n",
        "print(f\"Label: {label}, label size: {label.shape}\")"
      ],
      "metadata": {
        "colab": {
          "base_uri": "https://localhost:8080/",
          "height": 463
        },
        "id": "vGzfPmwQrUl3",
        "outputId": "b57c41c5-0f5e-4abf-d344-48ee33394ee9"
      },
      "execution_count": 254,
      "outputs": [
        {
          "output_type": "stream",
          "name": "stdout",
          "text": [
            "Image size: torch.Size([1, 28, 28])\n",
            "Label: 1, label size: torch.Size([])\n"
          ]
        },
        {
          "output_type": "display_data",
          "data": {
            "text/plain": [
              "<Figure size 640x480 with 1 Axes>"
            ],
            "image/png": "[encoded data removed]"
          },
          "metadata": {}
        }
      ]
    },
    {
      "cell_type": "markdown",
      "source": [
        "## 3. Model 0: Build a baseline model\n",
        "\n",
        "When starting to build a series of machine learning modelling experiments, it's best practice to start with a baseline model.\n",
        "\n",
        "A baseline model is a simple model we try to improve upon with subsequent models/experiments.\n",
        "\n",
        "In other words, start simply and add complexity when necessary.\n",
        "\n"
      ],
      "metadata": {
        "id": "-tPfUHwa4WR1"
      }
    },
    {
      "cell_type": "code",
      "source": [
        "# Create a flatten layer\n",
        "flatten_model = nn.Flatten()\n",
        "\n",
        "# Get a single sample\n",
        "x = train_features_batch[0]\n",
        "\n",
        "# Flatten the sample\n",
        "output = flatten_model(x) # perform forward pass\n",
        "\n",
        "# Print\n",
        "print(f\"Shape before flattening: {x.shape} -> [color_channels height, width]\")\n",
        "print(f\"Shape after flattening: {output.shape} -> [color_channels height*width]\")"
      ],
      "metadata": {
        "colab": {
          "base_uri": "https://localhost:8080/"
        },
        "id": "quKuagcz5ABD",
        "outputId": "f4d9ea31-3ea0-4448-8c31-8df086c4f444"
      },
      "execution_count": 255,
      "outputs": [
        {
          "output_type": "stream",
          "name": "stdout",
          "text": [
            "Shape before flattening: torch.Size([1, 28, 28]) -> [color_channels height, width]\n",
            "Shape after flattening: torch.Size([1, 784]) -> [color_channels height*width]\n"
          ]
        }
      ]
    },
    {
      "cell_type": "code",
      "source": [
        "from torch import nn\n",
        "class FashionMNISTModelV0(nn.Module):\n",
        "  def __init__(self,\n",
        "               input_shape: int,\n",
        "               hidden_units: int,\n",
        "               output_shape: int):\n",
        "    super().__init__()\n",
        "    self.layer_stack = nn.Sequential(\n",
        "        nn.Flatten(),\n",
        "        nn.Linear(in_features=input_shape,\n",
        "                  out_features=hidden_units),\n",
        "        nn.Linear(in_features=hidden_units,\n",
        "                  out_features=output_shape)\n",
        "    )\n",
        "\n",
        "  def forward(self, x):\n",
        "    return self.layer_stack(x)"
      ],
      "metadata": {
        "id": "EEir9fPO4_98"
      },
      "execution_count": 256,
      "outputs": []
    },
    {
      "cell_type": "code",
      "source": [
        "torch.manual_seed(42)\n",
        "\n",
        "# Setup model with input parameters\n",
        "model_0 = FashionMNISTModelV0(\n",
        "    input_shape = 784, # 28*28\n",
        "    hidden_units= 10,\n",
        "    output_shape = len(class_names)\n",
        ")\n",
        "\n",
        "model_0.to(\"cpu\")\n",
        "model_0"
      ],
      "metadata": {
        "colab": {
          "base_uri": "https://localhost:8080/"
        },
        "id": "LlOETHzt4_6M",
        "outputId": "fc257fd9-16ef-4b1a-c8c1-c559602d276c"
      },
      "execution_count": 257,
      "outputs": [
        {
          "output_type": "execute_result",
          "data": {
            "text/plain": [
              "FashionMNISTModelV0(\n",
              "  (layer_stack): Sequential(\n",
              "    (0): Flatten(start_dim=1, end_dim=-1)\n",
              "    (1): Linear(in_features=784, out_features=10, bias=True)\n",
              "    (2): Linear(in_features=10, out_features=10, bias=True)\n",
              "  )\n",
              ")"
            ]
          },
          "metadata": {},
          "execution_count": 257
        }
      ]
    },
    {
      "cell_type": "code",
      "source": [
        "dummy_X = torch.rand([1,1,28,28])\n",
        "model_0(dummy_X)"
      ],
      "metadata": {
        "colab": {
          "base_uri": "https://localhost:8080/"
        },
        "id": "uUlFUddurU0Z",
        "outputId": "8aa70c97-baa3-4f95-e828-6b0cb3d597fd"
      },
      "execution_count": 258,
      "outputs": [
        {
          "output_type": "execute_result",
          "data": {
            "text/plain": [
              "tensor([[-0.0315,  0.3171,  0.0531, -0.2525,  0.5959,  0.2112,  0.3233,  0.2694,\n",
              "         -0.1004,  0.0157]], grad_fn=<AddmmBackward0>)"
            ]
          },
          "metadata": {},
          "execution_count": 258
        }
      ]
    },
    {
      "cell_type": "code",
      "source": [
        "model_0.state_dict()"
      ],
      "metadata": {
        "colab": {
          "base_uri": "https://localhost:8080/"
        },
        "id": "pp5-qhdprU5H",
        "outputId": "dd4a0a14-450f-4547-f4ed-191923a2f938"
      },
      "execution_count": 259,
      "outputs": [
        {
          "output_type": "execute_result",
          "data": {
            "text/plain": [
              "OrderedDict([('layer_stack.1.weight',\n",
              "              tensor([[ 0.0273,  0.0296, -0.0084,  ..., -0.0142,  0.0093,  0.0135],\n",
              "                      [-0.0188, -0.0354,  0.0187,  ..., -0.0106, -0.0001,  0.0115],\n",
              "                      [-0.0008,  0.0017,  0.0045,  ..., -0.0127, -0.0188,  0.0059],\n",
              "                      ...,\n",
              "                      [-0.0116,  0.0273, -0.0344,  ...,  0.0176,  0.0283, -0.0011],\n",
              "                      [-0.0230,  0.0257,  0.0291,  ..., -0.0187, -0.0087,  0.0001],\n",
              "                      [ 0.0176, -0.0147,  0.0053,  ..., -0.0336, -0.0221,  0.0205]])),\n",
              "             ('layer_stack.1.bias',\n",
              "              tensor([-0.0093,  0.0283, -0.0033,  0.0255,  0.0017,  0.0037, -0.0302, -0.0123,\n",
              "                       0.0018,  0.0163])),\n",
              "             ('layer_stack.2.weight',\n",
              "              tensor([[ 0.0614, -0.0687,  0.0021,  0.2718,  0.2109,  0.1079, -0.2279, -0.1063,\n",
              "                        0.2019,  0.2847],\n",
              "                      [-0.1495,  0.1344, -0.0740,  0.2006, -0.0475, -0.2514, -0.3130, -0.0118,\n",
              "                        0.0932, -0.1864],\n",
              "                      [ 0.2488,  0.1500,  0.1907,  0.1457, -0.3050, -0.0580,  0.1643,  0.1565,\n",
              "                       -0.2877, -0.1792],\n",
              "                      [ 0.2305, -0.2618,  0.2397, -0.0610,  0.0232,  0.1542,  0.0851, -0.2027,\n",
              "                        0.1030, -0.2715],\n",
              "                      [-0.1596, -0.0555, -0.0633,  0.2302, -0.1726,  0.2654,  0.1473,  0.1029,\n",
              "                        0.2252, -0.2160],\n",
              "                      [-0.2725,  0.0118,  0.1559,  0.1596,  0.0132,  0.3024,  0.1124,  0.1366,\n",
              "                       -0.1533,  0.0965],\n",
              "                      [-0.1184, -0.2555, -0.2057, -0.1909, -0.0477, -0.1324,  0.2905,  0.1307,\n",
              "                       -0.2629,  0.0133],\n",
              "                      [ 0.2727, -0.0127,  0.0513,  0.0863, -0.1043, -0.2047, -0.1185, -0.0825,\n",
              "                        0.2488, -0.2571],\n",
              "                      [ 0.0425, -0.1209, -0.0336, -0.0281, -0.1227,  0.0730,  0.0747, -0.1816,\n",
              "                        0.1943,  0.2853],\n",
              "                      [-0.1310,  0.0645, -0.1171,  0.2168, -0.0245, -0.2820,  0.0736,  0.2621,\n",
              "                        0.0012, -0.0810]])),\n",
              "             ('layer_stack.2.bias',\n",
              "              tensor([-0.0087,  0.1791,  0.2712, -0.0791,  0.1685,  0.1762,  0.2825,  0.2266,\n",
              "                      -0.2612, -0.2613]))])"
            ]
          },
          "metadata": {},
          "execution_count": 259
        }
      ]
    },
    {
      "cell_type": "markdown",
      "source": [
        "### 3.1 Setup loss, optimizer and evaluation metrics\n",
        "\n",
        "* Loss function - For multi-class we use **nn.CrossEntropyLoss()**\n",
        "* Optimizer - **torch.optim.SGD()**\n",
        "* Evaluation metric - for classification use accuracy."
      ],
      "metadata": {
        "id": "REucEjigM5Z-"
      }
    },
    {
      "cell_type": "code",
      "source": [
        "import requests\n",
        "from pathlib import Path\n",
        "\n",
        "# Download helper functions from Learn PyTorch repo\n",
        "if Path(\"helper_function.py\").is_file():\n",
        "  print(\"helper_function.py already exists, skipping download...\")\n",
        "else:\n",
        "  print(\"Downloading helper_function.py\")\n",
        "  request = requests.get(\"https://raw.githubusercontent.com/mrdbourke/pytorch-deep-learning/main/helper_functions.py\")\n",
        "  with open(\"helper_functions.py\", \"wb\") as f:\n",
        "    f.write(request.content)"
      ],
      "metadata": {
        "colab": {
          "base_uri": "https://localhost:8080/"
        },
        "id": "dLl9kdUvMZwO",
        "outputId": "c475be6c-0c8e-44d1-84ad-82eb87a6071d"
      },
      "execution_count": 260,
      "outputs": [
        {
          "output_type": "stream",
          "name": "stdout",
          "text": [
            "Downloading helper_function.py\n"
          ]
        }
      ]
    },
    {
      "cell_type": "code",
      "source": [
        "# Import accuracy metric\n",
        "from helper_functions import accuracy_fn\n",
        "\n",
        "# Setup loss function and optimizer\n",
        "loss_fn = nn.CrossEntropyLoss()\n",
        "optimizer = torch.optim.SGD(params=model_0.parameters(),\n",
        "                            lr=0.1)"
      ],
      "metadata": {
        "id": "MXdTn-yvMZ2Y"
      },
      "execution_count": 261,
      "outputs": []
    },
    {
      "cell_type": "markdown",
      "source": [
        "### 3.2 Creating a function to time our experiments\n",
        "\n",
        "Keep track of:\n",
        "1. Loss and accuracy (Model's performance).\n",
        "2. How fast it runs."
      ],
      "metadata": {
        "id": "zKUdXZApStbS"
      }
    },
    {
      "cell_type": "code",
      "source": [
        "from timeit import default_timer as timer\n",
        "def print_train_time(start: float,\n",
        "                     end: float,\n",
        "                     device: torch.device = None):\n",
        "\n",
        "  \"\"\"Prints difference between start and end time.\"\"\"\n",
        "  total_time = end - start\n",
        "  print(f\"train time on {device}: {total_time:.3f} seconds\")\n",
        "  return total_time"
      ],
      "metadata": {
        "id": "PsXZfE4iMZ8G"
      },
      "execution_count": 262,
      "outputs": []
    },
    {
      "cell_type": "code",
      "source": [
        "start_time = timer()\n",
        "# some code..\n",
        "end_time = timer()\n",
        "print_train_time(start=start_time, end=end_time, device=\"cpu\")"
      ],
      "metadata": {
        "colab": {
          "base_uri": "https://localhost:8080/"
        },
        "id": "AwQs_g6uMaA9",
        "outputId": "9bc91742-1e7c-4537-8ff4-9d7d5026f27f"
      },
      "execution_count": 263,
      "outputs": [
        {
          "output_type": "stream",
          "name": "stdout",
          "text": [
            "train time on cpu: 0.000 seconds\n"
          ]
        },
        {
          "output_type": "execute_result",
          "data": {
            "text/plain": [
              "3.284800004621502e-05"
            ]
          },
          "metadata": {},
          "execution_count": 263
        }
      ]
    },
    {
      "cell_type": "markdown",
      "source": [
        "### 3.3 Creating a training loop and train a model on batches of data\n",
        "\n",
        "1. Loop through epochs.\n",
        "2. Loop through training batches, perform training steps, calculate the train loss *per batch*\n",
        "3. Loop through testing batches, perform testing steps, calculate the test loss *per batch*\n",
        "4. Print\n",
        "5. Time it all."
      ],
      "metadata": {
        "id": "pdLZYLHeUQGl"
      }
    },
    {
      "cell_type": "code",
      "source": [
        "# Import tqdm for progress bar\n",
        "from tqdm.auto import tqdm\n",
        "\n",
        "# Set the seed and start the timer\n",
        "torch.manual_seed(42)\n",
        "train_time_start_on_cpu = timer()\n",
        "\n",
        "# Set the number of epochs\n",
        "epochs = 3\n",
        "\n",
        "# Create train and test loop\n",
        "for epoch in tqdm(range(epochs)):\n",
        "  print(f\"Epoch: {epoch}\\n ----\")\n",
        "\n",
        "  ### Training\n",
        "  train_loss = 0\n",
        "  # Add a loop to loop through training batches\n",
        "  for batch, (X, y) in enumerate(train_dataloader):\n",
        "    model_0.train()\n",
        "    # 1. Forward pass\n",
        "    y_pred = model_0(X)\n",
        "\n",
        "    # 2. Calculate loss (per batch)\n",
        "    loss = loss_fn(y_pred, y)\n",
        "    train_loss += loss # accumulate train loss\n",
        "\n",
        "    # 3. Optimizer zero grad\n",
        "    optimizer.zero_grad()\n",
        "\n",
        "    # 4. Loss backwards\n",
        "    loss.backward()\n",
        "\n",
        "    # 5. Optimizer step\n",
        "    optimizer.step()\n",
        "\n",
        "    # Print\n",
        "    if batch % 400 == 0:\n",
        "      print(f\"Looked at {batch * len(X)}/{len(train_dataloader.dataset)} samples\")\n",
        "\n",
        "  # Divide total train loss by length of train dataloader\n",
        "  train_loss /= len(train_dataloader)\n",
        "\n",
        "  ## Testing\n",
        "  test_loss, test_acc = 0, 0\n",
        "  model_0.eval()\n",
        "  with torch.inference_mode():\n",
        "    for X_test, y_test in test_dataloader:\n",
        "      # 1. Forward pass\n",
        "      test_pred = model_0(X_test)\n",
        "\n",
        "      # 2. Calculate loss (accumulatively)\n",
        "      test_loss += loss_fn(test_pred, y_test)\n",
        "\n",
        "      # 3. Calculate accuracy\n",
        "      test_acc += accuracy_fn(y_true=y_test, y_pred=test_pred.argmax(dim=1))\n",
        "\n",
        "    # Calculate the test loss average per batch\n",
        "    test_loss /= len(test_dataloader)\n",
        "\n",
        "    # Calculate the test acc average per batch\n",
        "    test_acc /= len(test_dataloader)\n",
        "\n",
        "  # Print\n",
        "  print(f\"\\nTrain Loss: {train_loss:.4f} | Test Loss: {test_loss:.4f}, Test accuracy: {test_acc:.4f}\")\n",
        "\n",
        "# Calculate Training time\n",
        "train_time_end_on_cpu = timer()\n",
        "total_train_time_model_0 = print_train_time(start=train_time_start_on_cpu,\n",
        "                                            end=train_time_start_on_cpu,\n",
        "                                            device=str(next(model_0.parameters()).device))\n"
      ],
      "metadata": {
        "colab": {
          "base_uri": "https://localhost:8080/",
          "height": 535,
          "referenced_widgets": [
            "379d11e61ebc42c7b493c2b9cc042a27",
            "cccde6e3a0804239804c15aa6dcc3630",
            "a68de13398dd45508f9d3e78155eaf6e",
            "2c52e6f0dbfc47498de0a91e8fdc61b3",
            "c6c3c1fd2cb847a0bb0bfd71cdb445e8",
            "b205e73195ab47a197ddf6c9c1afe0ac",
            "65782e3e07e049e396f3f434e57ebe1d",
            "3e0fec9857a84db08925d72a3e5a8cce",
            "181448c8ccf546f8b47b6504a2047aed",
            "e860c99a66ee4f40ab6febc0478b9c77",
            "cc6cc5c2d7894ea3b9412e131efa7c47"
          ]
        },
        "id": "-jE9TW0pUQlw",
        "outputId": "55c96311-4b63-4e27-f66b-745722c32035"
      },
      "execution_count": 264,
      "outputs": [
        {
          "output_type": "display_data",
          "data": {
            "text/plain": [
              "  0%|          | 0/3 [00:00<?, ?it/s]"
            ],
            "application/vnd.jupyter.widget-view+json": {
              "version_major": 2,
              "version_minor": 0,
              "model_id": "379d11e61ebc42c7b493c2b9cc042a27"
            }
          },
          "metadata": {}
        },
        {
          "output_type": "stream",
          "name": "stdout",
          "text": [
            "Epoch: 0\n",
            " ----\n",
            "Looked at 0/60000 samples\n",
            "Looked at 12800/60000 samples\n",
            "Looked at 25600/60000 samples\n",
            "Looked at 38400/60000 samples\n",
            "Looked at 51200/60000 samples\n",
            "\n",
            "Train Loss: 0.5904 | Test Loss: 0.5095, Test accuracy: 82.0387\n",
            "Epoch: 1\n",
            " ----\n",
            "Looked at 0/60000 samples\n",
            "Looked at 12800/60000 samples\n",
            "Looked at 25600/60000 samples\n",
            "Looked at 38400/60000 samples\n",
            "Looked at 51200/60000 samples\n",
            "\n",
            "Train Loss: 0.4763 | Test Loss: 0.4799, Test accuracy: 83.1969\n",
            "Epoch: 2\n",
            " ----\n",
            "Looked at 0/60000 samples\n",
            "Looked at 12800/60000 samples\n",
            "Looked at 25600/60000 samples\n",
            "Looked at 38400/60000 samples\n",
            "Looked at 51200/60000 samples\n",
            "\n",
            "Train Loss: 0.4550 | Test Loss: 0.4766, Test accuracy: 83.4265\n",
            "train time on cpu: 0.000 seconds\n"
          ]
        }
      ]
    },
    {
      "cell_type": "markdown",
      "source": [
        "## 4. Make predictions and get Model 0 results\n"
      ],
      "metadata": {
        "id": "UxPVbYZTf7hG"
      }
    },
    {
      "cell_type": "code",
      "source": [
        "torch.manual_seed(42)\n",
        "def eval_model(model: torch.nn.Module,\n",
        "               data_loader: torch.utils.data.DataLoader,\n",
        "               loss_fn: torch.nn.Module,\n",
        "               accuracy_fn):\n",
        "  \"\"\"Returns a dictionary containing the results of model predicting on data_loader.\"\"\"\n",
        "  loss, acc = 0, 0\n",
        "  model.eval()\n",
        "  with torch.inference_mode():\n",
        "    for X, y in data_loader:\n",
        "      # Make predictions\n",
        "      y_pred = model(X)\n",
        "\n",
        "      # Accumulate the loss and accuracy values per batch\n",
        "      loss += loss_fn(y_pred, y)\n",
        "      acc += accuracy_fn(y_true=y,\n",
        "                         y_pred=y_pred.argmax(dim=1))\n",
        "\n",
        "    # Scale loss and accuracy to find average loss/acc per batch\n",
        "    loss /= len(data_loader)\n",
        "    acc /= len(data_loader)\n",
        "\n",
        "  return {\"model_name\": model.__class__.__name__, # only works when model was created with class\n",
        "          \"model_loss\": loss.item(),\n",
        "          \"model_acc\": acc}"
      ],
      "metadata": {
        "id": "jBL3Bc6bUTNF"
      },
      "execution_count": 265,
      "outputs": []
    },
    {
      "cell_type": "code",
      "source": [
        "# Calculate model 0 results on the test dataset\n",
        "model_0_results = eval_model(model=model_0,\n",
        "                             data_loader=test_dataloader,\n",
        "                             loss_fn=loss_fn,\n",
        "                             accuracy_fn = accuracy_fn)\n",
        "\n",
        "model_0_results"
      ],
      "metadata": {
        "colab": {
          "base_uri": "https://localhost:8080/"
        },
        "id": "VHFNbiICUTHl",
        "outputId": "c8428f35-e96a-415e-b24d-9d74d5f820f6"
      },
      "execution_count": 266,
      "outputs": [
        {
          "output_type": "execute_result",
          "data": {
            "text/plain": [
              "{'model_name': 'FashionMNISTModelV0',\n",
              " 'model_loss': 0.47663894295692444,\n",
              " 'model_acc': 83.42651757188499}"
            ]
          },
          "metadata": {},
          "execution_count": 266
        }
      ]
    },
    {
      "cell_type": "markdown",
      "source": [
        "## 5. Setup device agnostic-code (for using a GPU if there is one)"
      ],
      "metadata": {
        "id": "kbhIr2fGjiuL"
      }
    },
    {
      "cell_type": "code",
      "source": [
        "# Setup device agnostic code\n",
        "\n",
        "device = \"cuda\" if torch.cuda.is_available() else \"cpu\""
      ],
      "metadata": {
        "id": "7JJH9vQ5UTCK"
      },
      "execution_count": 267,
      "outputs": []
    },
    {
      "cell_type": "code",
      "source": [
        "device"
      ],
      "metadata": {
        "colab": {
          "base_uri": "https://localhost:8080/",
          "height": 35
        },
        "id": "As1WmCa8US7d",
        "outputId": "6fd70d90-2607-4440-abbf-5a40a1bace92"
      },
      "execution_count": 268,
      "outputs": [
        {
          "output_type": "execute_result",
          "data": {
            "text/plain": [
              "'cpu'"
            ],
            "application/vnd.google.colaboratory.intrinsic+json": {
              "type": "string"
            }
          },
          "metadata": {},
          "execution_count": 268
        }
      ]
    },
    {
      "cell_type": "markdown",
      "source": [
        "## 6. Model 1: Building a better model with non-linearity\n",
        "\n"
      ],
      "metadata": {
        "id": "HS-D1kIVko7T"
      }
    },
    {
      "cell_type": "code",
      "source": [
        "import torch\n",
        "from torch import nn"
      ],
      "metadata": {
        "id": "3FzVpmht3_iE"
      },
      "execution_count": 269,
      "outputs": []
    },
    {
      "cell_type": "code",
      "source": [
        "# Create a model with non-linear and linear layers\n",
        "class FashionMNISTModelV1(nn.Module):\n",
        "  def __init__(self,\n",
        "               input_shape: int,\n",
        "               hidden_units: int,\n",
        "               output_shape: int):\n",
        "    super().__init__()\n",
        "    self.layer_stack = nn.Sequential(\n",
        "        nn.Flatten(), # flatten inputs into a single vector\n",
        "        nn.Linear(in_features=input_shape,\n",
        "                  out_features=hidden_units),\n",
        "        nn.ReLU(),\n",
        "        nn.Linear(in_features=hidden_units,\n",
        "                  out_features=output_shape),\n",
        "        nn.ReLU()\n",
        "    )\n",
        "\n",
        "  def forward(self, x: torch.Tensor):\n",
        "    return self.layer_stack(x)"
      ],
      "metadata": {
        "id": "BTZyhoodMaF4"
      },
      "execution_count": 270,
      "outputs": []
    },
    {
      "cell_type": "code",
      "source": [
        "# Create an instance of model_1\n",
        "torch.manual_seed(42)\n",
        "model_1 = FashionMNISTModelV1(input_shape=784, # this is the output of the flatten after our 28*28 image goes in\n",
        "                              hidden_units=10,\n",
        "                              output_shape=len(class_names)).to(device) # send to the GPU if it's available\n",
        "next(model_1.parameters()).device"
      ],
      "metadata": {
        "colab": {
          "base_uri": "https://localhost:8080/"
        },
        "id": "cLLUbAg9mVFJ",
        "outputId": "ed20130b-62a4-4880-a9e2-38be00e33b99"
      },
      "execution_count": 271,
      "outputs": [
        {
          "output_type": "execute_result",
          "data": {
            "text/plain": [
              "device(type='cpu')"
            ]
          },
          "metadata": {},
          "execution_count": 271
        }
      ]
    },
    {
      "cell_type": "markdown",
      "source": [
        "### 6.1 Setup loss, optimizer and evaluation metrics"
      ],
      "metadata": {
        "id": "zNy9FAT0noVI"
      }
    },
    {
      "cell_type": "code",
      "source": [
        "from helper_functions import accuracy_fn\n",
        "loss_fn = nn.CrossEntropyLoss() # measure how wrong our model is\n",
        "\n",
        "optimizer = torch.optim.SGD(params=model_1.parameters(), # tries to update our model's parameters to reduce the loss\n",
        "                            lr=0.1)\n",
        ""
      ],
      "metadata": {
        "id": "eoWziADhnHMu"
      },
      "execution_count": 272,
      "outputs": []
    },
    {
      "cell_type": "markdown",
      "source": [
        "### 6.2 Functionizing training and evaluation/testing loops\n",
        "\n",
        "Let's create a function for:\n",
        "* training loop - 'train_step()'\n",
        "* testing loop - 'test_step()'"
      ],
      "metadata": {
        "id": "Lp05o9MkskzU"
      }
    },
    {
      "cell_type": "code",
      "source": [
        "def train_step(model: torch.nn.Module,\n",
        "               data_loader: torch.utils.data.DataLoader,\n",
        "               loss_fn: torch.nn.Module,\n",
        "               optimizer: torch.optim.Optimizer,\n",
        "               accuracy_fn,\n",
        "               device: torch.device = device):\n",
        "  \"\"\"Performs a training with model trying to learn on data_loader.\"\"\"\n",
        "  train_loss, train_acc = 0, 0\n",
        "\n",
        "  # Put model into training mode\n",
        "  model.train()\n",
        "\n",
        "  # Add a loop to loop through the training batches\n",
        "  for batch, (X, y) in enumerate(data_loader):\n",
        "    # Put data on target device\n",
        "    X, y = X.to(device), y.to(device)\n",
        "\n",
        "    # 1. Forward pass (outputs the raw logits from the model)\n",
        "    y_pred = model(X)\n",
        "\n",
        "    # 2. Calculate loss and accuracy (per batch)\n",
        "    loss = loss_fn(y_pred, y)\n",
        "    train_loss += loss # accumulate train loss\n",
        "    train_acc += accuracy_fn(y_true=y,\n",
        "                             y_pred=y_pred.argmax(dim=1)) # go from logits -> prediction labels\n",
        "\n",
        "    # 3. Optimizer zero grad\n",
        "    optimizer.zero_grad()\n",
        "\n",
        "    # 4. Loss backward\n",
        "    loss.backward()\n",
        "\n",
        "    # 5. Optimizer step (update the model's parameters once *per batch*)\n",
        "    optimizer.step()\n",
        "\n",
        "  # Divide total train loss and acc by length of train dataloader\n",
        "  train_loss /= len(data_loader)\n",
        "  train_acc /= len(data_loader)\n",
        "  print(f\"Train loss: {train_loss:.5f} | Train acc: {train_acc:.2f}%\")\n",
        ""
      ],
      "metadata": {
        "id": "Uv_PEyqhnxtj"
      },
      "execution_count": 273,
      "outputs": []
    },
    {
      "cell_type": "code",
      "source": [
        "def test_step(model: torch.nn.Module,\n",
        "              data_loader: torch.utils.data.DataLoader,\n",
        "              loss_fn: torch.nn.Module,\n",
        "              accuracy_fn,\n",
        "              device: torch.device = device):\n",
        "  \"\"\"Performs a testing loop step on model going over data_loader.\"\"\"\n",
        "  test_loss, test_acc = 0, 0\n",
        "\n",
        "  # Put the model in eval mode\n",
        "  model.eval()\n",
        "\n",
        "  # Turn on inference mode context manager\n",
        "  with torch.inference_mode():\n",
        "    for X, y in data_loader:\n",
        "      # Send the data to the target device\n",
        "      X, y = X.to(device), y.to(device)\n",
        "\n",
        "      # 1. Forward pass (outputs raw logits)\n",
        "      test_pred = model(X)\n",
        "\n",
        "      # 2. Calculuate the loss/acc\n",
        "      test_loss += loss_fn(test_pred, y)\n",
        "      test_acc += accuracy_fn(y_true=y,\n",
        "                              y_pred=test_pred.argmax(dim=1)) # go from logits -> prediction labels\n",
        "\n",
        "    # Adjust metrics and print out\n",
        "    test_loss /= len(data_loader)\n",
        "    test_acc /= len(data_loader)\n",
        "    print(f\"Test loss: {test_loss:.5f} | Test acc: {test_acc:.2f}%\\n\")\n",
        ""
      ],
      "metadata": {
        "id": "wp35tUoineYx"
      },
      "execution_count": 274,
      "outputs": []
    },
    {
      "cell_type": "code",
      "source": [
        "torch.manual_seed(42)\n",
        "\n",
        "# Measure time\n",
        "from timeit import default_timer as timer\n",
        "train_time_start_on_gpu = timer()\n",
        "\n",
        "# Set epochs\n",
        "epochs = 3\n",
        "\n",
        "# Create a optimization and evaluation loop using train_step() and test_step()\n",
        "for epoch in tqdm(range(epochs)):\n",
        "  print(f\"Epoch: {epoch}\\n----------\")\n",
        "  train_step(model=model_1,\n",
        "             data_loader=train_dataloader,\n",
        "             loss_fn=loss_fn,\n",
        "             optimizer=optimizer,\n",
        "             accuracy_fn=accuracy_fn,\n",
        "             device=device)\n",
        "  test_step(model=model_1,\n",
        "            data_loader=test_dataloader,\n",
        "            loss_fn=loss_fn,\n",
        "            accuracy_fn=accuracy_fn,\n",
        "            device=device)\n",
        "\n",
        "train_time_end_on_gpu = timer()\n",
        "total_train_time_model_1 = print_train_time(start=train_time_start_on_gpu,\n",
        "                                            end=train_time_end_on_gpu,\n",
        "                                            device=device)"
      ],
      "metadata": {
        "colab": {
          "base_uri": "https://localhost:8080/",
          "height": 327,
          "referenced_widgets": [
            "1a07dc3773e0413eac3f3713bbc3a042",
            "803180fe8df04fc88c54b17de3f5b3a0",
            "ec354c0fd0954621b8aa31a32a1caa70",
            "de91c7b87f814772a4431b2233570bd4",
            "b5f860451b3e439b90c0c2f2b0317902",
            "6967f20de67c48c6a263033da94ce26a",
            "12795c3fda1044e2826335b7eb9b1049",
            "08263a59322f4e898ae61d1ac3f772b3",
            "b05b5a17935b49b898661dec5305a69d",
            "97d5336ae421406799563d6802b45f9c",
            "6e582687ba464c029c4b6c8c2bde6c4b"
          ]
        },
        "id": "AonsXYLyyPSJ",
        "outputId": "b610d59f-2129-48e0-982d-51596bfe1c6b"
      },
      "execution_count": 275,
      "outputs": [
        {
          "output_type": "display_data",
          "data": {
            "text/plain": [
              "  0%|          | 0/3 [00:00<?, ?it/s]"
            ],
            "application/vnd.jupyter.widget-view+json": {
              "version_major": 2,
              "version_minor": 0,
              "model_id": "1a07dc3773e0413eac3f3713bbc3a042"
            }
          },
          "metadata": {}
        },
        {
          "output_type": "stream",
          "name": "stdout",
          "text": [
            "Epoch: 0\n",
            "----------\n",
            "Train loss: 1.09199 | Train acc: 61.34%\n",
            "Test loss: 0.95636 | Test acc: 65.00%\n",
            "\n",
            "Epoch: 1\n",
            "----------\n",
            "Train loss: 0.78101 | Train acc: 71.93%\n",
            "Test loss: 0.72227 | Test acc: 73.91%\n",
            "\n",
            "Epoch: 2\n",
            "----------\n",
            "Train loss: 0.67027 | Train acc: 75.94%\n",
            "Test loss: 0.68500 | Test acc: 75.02%\n",
            "\n",
            "train time on cpu: 36.285 seconds\n"
          ]
        }
      ]
    },
    {
      "cell_type": "code",
      "source": [
        "# Get model_1 results dictionary\n",
        "model_1_results = eval_model(model = model_1,\n",
        "                             data_loader = test_dataloader,\n",
        "                             loss_fn = loss_fn,\n",
        "                             accuracy_fn = accuracy_fn)\n",
        "\n",
        "model_1_results"
      ],
      "metadata": {
        "colab": {
          "base_uri": "https://localhost:8080/"
        },
        "id": "vljemKBJ06-X",
        "outputId": "03424012-94c0-45c7-84e2-3761acb4f03d"
      },
      "execution_count": 276,
      "outputs": [
        {
          "output_type": "execute_result",
          "data": {
            "text/plain": [
              "{'model_name': 'FashionMNISTModelV1',\n",
              " 'model_loss': 0.6850009560585022,\n",
              " 'model_acc': 75.01996805111821}"
            ]
          },
          "metadata": {},
          "execution_count": 276
        }
      ]
    },
    {
      "cell_type": "markdown",
      "source": [
        "## Model 2: Building a Convolutional Neural Network (CNN)\n",
        "\n",
        "CNN's are also known as ConvNets.\n",
        "\n",
        "CNN's are known for their capabilities to find patterns in visual data.\n"
      ],
      "metadata": {
        "id": "2_-ei9xaWV9j"
      }
    },
    {
      "cell_type": "code",
      "source": [
        "# Create a CNN\n",
        "class FashionMNISTModelV2(nn.Module):\n",
        "  \"\"\"\n",
        "  Model architecture that replicates the TinyVGG model from CNN explainer website.\n",
        "  \"\"\"\n",
        "  def __init__(self, input_shape: int, hidden_units: int, output_shape: int):\n",
        "    super().__init__()\n",
        "    self.conv_block_1 = nn.Sequential(\n",
        "\n",
        "        nn.Conv2d(in_channels=input_shape,\n",
        "                  out_channels=hidden_units,\n",
        "                  kernel_size=3,\n",
        "                  stride=1,\n",
        "                  padding=1), # hyperparameters\n",
        "\n",
        "        nn.ReLU(),\n",
        "\n",
        "        nn.Conv2d(in_channels=hidden_units,\n",
        "                  out_channels=hidden_units,\n",
        "                  kernel_size=3,\n",
        "                  stride=1,\n",
        "                  padding=1),\n",
        "\n",
        "        nn.ReLU(),\n",
        "\n",
        "        nn.MaxPool2d(kernel_size=2)\n",
        "    )\n",
        "\n",
        "    self.conv_block_2 = nn.Sequential(\n",
        "\n",
        "        nn.Conv2d(in_channels=hidden_units,\n",
        "                  out_channels=hidden_units,\n",
        "                  kernel_size=3,\n",
        "                  stride=1,\n",
        "                  padding=1), # hyperparameters\n",
        "\n",
        "        nn.ReLU(),\n",
        "\n",
        "        nn.Conv2d(in_channels=hidden_units,\n",
        "                  out_channels=hidden_units,\n",
        "                  kernel_size=3,\n",
        "                  stride=1,\n",
        "                  padding=1),\n",
        "\n",
        "        nn.ReLU(),\n",
        "\n",
        "        nn.MaxPool2d(kernel_size=2)\n",
        "    )\n",
        "\n",
        "    self.classifier = nn.Sequential(\n",
        "        nn.Flatten(),\n",
        "        nn.Linear(in_features=hidden_units*7*7, # there is a trick to calculate this\n",
        "                  out_features=output_shape)\n",
        "    )\n",
        "\n",
        "  def forward(self,x):\n",
        "    x = self.conv_block_1(x)\n",
        "    # print(f\"Output shape of conv_block_1: {x.shape}\")\n",
        "    x = self.conv_block_2(x)\n",
        "    # print(f\"Output shape of conv_block_2: {x.shape}\")\n",
        "    x = self.classifier(x)\n",
        "    # print(f\"Output shape of classifier: {x.shape})\n",
        "    return x\n"
      ],
      "metadata": {
        "id": "uSRJhbaWABX6"
      },
      "execution_count": 277,
      "outputs": []
    },
    {
      "cell_type": "code",
      "source": [
        "FashionMNISTModelV2"
      ],
      "metadata": {
        "colab": {
          "base_uri": "https://localhost:8080/",
          "height": 121
        },
        "id": "OqGZmL5VcIu0",
        "outputId": "10cf9548-bd76-45fb-bdf9-419aae361046"
      },
      "execution_count": 278,
      "outputs": [
        {
          "output_type": "execute_result",
          "data": {
            "text/plain": [
              "__main__.FashionMNISTModelV2"
            ],
            "text/html": [
              "<div style=\"max-width:800px; border: 1px solid var(--colab-border-color);\"><style>\n",
              "      pre.function-repr-contents {\n",
              "        overflow-x: auto;\n",
              "        padding: 8px 12px;\n",
              "        max-height: 500px;\n",
              "      }\n",
              "\n",
              "      pre.function-repr-contents.function-repr-contents-collapsed {\n",
              "        cursor: pointer;\n",
              "        max-height: 100px;\n",
              "      }\n",
              "    </style>\n",
              "    <pre style=\"white-space: initial; background:\n",
              "         var(--colab-secondary-surface-color); padding: 8px 12px;\n",
              "         border-bottom: 1px solid var(--colab-border-color);\"><b>FashionMNISTModelV2</b><br/>def _wrapped_call_impl(*args, **kwargs)</pre><pre class=\"function-repr-contents function-repr-contents-collapsed\" style=\"\"><a class=\"filepath\" style=\"display:none\" href=\"#\"></a>Model architecture that replicates the TinyVGG model from CNN explainer website.</pre></div>"
            ]
          },
          "metadata": {},
          "execution_count": 278
        }
      ]
    },
    {
      "cell_type": "code",
      "source": [
        "torch.manual_seed(42)\n",
        "model_2 = FashionMNISTModelV2(input_shape=1,\n",
        "                              hidden_units=10,\n",
        "                              output_shape=len(class_names)).to(device)"
      ],
      "metadata": {
        "id": "qFgWRAxncPXP"
      },
      "execution_count": 279,
      "outputs": []
    },
    {
      "cell_type": "code",
      "source": [
        "model_2"
      ],
      "metadata": {
        "colab": {
          "base_uri": "https://localhost:8080/"
        },
        "collapsed": true,
        "id": "um0Pryb1rzU7",
        "outputId": "f3266787-40b4-4528-83c9-71072009f80c"
      },
      "execution_count": 280,
      "outputs": [
        {
          "output_type": "execute_result",
          "data": {
            "text/plain": [
              "FashionMNISTModelV2(\n",
              "  (conv_block_1): Sequential(\n",
              "    (0): Conv2d(1, 10, kernel_size=(3, 3), stride=(1, 1), padding=(1, 1))\n",
              "    (1): ReLU()\n",
              "    (2): Conv2d(10, 10, kernel_size=(3, 3), stride=(1, 1), padding=(1, 1))\n",
              "    (3): ReLU()\n",
              "    (4): MaxPool2d(kernel_size=2, stride=2, padding=0, dilation=1, ceil_mode=False)\n",
              "  )\n",
              "  (conv_block_2): Sequential(\n",
              "    (0): Conv2d(10, 10, kernel_size=(3, 3), stride=(1, 1), padding=(1, 1))\n",
              "    (1): ReLU()\n",
              "    (2): Conv2d(10, 10, kernel_size=(3, 3), stride=(1, 1), padding=(1, 1))\n",
              "    (3): ReLU()\n",
              "    (4): MaxPool2d(kernel_size=2, stride=2, padding=0, dilation=1, ceil_mode=False)\n",
              "  )\n",
              "  (classifier): Sequential(\n",
              "    (0): Flatten(start_dim=1, end_dim=-1)\n",
              "    (1): Linear(in_features=490, out_features=10, bias=True)\n",
              "  )\n",
              ")"
            ]
          },
          "metadata": {},
          "execution_count": 280
        }
      ]
    },
    {
      "cell_type": "code",
      "source": [
        "rand_image_tensor = torch.randn(size=(1, 28, 28))\n",
        "rand_image_tensor.shape"
      ],
      "metadata": {
        "colab": {
          "base_uri": "https://localhost:8080/"
        },
        "id": "WC-v4WWgrX6N",
        "outputId": "de740c3e-1afc-4263-b293-57678bda2b30"
      },
      "execution_count": 281,
      "outputs": [
        {
          "output_type": "execute_result",
          "data": {
            "text/plain": [
              "torch.Size([1, 28, 28])"
            ]
          },
          "metadata": {},
          "execution_count": 281
        }
      ]
    },
    {
      "cell_type": "code",
      "source": [
        "# Pass image through model\n",
        "model_2(image.unsqueeze(0).to(device))"
      ],
      "metadata": {
        "colab": {
          "base_uri": "https://localhost:8080/"
        },
        "id": "gUCpvZjsrHg2",
        "outputId": "a7029ba1-c6d4-42bb-92a6-2bf199a480cf"
      },
      "execution_count": 282,
      "outputs": [
        {
          "output_type": "execute_result",
          "data": {
            "text/plain": [
              "tensor([[ 0.0246, -0.0644,  0.0551, -0.0360, -0.0139,  0.0113, -0.0014, -0.0075,\n",
              "          0.0213,  0.0076]], grad_fn=<AddmmBackward0>)"
            ]
          },
          "metadata": {},
          "execution_count": 282
        }
      ]
    },
    {
      "cell_type": "markdown",
      "source": [
        "### 7.1 Stepping through 'nn.Conv2d'"
      ],
      "metadata": {
        "id": "WimZ-i7_eeL3"
      }
    },
    {
      "cell_type": "code",
      "source": [
        "torch.manual_seed(42)\n",
        "\n",
        "# Create a batch of images\n",
        "images = torch.randn(size=(32,3,64,64))\n",
        "test_image = images[0]\n",
        "\n",
        "print(f\"Image batch shape: {images.shape}\")\n",
        "print(f\"Single image shape: {test_image.shape}\")\n",
        "print(f\"Test image:\\n {test_image.shape}\")"
      ],
      "metadata": {
        "colab": {
          "base_uri": "https://localhost:8080/"
        },
        "id": "WwXIKpqFd6M_",
        "outputId": "f9838aa3-7bd6-4bdd-9acf-0d8a1277f448"
      },
      "execution_count": 283,
      "outputs": [
        {
          "output_type": "stream",
          "name": "stdout",
          "text": [
            "Image batch shape: torch.Size([32, 3, 64, 64])\n",
            "Single image shape: torch.Size([3, 64, 64])\n",
            "Test image:\n",
            " torch.Size([3, 64, 64])\n"
          ]
        }
      ]
    },
    {
      "cell_type": "code",
      "source": [
        "model_2.state_dict()"
      ],
      "metadata": {
        "colab": {
          "base_uri": "https://localhost:8080/"
        },
        "collapsed": true,
        "id": "YWhZobnzg1ts",
        "outputId": "4cb26250-d43f-4195-916a-2f29792472dd"
      },
      "execution_count": 284,
      "outputs": [
        {
          "output_type": "execute_result",
          "data": {
            "text/plain": [
              "OrderedDict([('conv_block_1.0.weight',\n",
              "              tensor([[[[ 0.2548,  0.2767, -0.0781],\n",
              "                        [ 0.3062, -0.0730,  0.0673],\n",
              "                        [-0.1623,  0.1958,  0.2938]]],\n",
              "              \n",
              "              \n",
              "                      [[[-0.2445,  0.2897,  0.0624],\n",
              "                        [ 0.2463,  0.0451,  0.1607],\n",
              "                        [-0.0471,  0.2570,  0.0493]]],\n",
              "              \n",
              "              \n",
              "                      [[[-0.1556,  0.0850, -0.1536],\n",
              "                        [-0.0391, -0.1354,  0.2211],\n",
              "                        [-0.2631, -0.1537, -0.0941]]],\n",
              "              \n",
              "              \n",
              "                      [[[-0.2004,  0.0315, -0.3292],\n",
              "                        [ 0.3010, -0.2832,  0.2573],\n",
              "                        [ 0.0555, -0.1082,  0.2060]]],\n",
              "              \n",
              "              \n",
              "                      [[[ 0.0520,  0.2693,  0.0364],\n",
              "                        [-0.1051,  0.0896, -0.0904],\n",
              "                        [ 0.1403,  0.2976,  0.1927]]],\n",
              "              \n",
              "              \n",
              "                      [[[-0.1457,  0.1924,  0.0596],\n",
              "                        [ 0.1693, -0.2032, -0.3300],\n",
              "                        [-0.1288, -0.2557,  0.2735]]],\n",
              "              \n",
              "              \n",
              "                      [[[ 0.0960,  0.1381,  0.1054],\n",
              "                        [-0.0058,  0.2609, -0.2368],\n",
              "                        [ 0.0210, -0.2275,  0.1028]]],\n",
              "              \n",
              "              \n",
              "                      [[[-0.1148,  0.1021, -0.0694],\n",
              "                        [ 0.2765, -0.1976, -0.1988],\n",
              "                        [-0.1988,  0.2998,  0.1111]]],\n",
              "              \n",
              "              \n",
              "                      [[[ 0.3208, -0.2751, -0.3306],\n",
              "                        [-0.2608, -0.2242,  0.1350],\n",
              "                        [ 0.1194,  0.2770, -0.1721]]],\n",
              "              \n",
              "              \n",
              "                      [[[-0.2272,  0.1769, -0.1347],\n",
              "                        [ 0.2023, -0.0791,  0.1907],\n",
              "                        [-0.2590, -0.1682,  0.1016]]]])),\n",
              "             ('conv_block_1.0.bias',\n",
              "              tensor([ 0.0705, -0.0850,  0.1987,  0.2266, -0.2417, -0.1780,  0.3052, -0.1125,\n",
              "                      -0.1182, -0.3225])),\n",
              "             ('conv_block_1.2.weight',\n",
              "              tensor([[[[-0.0604,  0.0263, -0.0139],\n",
              "                        [-0.0765,  0.0025, -0.0720],\n",
              "                        [-0.0894, -0.0580, -0.0923]],\n",
              "              \n",
              "                       [[-0.0671,  0.1054,  0.0199],\n",
              "                        [ 0.0325, -0.0983, -0.0692],\n",
              "                        [-0.0351,  0.0165, -0.0928]],\n",
              "              \n",
              "                       [[-0.0454, -0.0631,  0.0003],\n",
              "                        [-0.0392, -0.0073, -0.0714],\n",
              "                        [-0.0724, -0.0615, -0.0361]],\n",
              "              \n",
              "                       [[-0.0832,  0.0884, -0.0209],\n",
              "                        [ 0.0907,  0.0328, -0.0893],\n",
              "                        [ 0.0729, -0.0290, -0.0404]],\n",
              "              \n",
              "                       [[-0.0875, -0.1048,  0.0302],\n",
              "                        [-0.0230,  0.0410, -0.0865],\n",
              "                        [ 0.0783, -0.0774, -0.0182]],\n",
              "              \n",
              "                       [[ 0.0220,  0.0544,  0.0851],\n",
              "                        [ 0.0960, -0.0836,  0.0265],\n",
              "                        [-0.0453, -0.0116, -0.0789]],\n",
              "              \n",
              "                       [[ 0.0960, -0.0774,  0.0563],\n",
              "                        [ 0.0370,  0.0343, -0.0570],\n",
              "                        [ 0.0958,  0.0232,  0.0136]],\n",
              "              \n",
              "                       [[-0.0929,  0.0442, -0.0158],\n",
              "                        [-0.0483,  0.0905,  0.0235],\n",
              "                        [-0.0583, -0.0534, -0.0050]],\n",
              "              \n",
              "                       [[ 0.0589, -0.0269, -0.0601],\n",
              "                        [-0.0361, -0.0787,  0.0376],\n",
              "                        [ 0.0816, -0.0992,  0.0245]],\n",
              "              \n",
              "                       [[ 0.0545,  0.0191, -0.0375],\n",
              "                        [ 0.0550,  0.0554,  0.0394],\n",
              "                        [-0.0185, -0.0279,  0.0113]]],\n",
              "              \n",
              "              \n",
              "                      [[[-0.0186, -0.0314,  0.0674],\n",
              "                        [ 0.0906, -0.0104, -0.0236],\n",
              "                        [ 0.0015, -0.0063,  0.0253]],\n",
              "              \n",
              "                       [[ 0.0295, -0.0957, -0.0389],\n",
              "                        [ 0.0888,  0.0411, -0.0052],\n",
              "                        [-0.0636, -0.0645, -0.0944]],\n",
              "              \n",
              "                       [[-0.0344,  0.0356,  0.0672],\n",
              "                        [ 0.0487, -0.0932, -0.0634],\n",
              "                        [-0.0166,  0.1020,  0.0152]],\n",
              "              \n",
              "                       [[-0.0273,  0.0436, -0.0401],\n",
              "                        [-0.0682,  0.0769, -0.0479],\n",
              "                        [-0.0211, -0.1049,  0.0705]],\n",
              "              \n",
              "                       [[ 0.0799,  0.0384, -0.0735],\n",
              "                        [-0.1040, -0.0856,  0.0786],\n",
              "                        [ 0.0506,  0.0887,  0.0552]],\n",
              "              \n",
              "                       [[ 0.0267, -0.0010, -0.0802],\n",
              "                        [-0.0903, -0.0986,  0.0432],\n",
              "                        [-0.0518, -0.0212, -0.0607]],\n",
              "              \n",
              "                       [[-0.0192, -0.0742, -0.0689],\n",
              "                        [ 0.0350, -0.0313,  0.0651],\n",
              "                        [-0.0338, -0.0773, -0.0186]],\n",
              "              \n",
              "                       [[-0.0511, -0.0322, -0.1003],\n",
              "                        [ 0.0590, -0.0734,  0.0530],\n",
              "                        [ 0.0478,  0.0753, -0.0809]],\n",
              "              \n",
              "                       [[ 0.0758, -0.0498,  0.0391],\n",
              "                        [ 0.0990, -0.0149, -0.0008],\n",
              "                        [-0.0243, -0.0880,  0.0506]],\n",
              "              \n",
              "                       [[-0.1046,  0.0654,  0.0789],\n",
              "                        [ 0.0997, -0.0249, -0.0866],\n",
              "                        [ 0.0237,  0.0582, -0.1049]]],\n",
              "              \n",
              "              \n",
              "                      [[[-0.0239, -0.0632, -0.0092],\n",
              "                        [-0.0519, -0.0431, -0.0335],\n",
              "                        [-0.1002,  0.0865,  0.0884]],\n",
              "              \n",
              "                       [[-0.0165, -0.0120, -0.0430],\n",
              "                        [-0.0952, -0.1026,  0.0392],\n",
              "                        [-0.0579, -0.0678, -0.0082]],\n",
              "              \n",
              "                       [[-0.0351, -0.0341,  0.0034],\n",
              "                        [-0.0224, -0.0363, -0.0505],\n",
              "                        [-0.0858,  0.0884, -0.0422]],\n",
              "              \n",
              "                       [[ 0.0279, -0.0366,  0.0086],\n",
              "                        [ 0.0983,  0.0486, -0.0913],\n",
              "                        [ 0.0418,  0.1001,  0.0277]],\n",
              "              \n",
              "                       [[ 0.0707,  0.1039, -0.0162],\n",
              "                        [ 0.0219, -0.0733, -0.0217],\n",
              "                        [ 0.0781,  0.0540, -0.0667]],\n",
              "              \n",
              "                       [[-0.0845, -0.0720, -0.1040],\n",
              "                        [-0.0813, -0.0261,  0.0711],\n",
              "                        [ 0.0176, -0.0802, -0.0846]],\n",
              "              \n",
              "                       [[ 0.0524, -0.0784, -0.0130],\n",
              "                        [ 0.0506, -0.0488, -0.0115],\n",
              "                        [-0.0092, -0.0249, -0.0534]],\n",
              "              \n",
              "                       [[-0.0940, -0.0852, -0.0564],\n",
              "                        [ 0.1018, -0.0509, -0.0708],\n",
              "                        [ 0.0256,  0.0291,  0.0578]],\n",
              "              \n",
              "                       [[ 0.0801,  0.0587, -0.1045],\n",
              "                        [ 0.0093,  0.0639, -0.0097],\n",
              "                        [-0.0621,  0.1005, -0.0394]],\n",
              "              \n",
              "                       [[-0.0600, -0.0950,  0.0047],\n",
              "                        [ 0.0467,  0.0233,  0.0208],\n",
              "                        [-0.0799, -0.0984,  0.0019]]],\n",
              "              \n",
              "              \n",
              "                      [[[ 0.0961,  0.0608, -0.0614],\n",
              "                        [-0.0137, -0.0777, -0.0509],\n",
              "                        [ 0.0191,  0.0574,  0.0873]],\n",
              "              \n",
              "                       [[-0.0968,  0.0705, -0.0743],\n",
              "                        [ 0.0395,  0.0892,  0.0015],\n",
              "                        [ 0.0959, -0.0898, -0.0403]],\n",
              "              \n",
              "                       [[ 0.0615, -0.0230, -0.0216],\n",
              "                        [-0.0439,  0.0727,  0.0517],\n",
              "                        [ 0.0338, -0.0592, -0.0856]],\n",
              "              \n",
              "                       [[ 0.0114,  0.0312, -0.0487],\n",
              "                        [-0.0295,  0.0712,  0.0084],\n",
              "                        [ 0.0048, -0.0259, -0.0955]],\n",
              "              \n",
              "                       [[-0.0991, -0.0504, -0.0536],\n",
              "                        [ 0.0328, -0.0307, -0.0412],\n",
              "                        [ 0.1005,  0.0367,  0.0751]],\n",
              "              \n",
              "                       [[-0.0510, -0.0431,  0.0387],\n",
              "                        [-0.0702, -0.0689, -0.0051],\n",
              "                        [-0.0386, -0.0790,  0.0625]],\n",
              "              \n",
              "                       [[ 0.0848,  0.0171, -0.0184],\n",
              "                        [-0.0976, -0.0384,  0.0268],\n",
              "                        [ 0.0497, -0.0133, -0.0417]],\n",
              "              \n",
              "                       [[ 0.0587, -0.0839,  0.0666],\n",
              "                        [-0.0409,  0.0016, -0.0208],\n",
              "                        [ 0.0128, -0.0319,  0.0766]],\n",
              "              \n",
              "                       [[-0.0027,  0.0823,  0.1013],\n",
              "                        [-0.0514, -0.0769,  0.0846],\n",
              "                        [ 0.0826, -0.0805, -0.0081]],\n",
              "              \n",
              "                       [[-0.1039, -0.0863,  0.0204],\n",
              "                        [ 0.0280,  0.0223, -0.0287],\n",
              "                        [ 0.0972,  0.0151, -0.0622]]],\n",
              "              \n",
              "              \n",
              "                      [[[-0.0060,  0.0253,  0.0369],\n",
              "                        [-0.0745,  0.0395, -0.0539],\n",
              "                        [-0.0876, -0.0576,  0.1017]],\n",
              "              \n",
              "                       [[ 0.0901,  0.0944,  0.0619],\n",
              "                        [ 0.0796, -0.0141, -0.0580],\n",
              "                        [ 0.0527, -0.0546, -0.0711]],\n",
              "              \n",
              "                       [[-0.0337,  0.0221,  0.0543],\n",
              "                        [-0.0409, -0.0620,  0.0142],\n",
              "                        [-0.0621, -0.0686,  0.0549]],\n",
              "              \n",
              "                       [[-0.0177,  0.0963,  0.1025],\n",
              "                        [ 0.0315,  0.0363,  0.0243],\n",
              "                        [ 0.0017, -0.0077,  0.0014]],\n",
              "              \n",
              "                       [[ 0.0394,  0.0980, -0.0273],\n",
              "                        [-0.0446, -0.0255, -0.0509],\n",
              "                        [ 0.0179,  0.0787,  0.0824]],\n",
              "              \n",
              "                       [[ 0.0484, -0.0776, -0.0566],\n",
              "                        [-0.0232, -0.0194,  0.0087],\n",
              "                        [-0.0968,  0.0328, -0.0804]],\n",
              "              \n",
              "                       [[-0.0667, -0.0876,  0.0918],\n",
              "                        [-0.0998,  0.0795, -0.0035],\n",
              "                        [-0.0123,  0.0659, -0.0097]],\n",
              "              \n",
              "                       [[ 0.0661,  0.0762, -0.0915],\n",
              "                        [ 0.0406,  0.0199,  0.0227],\n",
              "                        [ 0.0154,  0.0288, -0.0507]],\n",
              "              \n",
              "                       [[-0.0135,  0.1002,  0.0708],\n",
              "                        [-0.0040, -0.0991,  0.0046],\n",
              "                        [-0.0718,  0.0857, -0.0640]],\n",
              "              \n",
              "                       [[-0.0076, -0.0234,  0.0188],\n",
              "                        [ 0.0992,  0.0100,  0.0610],\n",
              "                        [ 0.0818,  0.0851, -0.0364]]],\n",
              "              \n",
              "              \n",
              "                      [[[-0.0236,  0.0508, -0.0288],\n",
              "                        [ 0.0494, -0.0230, -0.0715],\n",
              "                        [ 0.0429,  0.0162,  0.0470]],\n",
              "              \n",
              "                       [[ 0.1047,  0.0720,  0.0999],\n",
              "                        [ 0.0056, -0.0907, -0.0739],\n",
              "                        [-0.0655, -0.0929, -0.0528]],\n",
              "              \n",
              "                       [[-0.0970, -0.0973, -0.0630],\n",
              "                        [-0.1039, -0.0647,  0.0402],\n",
              "                        [ 0.0879, -0.0314, -0.0307]],\n",
              "              \n",
              "                       [[ 0.0563, -0.0520, -0.0498],\n",
              "                        [ 0.0649, -0.0918,  0.0129],\n",
              "                        [ 0.0931,  0.0181,  0.0287]],\n",
              "              \n",
              "                       [[-0.0614, -0.0015,  0.0058],\n",
              "                        [ 0.0259,  0.0410,  0.0916],\n",
              "                        [-0.0805,  0.0032, -0.0527]],\n",
              "              \n",
              "                       [[-0.0834, -0.0084, -0.0928],\n",
              "                        [ 0.0736,  0.0122, -0.0568],\n",
              "                        [ 0.0551, -0.0998, -0.0408]],\n",
              "              \n",
              "                       [[-0.0205, -0.0896, -0.0670],\n",
              "                        [-0.0172,  0.0800,  0.1018],\n",
              "                        [ 0.0671, -0.0629, -0.0690]],\n",
              "              \n",
              "                       [[ 0.0920,  0.0373,  0.0028],\n",
              "                        [ 0.0143, -0.0847, -0.0352],\n",
              "                        [ 0.1015, -0.0260, -0.0053]],\n",
              "              \n",
              "                       [[-0.0875, -0.0590, -0.0022],\n",
              "                        [-0.0655, -0.0131,  0.0429],\n",
              "                        [-0.1031,  0.0313, -0.0697]],\n",
              "              \n",
              "                       [[-0.0514,  0.0405,  0.0838],\n",
              "                        [-0.0288, -0.0433, -0.0953],\n",
              "                        [-0.0544, -0.0923, -0.0241]]],\n",
              "              \n",
              "              \n",
              "                      [[[ 0.0215, -0.0988,  0.0920],\n",
              "                        [ 0.0661, -0.1032, -0.0503],\n",
              "                        [ 0.0344, -0.0217, -0.0115]],\n",
              "              \n",
              "                       [[-0.0476,  0.0847, -0.0589],\n",
              "                        [ 0.0874,  0.0068,  0.0212],\n",
              "                        [ 0.0822, -0.0174, -0.0600]],\n",
              "              \n",
              "                       [[-0.0170,  0.0855, -0.0782],\n",
              "                        [ 0.0239, -0.1036,  0.0553],\n",
              "                        [ 0.0389,  0.0045,  0.0452]],\n",
              "              \n",
              "                       [[ 0.0001,  0.0583, -0.0834],\n",
              "                        [-0.0155,  0.0468,  0.1050],\n",
              "                        [ 0.0537, -0.0767,  0.0811]],\n",
              "              \n",
              "                       [[-0.0235, -0.0225, -0.0958],\n",
              "                        [-0.0166,  0.0746,  0.0147],\n",
              "                        [-0.0614,  0.0324, -0.0338]],\n",
              "              \n",
              "                       [[ 0.0962, -0.0915, -0.0333],\n",
              "                        [-0.1018, -0.0415,  0.0332],\n",
              "                        [ 0.1015,  0.0177,  0.1033]],\n",
              "              \n",
              "                       [[ 0.0206,  0.0609,  0.0845],\n",
              "                        [ 0.0881, -0.0590,  0.0969],\n",
              "                        [ 0.0639, -0.0493, -0.0503]],\n",
              "              \n",
              "                       [[-0.0884,  0.0265, -0.0854],\n",
              "                        [ 0.0445,  0.0333, -0.0916],\n",
              "                        [ 0.0287, -0.0086,  0.0482]],\n",
              "              \n",
              "                       [[ 0.0605, -0.1048,  0.0967],\n",
              "                        [ 0.0884,  0.0419, -0.0963],\n",
              "                        [-0.0377, -0.0305, -0.0271]],\n",
              "              \n",
              "                       [[ 0.0594,  0.0383,  0.0835],\n",
              "                        [-0.0395,  0.0355,  0.0375],\n",
              "                        [-0.0878, -0.1022, -0.0547]]],\n",
              "              \n",
              "              \n",
              "                      [[[ 0.0722, -0.0992, -0.0918],\n",
              "                        [ 0.0591,  0.0569,  0.0867],\n",
              "                        [-0.0796, -0.0771,  0.0541]],\n",
              "              \n",
              "                       [[ 0.0917,  0.0631,  0.0165],\n",
              "                        [ 0.0347,  0.1000, -0.0680],\n",
              "                        [-0.0479,  0.0737, -0.0721]],\n",
              "              \n",
              "                       [[-0.0581,  0.0769,  0.0333],\n",
              "                        [ 0.0341, -0.0447, -0.0015],\n",
              "                        [ 0.0965, -0.0633,  0.0008]],\n",
              "              \n",
              "                       [[ 0.0501, -0.0728,  0.1024],\n",
              "                        [-0.0527, -0.0253, -0.0285],\n",
              "                        [-0.0687, -0.1034,  0.0594]],\n",
              "              \n",
              "                       [[ 0.0280, -0.0987, -0.0678],\n",
              "                        [ 0.1042,  0.0403,  0.0423],\n",
              "                        [-0.0631, -0.0462, -0.0159]],\n",
              "              \n",
              "                       [[-0.0193, -0.0722,  0.0087],\n",
              "                        [ 0.0105, -0.0133,  0.0146],\n",
              "                        [-0.0418,  0.0274,  0.0398]],\n",
              "              \n",
              "                       [[-0.0555, -0.1045,  0.0552],\n",
              "                        [ 0.0251, -0.0536,  0.1016],\n",
              "                        [-0.0477,  0.0712,  0.0535]],\n",
              "              \n",
              "                       [[-0.0884,  0.0680, -0.0969],\n",
              "                        [-0.0584, -0.0176, -0.0711],\n",
              "                        [ 0.1030, -0.0211,  0.0419]],\n",
              "              \n",
              "                       [[-0.0941,  0.0607, -0.0328],\n",
              "                        [-0.0802,  0.0154,  0.0511],\n",
              "                        [ 0.0912, -0.0644, -0.0519]],\n",
              "              \n",
              "                       [[ 0.0203,  0.0286,  0.0405],\n",
              "                        [ 0.0579, -0.0239,  0.0586],\n",
              "                        [ 0.0777, -0.0275,  0.0750]]],\n",
              "              \n",
              "              \n",
              "                      [[[ 0.0515,  0.0930, -0.0599],\n",
              "                        [-0.0521, -0.0305,  0.0053],\n",
              "                        [ 0.0633, -0.0602,  0.0528]],\n",
              "              \n",
              "                       [[-0.0378,  0.0637, -0.0050],\n",
              "                        [-0.0923, -0.0580, -0.0763],\n",
              "                        [ 0.0523, -0.0707, -0.0088]],\n",
              "              \n",
              "                       [[ 0.0227, -0.0578,  0.0304],\n",
              "                        [-0.1029, -0.0754, -0.0955],\n",
              "                        [-0.0319, -0.0384,  0.0151]],\n",
              "              \n",
              "                       [[-0.0195,  0.0496,  0.0966],\n",
              "                        [ 0.0378, -0.0415, -0.0987],\n",
              "                        [ 0.0382, -0.0522,  0.0536]],\n",
              "              \n",
              "                       [[ 0.0705,  0.0407,  0.0989],\n",
              "                        [ 0.1001,  0.0223, -0.0768],\n",
              "                        [ 0.0942, -0.0500, -0.0498]],\n",
              "              \n",
              "                       [[ 0.0882,  0.0817,  0.0318],\n",
              "                        [ 0.0066, -0.0887, -0.0109],\n",
              "                        [ 0.1011,  0.0268,  0.0090]],\n",
              "              \n",
              "                       [[-0.0219, -0.0368,  0.0628],\n",
              "                        [ 0.0065,  0.0686, -0.0187],\n",
              "                        [ 0.0461,  0.0435,  0.0168]],\n",
              "              \n",
              "                       [[ 0.0662,  0.0661,  0.0977],\n",
              "                        [ 0.0810, -0.0270, -0.0892],\n",
              "                        [ 0.0193, -0.0009, -0.0275]],\n",
              "              \n",
              "                       [[-0.0177,  0.0050,  0.0769],\n",
              "                        [ 0.0329, -0.0374, -0.0433],\n",
              "                        [-0.0261, -0.0407,  0.0948]],\n",
              "              \n",
              "                       [[ 0.0558,  0.0952,  0.0003],\n",
              "                        [ 0.0213,  0.0366, -0.0998],\n",
              "                        [ 0.0094, -0.0071, -0.0591]]],\n",
              "              \n",
              "              \n",
              "                      [[[-0.0818,  0.0933,  0.0857],\n",
              "                        [ 0.0489,  0.1006, -0.0428],\n",
              "                        [-0.0182,  0.0399, -0.0174]],\n",
              "              \n",
              "                       [[-0.0207, -0.0871,  0.0283],\n",
              "                        [-0.0637,  0.0038,  0.1028],\n",
              "                        [-0.0324, -0.0332,  0.0636]],\n",
              "              \n",
              "                       [[-0.0388, -0.0091,  0.0984],\n",
              "                        [-0.0432, -0.0754, -0.0590],\n",
              "                        [-0.0292, -0.0500, -0.0547]],\n",
              "              \n",
              "                       [[ 0.0426,  0.0179, -0.0337],\n",
              "                        [-0.0819, -0.0332, -0.0445],\n",
              "                        [-0.0343, -0.0951,  0.0227]],\n",
              "              \n",
              "                       [[-0.0774, -0.0821, -0.0861],\n",
              "                        [ 0.0440, -0.0635, -0.0435],\n",
              "                        [ 0.0826,  0.0560,  0.0604]],\n",
              "              \n",
              "                       [[-0.1001, -0.0756, -0.0398],\n",
              "                        [ 0.0871,  0.0108, -0.0788],\n",
              "                        [ 0.0007, -0.0819, -0.0231]],\n",
              "              \n",
              "                       [[-0.0290,  0.0912,  0.0326],\n",
              "                        [-0.0184,  0.0178, -0.0304],\n",
              "                        [ 0.0414,  0.0417,  0.0283]],\n",
              "              \n",
              "                       [[-0.0411,  0.0899, -0.0152],\n",
              "                        [-0.0410,  0.0660,  0.0859],\n",
              "                        [ 0.1049,  0.0312, -0.0359]],\n",
              "              \n",
              "                       [[ 0.0535,  0.0904, -0.1034],\n",
              "                        [-0.0131, -0.0719,  0.0196],\n",
              "                        [ 0.0436, -0.0218, -0.0088]],\n",
              "              \n",
              "                       [[ 0.0474, -0.0177, -0.0885],\n",
              "                        [ 0.0843, -0.0531, -0.0116],\n",
              "                        [ 0.0099, -0.0063, -0.0992]]]])),\n",
              "             ('conv_block_1.2.bias',\n",
              "              tensor([ 0.0484, -0.0479, -0.0547,  0.0252, -0.0550, -0.0487, -0.0355, -0.0396,\n",
              "                      -0.0440, -0.0284])),\n",
              "             ('conv_block_2.0.weight',\n",
              "              tensor([[[[ 2.7393e-02, -8.5299e-02, -6.3802e-02],\n",
              "                        [ 1.5381e-03,  1.4659e-02,  5.8217e-02],\n",
              "                        [-7.4044e-02,  3.3646e-02,  5.9914e-02]],\n",
              "              \n",
              "                       [[ 5.8530e-02, -9.8180e-02, -4.0225e-02],\n",
              "                        [-9.0606e-02, -6.6704e-02,  5.8711e-02],\n",
              "                        [-1.5740e-02,  4.4769e-02, -6.1876e-02]],\n",
              "              \n",
              "                       [[ 1.6018e-02, -6.3758e-02,  5.2693e-02],\n",
              "                        [-4.6104e-02, -2.6432e-02, -9.1456e-02],\n",
              "                        [ 3.4822e-04,  1.0008e-01,  5.1163e-02]],\n",
              "              \n",
              "                       [[-5.6240e-02,  1.4176e-03, -1.1558e-02],\n",
              "                        [-8.4862e-02,  8.2650e-02,  1.6993e-03],\n",
              "                        [ 2.2199e-02, -4.2567e-02, -4.9323e-02]],\n",
              "              \n",
              "                       [[ 1.7381e-02,  3.8971e-02,  2.3643e-02],\n",
              "                        [-5.0801e-02,  1.0234e-01, -1.5517e-02],\n",
              "                        [-6.4554e-02, -4.9301e-02,  1.0377e-01]],\n",
              "              \n",
              "                       [[ 5.0766e-06, -1.4309e-02, -4.3867e-02],\n",
              "                        [-2.7633e-02, -8.8779e-02, -8.3767e-02],\n",
              "                        [ 6.1695e-02,  9.0172e-02,  1.0059e-01]],\n",
              "              \n",
              "                       [[-7.6099e-02,  5.7012e-02, -6.5245e-02],\n",
              "                        [ 6.2883e-02,  7.6058e-02,  8.1573e-02],\n",
              "                        [ 7.5900e-02,  6.5941e-02,  2.0516e-03]],\n",
              "              \n",
              "                       [[ 4.8434e-02, -3.7712e-02,  4.5899e-02],\n",
              "                        [-3.3879e-02, -1.7700e-03, -9.1746e-02],\n",
              "                        [-2.7562e-02, -5.5432e-02, -3.5557e-02]],\n",
              "              \n",
              "                       [[-6.7313e-02, -9.4810e-02,  6.8639e-03],\n",
              "                        [ 6.8408e-02,  9.6001e-02,  6.1512e-02],\n",
              "                        [-5.4638e-02, -1.0425e-01,  3.9983e-02]],\n",
              "              \n",
              "                       [[ 5.9062e-02, -9.0495e-02,  3.7798e-02],\n",
              "                        [ 8.9121e-02,  6.3853e-03, -6.3505e-02],\n",
              "                        [ 8.6423e-02,  4.5011e-02,  6.9802e-02]]],\n",
              "              \n",
              "              \n",
              "                      [[[-7.1287e-02,  6.1342e-02, -7.2002e-02],\n",
              "                        [ 1.0430e-01, -4.4662e-02,  6.3516e-02],\n",
              "                        [ 2.1107e-02,  2.7935e-02, -1.6165e-02]],\n",
              "              \n",
              "                       [[ 4.3295e-02, -4.3932e-02, -9.9357e-02],\n",
              "                        [-4.0499e-02,  8.2592e-02, -2.7751e-02],\n",
              "                        [ 3.3132e-02, -3.8973e-02,  7.9073e-02]],\n",
              "              \n",
              "                       [[ 6.3086e-02,  3.7211e-02, -5.3881e-02],\n",
              "                        [-8.6133e-02,  3.9686e-03, -6.1839e-02],\n",
              "                        [ 8.6667e-02, -1.0130e-01,  4.7104e-02]],\n",
              "              \n",
              "                       [[ 1.0508e-01,  5.2792e-02,  3.5942e-02],\n",
              "                        [-1.0142e-01,  1.0139e-01, -1.8030e-02],\n",
              "                        [-9.8495e-02,  1.0406e-01, -4.2894e-02]],\n",
              "              \n",
              "                       [[-7.4575e-03,  9.6479e-02, -7.3070e-02],\n",
              "                        [-7.4576e-02,  1.7141e-02, -1.4109e-02],\n",
              "                        [ 2.4280e-02, -8.8407e-02,  3.1524e-03]],\n",
              "              \n",
              "                       [[-4.6882e-02, -5.1820e-02, -9.6517e-02],\n",
              "                        [ 5.5890e-02,  2.0306e-02, -8.9118e-02],\n",
              "                        [ 8.3648e-02,  3.1794e-02,  1.9560e-02]],\n",
              "              \n",
              "                       [[-6.1890e-02,  1.5896e-02,  1.0157e-01],\n",
              "                        [ 7.2299e-02, -8.2100e-02,  9.6220e-02],\n",
              "                        [ 8.1702e-03,  5.0698e-02,  8.1869e-02]],\n",
              "              \n",
              "                       [[ 8.9862e-02, -8.2170e-02,  9.2303e-02],\n",
              "                        [-7.1591e-02,  7.9021e-03, -7.3656e-02],\n",
              "                        [-2.3109e-02, -4.7901e-03, -1.2611e-02]],\n",
              "              \n",
              "                       [[-1.6652e-02,  8.3137e-03,  1.0398e-01],\n",
              "                        [ 6.1244e-02,  5.8973e-02,  4.2190e-02],\n",
              "                        [ 8.1606e-02, -4.8645e-03,  8.3813e-03]],\n",
              "              \n",
              "                       [[ 2.1693e-02, -9.1931e-02, -8.4913e-02],\n",
              "                        [ 1.2923e-02, -4.1241e-02, -1.9342e-03],\n",
              "                        [-2.4187e-02,  1.6408e-02,  6.8581e-02]]],\n",
              "              \n",
              "              \n",
              "                      [[[-3.4958e-02,  8.4418e-02,  8.3227e-02],\n",
              "                        [-8.0901e-02, -8.1400e-02, -8.5284e-02],\n",
              "                        [-5.7766e-02, -4.1033e-02, -7.9341e-03]],\n",
              "              \n",
              "                       [[-2.5635e-02, -5.3258e-02, -3.3488e-02],\n",
              "                        [-3.8131e-02,  1.0341e-01, -3.9068e-02],\n",
              "                        [-7.5473e-02,  4.3818e-02, -6.0886e-03]],\n",
              "              \n",
              "                       [[ 8.0698e-02,  6.5863e-02,  9.6843e-02],\n",
              "                        [-7.7197e-02,  6.7764e-02,  8.8464e-02],\n",
              "                        [-5.2054e-02,  9.6890e-02,  7.9019e-02]],\n",
              "              \n",
              "                       [[ 1.1544e-03,  5.0823e-02, -3.6853e-02],\n",
              "                        [-9.1936e-02,  2.6645e-02,  3.1425e-02],\n",
              "                        [-6.8891e-02,  5.1123e-02, -9.0043e-02]],\n",
              "              \n",
              "                       [[ 9.0718e-02,  1.0208e-01,  2.8699e-02],\n",
              "                        [-6.6137e-02,  5.1300e-02,  1.7963e-02],\n",
              "                        [ 2.8663e-02,  3.4643e-02,  8.0254e-02]],\n",
              "              \n",
              "                       [[-4.5309e-02, -2.3711e-02,  2.8746e-02],\n",
              "                        [ 1.1486e-02,  8.5000e-02, -5.5365e-02],\n",
              "                        [-3.8387e-03,  1.9696e-02, -2.7996e-02]],\n",
              "              \n",
              "                       [[ 7.1859e-02,  1.1530e-02, -9.7422e-02],\n",
              "                        [-1.1420e-02, -4.7809e-02,  1.0243e-02],\n",
              "                        [-1.2250e-02, -1.0456e-01, -1.9208e-02]],\n",
              "              \n",
              "                       [[-1.0096e-02, -3.1083e-02,  9.6848e-02],\n",
              "                        [-2.3000e-02,  6.7717e-02,  2.6112e-02],\n",
              "                        [-8.8979e-02,  2.4770e-02,  8.7356e-02]],\n",
              "              \n",
              "                       [[-6.8948e-02, -6.8134e-02,  1.0318e-01],\n",
              "                        [ 8.4697e-02, -5.8807e-02,  6.3429e-02],\n",
              "                        [-1.3485e-02, -1.0393e-01,  7.9198e-03]],\n",
              "              \n",
              "                       [[ 3.4057e-02, -3.1619e-02,  3.6670e-02],\n",
              "                        [-9.0136e-02,  7.3050e-02,  8.9865e-02],\n",
              "                        [ 5.8130e-02,  1.7866e-02,  3.4716e-02]]],\n",
              "              \n",
              "              \n",
              "                      [[[-7.6269e-02, -2.6339e-02, -1.0063e-02],\n",
              "                        [-5.8659e-02, -7.7857e-02,  7.0900e-02],\n",
              "                        [ 7.1535e-02, -9.5731e-02,  3.3542e-02]],\n",
              "              \n",
              "                       [[ 4.2881e-02,  1.0014e-01,  6.0985e-02],\n",
              "                        [ 9.6907e-02, -3.4510e-02,  7.3827e-02],\n",
              "                        [ 8.5740e-02, -9.9541e-02, -8.4613e-02]],\n",
              "              \n",
              "                       [[ 2.1335e-02,  5.7557e-02, -5.2369e-02],\n",
              "                        [ 1.1609e-02, -1.5303e-04,  2.6680e-02],\n",
              "                        [-5.6642e-02,  5.9455e-02,  7.0098e-02]],\n",
              "              \n",
              "                       [[-7.3139e-02,  1.0211e-03,  2.9247e-04],\n",
              "                        [ 3.3849e-02,  9.8198e-02,  3.0913e-02],\n",
              "                        [-2.3951e-02,  9.4672e-02, -4.0112e-02]],\n",
              "              \n",
              "                       [[-3.0608e-02,  7.1969e-03, -8.0270e-02],\n",
              "                        [ 1.1470e-02, -7.1518e-02,  1.0838e-02],\n",
              "                        [ 1.0099e-02,  1.4591e-02, -8.8891e-02]],\n",
              "              \n",
              "                       [[-1.0012e-01,  4.8501e-02,  9.0399e-02],\n",
              "                        [-9.3537e-02,  3.9043e-02, -7.7594e-02],\n",
              "                        [ 6.6082e-03,  9.8068e-02,  7.9965e-02]],\n",
              "              \n",
              "                       [[-7.7069e-02,  6.5203e-02,  5.5057e-02],\n",
              "                        [-1.6168e-04,  1.0211e-01, -4.1866e-02],\n",
              "                        [-2.4530e-02, -5.3275e-02,  1.5168e-02]],\n",
              "              \n",
              "                       [[ 2.7911e-02,  8.3990e-03, -5.9307e-02],\n",
              "                        [-4.7452e-02,  3.5855e-02, -9.2426e-02],\n",
              "                        [-1.6416e-02, -2.3350e-03, -4.2708e-02]],\n",
              "              \n",
              "                       [[ 3.8360e-02,  6.7940e-03,  7.4004e-02],\n",
              "                        [-9.3616e-03, -6.6528e-02,  7.4477e-02],\n",
              "                        [ 1.4720e-02, -3.0189e-02, -6.9476e-02]],\n",
              "              \n",
              "                       [[ 2.4707e-02, -1.0053e-01,  2.7762e-02],\n",
              "                        [ 5.2119e-02, -9.2465e-02, -6.9009e-02],\n",
              "                        [-7.5781e-02,  8.8597e-02,  8.9611e-02]]],\n",
              "              \n",
              "              \n",
              "                      [[[ 6.5987e-03,  9.8959e-02, -3.5239e-02],\n",
              "                        [-1.0233e-01,  3.6819e-02,  3.7343e-02],\n",
              "                        [ 1.0334e-01, -3.0510e-05,  8.0785e-02]],\n",
              "              \n",
              "                       [[ 6.4612e-02,  7.6292e-02, -1.0460e-01],\n",
              "                        [ 8.6800e-02, -8.9856e-02,  9.4501e-02],\n",
              "                        [-4.3682e-03, -9.3415e-02,  2.9314e-02]],\n",
              "              \n",
              "                       [[-2.1456e-02, -9.4678e-02, -3.8215e-02],\n",
              "                        [ 1.0868e-02,  8.2098e-02, -3.2406e-02],\n",
              "                        [ 6.2610e-02,  1.3200e-02,  3.5531e-03]],\n",
              "              \n",
              "                       [[ 2.0170e-02, -6.9177e-02, -8.7616e-02],\n",
              "                        [-3.3121e-02, -9.8226e-02, -4.9158e-02],\n",
              "                        [ 4.8494e-03, -6.9424e-02, -4.3723e-02]],\n",
              "              \n",
              "                       [[-1.8941e-02, -1.2144e-02, -5.8187e-02],\n",
              "                        [ 5.0650e-03, -1.4795e-02,  3.0147e-02],\n",
              "                        [ 4.7611e-03, -5.2638e-02, -3.6291e-02]],\n",
              "              \n",
              "                       [[-1.2149e-03, -6.5774e-02,  8.2520e-03],\n",
              "                        [-7.4425e-03,  4.0897e-02,  2.4947e-02],\n",
              "                        [ 7.8887e-02, -3.4749e-03, -7.7887e-02]],\n",
              "              \n",
              "                       [[ 4.7119e-02, -7.1240e-02, -1.4489e-02],\n",
              "                        [-3.4132e-02, -3.9997e-02, -3.9000e-02],\n",
              "                        [ 9.6863e-02,  6.0342e-02,  2.9213e-02]],\n",
              "              \n",
              "                       [[ 9.8975e-02, -9.5524e-02,  1.7010e-02],\n",
              "                        [ 6.7481e-02,  7.0022e-02, -8.3890e-02],\n",
              "                        [ 3.7514e-02, -6.0050e-02, -4.1187e-03]],\n",
              "              \n",
              "                       [[-2.1996e-02, -8.8013e-02, -1.0055e-01],\n",
              "                        [-6.9349e-02,  4.7832e-02,  4.8218e-02],\n",
              "                        [-9.1681e-02, -3.9586e-02,  1.7218e-03]],\n",
              "              \n",
              "                       [[-9.1135e-02,  5.9393e-02,  9.5473e-02],\n",
              "                        [ 1.8643e-02, -7.8321e-02,  2.4580e-02],\n",
              "                        [ 3.8265e-02,  8.3468e-02, -5.6085e-02]]],\n",
              "              \n",
              "              \n",
              "                      [[[-9.4437e-02,  4.6312e-02,  6.5624e-03],\n",
              "                        [-3.4345e-02, -4.4169e-02, -5.4351e-02],\n",
              "                        [ 8.5328e-02, -1.8187e-02,  7.6022e-02]],\n",
              "              \n",
              "                       [[ 9.4094e-02,  1.3353e-02,  2.2454e-02],\n",
              "                        [-7.1789e-03,  7.2397e-02, -9.4983e-02],\n",
              "                        [ 4.1919e-02, -1.7174e-02,  4.8132e-02]],\n",
              "              \n",
              "                       [[-4.6949e-04, -3.9029e-02, -1.1379e-02],\n",
              "                        [ 5.6920e-02, -7.3210e-02, -6.6629e-02],\n",
              "                        [-2.3611e-02, -3.8235e-02,  4.1409e-02]],\n",
              "              \n",
              "                       [[ 7.0937e-02, -1.1289e-02,  9.9672e-02],\n",
              "                        [-4.4042e-02, -5.9151e-02, -4.7191e-02],\n",
              "                        [-7.2624e-02, -7.3885e-02, -9.3921e-02]],\n",
              "              \n",
              "                       [[-9.3422e-02,  2.7512e-02,  6.4284e-02],\n",
              "                        [ 9.8963e-02,  8.9787e-02, -6.0709e-03],\n",
              "                        [ 2.0454e-02, -6.3068e-02,  4.0743e-02]],\n",
              "              \n",
              "                       [[-1.0107e-01,  4.9719e-02,  1.9334e-02],\n",
              "                        [ 3.2393e-02,  3.8595e-02, -4.8394e-02],\n",
              "                        [ 9.0452e-02,  5.0307e-02,  6.9243e-02]],\n",
              "              \n",
              "                       [[ 1.3922e-02,  6.6196e-02,  7.0941e-02],\n",
              "                        [ 4.7775e-02,  8.0297e-02, -1.9119e-02],\n",
              "                        [ 6.9310e-02,  2.4286e-02,  6.3424e-02]],\n",
              "              \n",
              "                       [[ 1.0267e-01,  2.3869e-02, -3.9124e-02],\n",
              "                        [-1.0488e-02,  2.9676e-02,  1.7773e-02],\n",
              "                        [-2.8795e-02,  8.2590e-02,  6.3331e-02]],\n",
              "              \n",
              "                       [[-6.5475e-02, -8.5889e-03, -1.0119e-02],\n",
              "                        [-6.6063e-02,  1.5374e-02, -3.2360e-02],\n",
              "                        [-5.4419e-02, -3.3894e-02, -3.7584e-02]],\n",
              "              \n",
              "                       [[ 1.0084e-01,  4.0432e-02,  1.0373e-01],\n",
              "                        [ 2.8903e-02,  2.3868e-02,  4.3333e-02],\n",
              "                        [ 1.8092e-02, -8.2722e-02, -6.2334e-02]]],\n",
              "              \n",
              "              \n",
              "                      [[[-2.5538e-02,  1.5846e-03,  3.9709e-02],\n",
              "                        [ 4.0588e-02,  8.3623e-02,  2.1458e-02],\n",
              "                        [-3.5975e-02, -7.9271e-02, -7.7203e-02]],\n",
              "              \n",
              "                       [[-6.2965e-02,  3.1792e-02,  5.6950e-02],\n",
              "                        [ 9.2224e-02, -3.3342e-02, -8.3150e-03],\n",
              "                        [-3.1303e-02, -3.8517e-04,  3.3837e-02]],\n",
              "              \n",
              "                       [[-2.3160e-03,  4.8799e-03,  1.3354e-02],\n",
              "                        [ 3.9256e-02, -3.1981e-02, -6.2855e-02],\n",
              "                        [ 2.4869e-02, -1.2481e-02, -4.7753e-02]],\n",
              "              \n",
              "                       [[ 4.4268e-02,  9.5597e-04, -1.5333e-02],\n",
              "                        [-5.1027e-02, -1.3868e-02, -8.9632e-02],\n",
              "                        [ 2.3980e-02,  1.5818e-03,  6.3966e-02]],\n",
              "              \n",
              "                       [[ 6.8063e-03,  8.4277e-03,  2.8715e-02],\n",
              "                        [ 8.0210e-02, -4.9812e-02,  6.2930e-02],\n",
              "                        [ 2.5779e-02, -7.0320e-02,  3.6702e-02]],\n",
              "              \n",
              "                       [[-6.3217e-02, -3.3181e-02, -5.0245e-02],\n",
              "                        [-7.1711e-02,  8.3017e-02, -9.4217e-02],\n",
              "                        [ 5.2706e-02, -9.4870e-02, -1.2829e-02]],\n",
              "              \n",
              "                       [[ 6.2868e-03,  7.4937e-02, -3.8147e-02],\n",
              "                        [ 3.0340e-02,  1.6329e-02,  6.2021e-02],\n",
              "                        [ 6.2667e-03,  3.9470e-02, -6.3677e-02]],\n",
              "              \n",
              "                       [[-7.3250e-02,  9.3928e-02, -7.6808e-02],\n",
              "                        [-1.7945e-02, -1.2742e-02,  1.0308e-01],\n",
              "                        [-2.2780e-02, -8.0249e-02, -2.6721e-02]],\n",
              "              \n",
              "                       [[ 5.4372e-02,  4.1773e-02,  8.7204e-02],\n",
              "                        [-2.1579e-02,  4.9653e-02, -9.9194e-02],\n",
              "                        [ 4.0787e-02,  4.8432e-02,  6.7998e-02]],\n",
              "              \n",
              "                       [[-6.0446e-02, -2.8142e-02,  2.5502e-02],\n",
              "                        [-7.4905e-02, -8.3851e-02, -1.0141e-01],\n",
              "                        [ 5.8842e-03,  6.5458e-02,  2.7075e-02]]],\n",
              "              \n",
              "              \n",
              "                      [[[ 6.4263e-03,  3.6727e-02, -6.6240e-02],\n",
              "                        [ 1.1113e-02, -2.6186e-02, -5.2193e-02],\n",
              "                        [ 9.0902e-02, -8.1550e-02,  1.5448e-02]],\n",
              "              \n",
              "                       [[-9.2624e-02, -3.5762e-03, -4.6840e-02],\n",
              "                        [ 3.4695e-02, -5.9191e-02,  6.7466e-02],\n",
              "                        [-8.5536e-02,  6.3313e-02, -7.9181e-02]],\n",
              "              \n",
              "                       [[ 5.6456e-02, -4.4384e-02, -2.4556e-04],\n",
              "                        [-1.9238e-02,  6.8414e-02,  3.4546e-02],\n",
              "                        [-9.2887e-02,  9.6914e-03, -7.2718e-02]],\n",
              "              \n",
              "                       [[ 7.8800e-02,  1.7319e-02, -2.7109e-02],\n",
              "                        [-5.3777e-02,  3.6485e-02, -6.3129e-02],\n",
              "                        [ 4.9992e-02,  5.7519e-02,  6.4701e-02]],\n",
              "              \n",
              "                       [[ 2.7537e-02, -9.2272e-02,  7.5823e-02],\n",
              "                        [-3.2700e-02, -3.1163e-02, -1.1325e-02],\n",
              "                        [ 7.7068e-02,  8.1052e-02,  1.6276e-02]],\n",
              "              \n",
              "                       [[ 5.0296e-02, -9.8241e-02,  2.4900e-04],\n",
              "                        [-9.3254e-02,  3.5876e-02, -7.5099e-02],\n",
              "                        [-3.7568e-02,  7.3684e-02,  1.0074e-01]],\n",
              "              \n",
              "                       [[-6.3286e-02, -5.8503e-02,  1.3055e-02],\n",
              "                        [ 4.1437e-02, -1.7168e-02, -3.2918e-02],\n",
              "                        [-6.9237e-02,  4.4997e-02,  1.0328e-01]],\n",
              "              \n",
              "                       [[-5.1026e-02,  4.9718e-02,  5.1481e-02],\n",
              "                        [ 8.4728e-02, -1.2001e-02,  3.3202e-03],\n",
              "                        [ 7.7444e-02,  6.6631e-02,  1.0411e-01]],\n",
              "              \n",
              "                       [[-3.0207e-02,  4.1709e-02,  7.3605e-02],\n",
              "                        [-7.1553e-02,  2.0940e-02, -2.3586e-02],\n",
              "                        [ 6.7760e-02, -4.7342e-02,  7.3933e-03]],\n",
              "              \n",
              "                       [[ 6.3067e-02, -9.6567e-02, -8.9004e-02],\n",
              "                        [-5.3989e-02,  6.7611e-02,  7.0680e-02],\n",
              "                        [-7.1991e-02,  2.0100e-02, -5.5854e-02]]],\n",
              "              \n",
              "              \n",
              "                      [[[-4.8926e-02,  9.0907e-02,  5.0914e-02],\n",
              "                        [-2.8828e-02,  1.5516e-02,  2.0424e-02],\n",
              "                        [ 2.4691e-02, -3.6079e-02, -6.2074e-02]],\n",
              "              \n",
              "                       [[ 6.9788e-02,  1.4164e-02,  4.4119e-02],\n",
              "                        [-3.9922e-02,  5.1057e-02,  7.6713e-02],\n",
              "                        [ 6.4107e-02,  2.8660e-02,  1.0371e-01]],\n",
              "              \n",
              "                       [[-2.3053e-04,  2.2441e-02,  1.0015e-01],\n",
              "                        [ 1.0245e-01, -4.4506e-02,  9.4953e-02],\n",
              "                        [ 3.8902e-02, -1.1799e-02,  9.2038e-02]],\n",
              "              \n",
              "                       [[-5.4605e-02,  6.8490e-02,  1.0445e-01],\n",
              "                        [-7.2701e-02, -6.2201e-02, -1.0445e-01],\n",
              "                        [-1.8970e-02, -9.5733e-02, -3.5304e-02]],\n",
              "              \n",
              "                       [[ 3.2002e-02,  7.4511e-02,  5.8717e-02],\n",
              "                        [ 5.8511e-02,  4.3730e-02, -6.5378e-02],\n",
              "                        [-8.3694e-02,  4.3696e-03,  1.0009e-01]],\n",
              "              \n",
              "                       [[ 5.9351e-03, -9.0662e-03, -7.1545e-02],\n",
              "                        [-5.2266e-02, -8.1256e-02,  8.4398e-02],\n",
              "                        [-1.7174e-02, -9.3119e-02,  1.1308e-02]],\n",
              "              \n",
              "                       [[ 7.6494e-03, -1.3023e-02,  3.7733e-02],\n",
              "                        [ 5.6687e-02, -9.9128e-02, -8.0753e-02],\n",
              "                        [-5.0639e-03, -9.7729e-02, -9.5750e-02]],\n",
              "              \n",
              "                       [[ 9.3067e-02, -8.0174e-03, -5.2113e-02],\n",
              "                        [-3.6157e-02, -8.2295e-02,  8.2258e-02],\n",
              "                        [-2.2857e-02, -5.9265e-02, -7.9944e-02]],\n",
              "              \n",
              "                       [[ 6.1611e-02, -1.4571e-02, -1.1074e-02],\n",
              "                        [-2.7473e-02, -5.0883e-02,  1.8751e-02],\n",
              "                        [ 8.1099e-02, -6.1093e-02,  5.0504e-03]],\n",
              "              \n",
              "                       [[-8.0165e-02, -4.9426e-02,  9.2525e-02],\n",
              "                        [ 1.1052e-03,  1.0154e-01, -1.8468e-02],\n",
              "                        [-5.7453e-02, -6.2981e-02,  9.3426e-02]]],\n",
              "              \n",
              "              \n",
              "                      [[[-8.1058e-02,  5.5318e-02,  2.6203e-02],\n",
              "                        [ 3.1107e-02,  5.9476e-02, -2.7577e-02],\n",
              "                        [ 6.5223e-02, -8.3982e-02, -3.7087e-02]],\n",
              "              \n",
              "                       [[ 7.7164e-02,  3.1283e-02, -1.4038e-02],\n",
              "                        [-2.4616e-02, -6.4364e-02,  6.4098e-02],\n",
              "                        [-3.3520e-03, -3.5664e-03,  2.4929e-02]],\n",
              "              \n",
              "                       [[ 7.7787e-02, -5.3778e-02, -3.6303e-02],\n",
              "                        [ 7.1429e-02,  5.9532e-02, -5.1855e-02],\n",
              "                        [-1.0428e-01,  1.9555e-02,  5.5434e-02]],\n",
              "              \n",
              "                       [[ 2.5178e-02,  7.4768e-02, -8.3640e-02],\n",
              "                        [ 5.3156e-02, -6.5531e-02,  5.9325e-02],\n",
              "                        [ 7.8394e-02,  3.3385e-02,  8.5284e-02]],\n",
              "              \n",
              "                       [[-6.9481e-02, -9.4275e-02, -1.0135e-01],\n",
              "                        [ 6.6179e-02,  3.6926e-02, -7.7188e-02],\n",
              "                        [ 5.1048e-02,  9.6177e-02, -1.0394e-01]],\n",
              "              \n",
              "                       [[ 7.6466e-02,  1.6167e-02,  9.8053e-03],\n",
              "                        [ 9.4847e-02,  9.5458e-02,  4.4414e-02],\n",
              "                        [ 8.3288e-02,  4.3853e-02,  1.7176e-02]],\n",
              "              \n",
              "                       [[-9.2656e-02,  1.9689e-02, -7.4993e-02],\n",
              "                        [ 3.2452e-02,  1.8598e-02,  2.3681e-03],\n",
              "                        [-7.2071e-02, -6.3899e-02,  7.7912e-02]],\n",
              "              \n",
              "                       [[ 5.1336e-02,  5.5576e-02, -3.1410e-02],\n",
              "                        [-1.8151e-02, -2.7014e-02,  7.2489e-02],\n",
              "                        [-4.5504e-02,  6.6394e-02,  7.2679e-02]],\n",
              "              \n",
              "                       [[-9.6403e-02,  6.4369e-04, -2.0076e-02],\n",
              "                        [-5.8273e-02,  4.5507e-02, -1.2807e-02],\n",
              "                        [ 9.2287e-02, -6.5976e-02,  4.8976e-02]],\n",
              "              \n",
              "                       [[-8.9998e-02, -5.2833e-02,  7.1903e-03],\n",
              "                        [ 8.3283e-02,  5.5521e-02, -8.6550e-02],\n",
              "                        [ 1.1676e-02, -6.2138e-02,  4.5674e-03]]]])),\n",
              "             ('conv_block_2.0.bias',\n",
              "              tensor([-0.0878, -0.0309,  0.0723, -0.0967, -0.1005,  0.0192,  0.0144, -0.0193,\n",
              "                       0.0920, -0.0635])),\n",
              "             ('conv_block_2.2.weight',\n",
              "              tensor([[[[-6.3992e-02, -7.8791e-02, -1.9619e-02],\n",
              "                        [-2.6901e-02,  6.5222e-02, -5.9186e-03],\n",
              "                        [ 3.3663e-02, -4.3804e-02,  8.5507e-02]],\n",
              "              \n",
              "                       [[ 8.8862e-02, -9.4401e-02, -2.7090e-02],\n",
              "                        [-8.9439e-02,  4.4781e-02, -9.2094e-02],\n",
              "                        [-4.9839e-02,  1.0532e-01, -1.0066e-01]],\n",
              "              \n",
              "                       [[ 7.7771e-02,  8.9049e-03,  8.4289e-02],\n",
              "                        [-5.3494e-02,  6.9236e-02,  1.2718e-02],\n",
              "                        [ 8.1073e-03,  7.1945e-02, -1.0019e-01]],\n",
              "              \n",
              "                       [[-8.4902e-02,  1.0180e-01, -6.3298e-02],\n",
              "                        [-7.5980e-02, -5.1539e-03, -3.3742e-02],\n",
              "                        [-1.4421e-02, -7.0623e-02,  3.8034e-02]],\n",
              "              \n",
              "                       [[-9.0703e-02,  8.5374e-03,  6.1510e-02],\n",
              "                        [ 2.0253e-02,  1.4006e-02,  1.5418e-02],\n",
              "                        [-3.0880e-02, -2.0080e-02, -4.4450e-02]],\n",
              "              \n",
              "                       [[-7.1207e-02, -5.5810e-02,  1.0420e-01],\n",
              "                        [-1.7641e-02,  3.6924e-02,  7.2896e-02],\n",
              "                        [-8.2343e-03, -5.6707e-02, -7.1419e-02]],\n",
              "              \n",
              "                       [[-3.8833e-02,  3.7624e-02, -8.8771e-02],\n",
              "                        [-1.2870e-02,  4.0096e-02,  8.5999e-02],\n",
              "                        [ 3.1721e-02,  2.0846e-02,  7.2162e-02]],\n",
              "              \n",
              "                       [[ 4.8708e-02,  3.5661e-02, -3.2682e-02],\n",
              "                        [-8.4528e-02, -2.2769e-02, -1.9117e-02],\n",
              "                        [ 7.7410e-03, -1.1593e-02,  4.2616e-02]],\n",
              "              \n",
              "                       [[ 7.0050e-02, -4.2735e-02, -1.0002e-01],\n",
              "                        [-5.4081e-02, -5.0436e-02,  5.9750e-02],\n",
              "                        [-6.7994e-02, -9.9145e-03, -2.2340e-02]],\n",
              "              \n",
              "                       [[-6.3976e-02,  4.7780e-02, -4.3909e-02],\n",
              "                        [-5.4531e-03, -7.4112e-02, -1.0632e-02],\n",
              "                        [ 1.4977e-02, -4.2894e-03, -3.9386e-02]]],\n",
              "              \n",
              "              \n",
              "                      [[[ 3.1315e-02, -2.7311e-02, -5.8439e-02],\n",
              "                        [-7.7732e-02, -2.2329e-02, -9.9578e-02],\n",
              "                        [ 8.7492e-02, -5.0357e-02, -4.3684e-02]],\n",
              "              \n",
              "                       [[ 9.7439e-03,  2.7326e-02, -9.9393e-03],\n",
              "                        [ 7.2313e-02, -6.1448e-02,  3.7777e-02],\n",
              "                        [-2.3773e-04, -8.5747e-02, -4.0824e-02]],\n",
              "              \n",
              "                       [[ 2.6825e-02,  2.0138e-02,  7.6647e-02],\n",
              "                        [ 7.0518e-02, -5.7493e-02, -4.5013e-02],\n",
              "                        [-2.2351e-02, -7.5517e-02, -2.8459e-02]],\n",
              "              \n",
              "                       [[-8.6258e-02,  4.0092e-02,  7.4583e-02],\n",
              "                        [ 8.3459e-03, -7.5460e-02, -7.9827e-02],\n",
              "                        [-4.1036e-02,  3.0659e-02,  2.5711e-03]],\n",
              "              \n",
              "                       [[ 1.9166e-02,  9.9346e-02,  4.8956e-02],\n",
              "                        [ 2.2665e-02, -2.1327e-02,  4.9864e-02],\n",
              "                        [ 3.8563e-02, -9.4879e-02, -6.2266e-02]],\n",
              "              \n",
              "                       [[ 3.5381e-03,  3.9997e-02,  5.1282e-02],\n",
              "                        [-6.2748e-02, -1.0458e-01, -5.4909e-03],\n",
              "                        [-1.2050e-02,  3.0588e-02, -2.8988e-02]],\n",
              "              \n",
              "                       [[ 8.0588e-02,  7.0333e-03,  7.6975e-02],\n",
              "                        [-7.3398e-02,  4.2167e-02,  1.2560e-02],\n",
              "                        [-5.2720e-02,  5.2256e-02, -1.0372e-01]],\n",
              "              \n",
              "                       [[ 8.5220e-02,  8.4947e-03,  1.0178e-02],\n",
              "                        [ 4.8746e-02,  8.7503e-03,  4.5184e-02],\n",
              "                        [ 6.7063e-02, -8.2268e-02,  6.9735e-02]],\n",
              "              \n",
              "                       [[-1.5784e-02, -2.4513e-02,  2.1217e-02],\n",
              "                        [ 8.2446e-02, -5.7302e-02, -7.1039e-02],\n",
              "                        [ 6.5418e-02, -4.9507e-02,  3.3937e-02]],\n",
              "              \n",
              "                       [[-1.5530e-02,  2.9014e-02,  8.0439e-02],\n",
              "                        [-5.3421e-02, -5.1151e-02,  5.1716e-02],\n",
              "                        [ 5.7714e-03, -1.1601e-02, -9.2590e-02]]],\n",
              "              \n",
              "              \n",
              "                      [[[ 8.9309e-02, -3.9919e-03, -1.9415e-02],\n",
              "                        [-4.3269e-02, -2.0801e-02,  5.1233e-02],\n",
              "                        [-2.4227e-03,  9.0147e-02, -6.0858e-03]],\n",
              "              \n",
              "                       [[-1.5122e-02,  5.9498e-02, -2.7275e-03],\n",
              "                        [-2.1039e-02,  3.5231e-02,  8.3129e-02],\n",
              "                        [ 2.6305e-02,  7.3398e-02,  6.8309e-02]],\n",
              "              \n",
              "                       [[ 2.9810e-02,  3.6650e-02,  3.4014e-02],\n",
              "                        [ 1.0934e-02,  8.9675e-02,  9.7308e-02],\n",
              "                        [ 3.7524e-02, -5.2640e-03,  9.4509e-02]],\n",
              "              \n",
              "                       [[-8.2042e-02,  7.7453e-02,  5.5849e-02],\n",
              "                        [ 6.7687e-02, -8.0992e-03, -7.8646e-02],\n",
              "                        [ 7.5193e-02, -4.6091e-02,  2.7734e-02]],\n",
              "              \n",
              "                       [[ 5.9719e-02, -9.8508e-02,  6.9954e-03],\n",
              "                        [-3.7444e-02,  7.4815e-02, -6.7114e-02],\n",
              "                        [ 6.4001e-02,  6.5730e-02,  5.8156e-02]],\n",
              "              \n",
              "                       [[ 1.0119e-01,  1.5964e-02, -9.5541e-02],\n",
              "                        [ 7.5248e-02,  9.6499e-03,  2.0918e-03],\n",
              "                        [-1.0041e-01, -2.3691e-02, -5.1162e-02]],\n",
              "              \n",
              "                       [[ 1.0324e-01,  7.5054e-02,  7.8634e-02],\n",
              "                        [ 7.2188e-02, -6.5340e-02, -4.5270e-02],\n",
              "                        [-4.1252e-02, -4.2257e-02,  8.2054e-02]],\n",
              "              \n",
              "                       [[ 3.5815e-02,  8.4470e-02, -4.9309e-03],\n",
              "                        [-9.3965e-02, -3.0582e-02,  7.4081e-02],\n",
              "                        [ 6.4174e-02,  3.2632e-02, -3.0919e-02]],\n",
              "              \n",
              "                       [[-9.8386e-02, -5.6639e-02,  5.4958e-02],\n",
              "                        [-4.2518e-02,  5.0421e-02,  2.8781e-02],\n",
              "                        [-4.0486e-02,  6.4202e-02, -3.3871e-02]],\n",
              "              \n",
              "                       [[-3.5020e-03, -4.0152e-02, -9.9988e-02],\n",
              "                        [ 1.6996e-02,  3.0460e-02, -5.3072e-02],\n",
              "                        [ 6.4663e-02, -9.4558e-02, -1.0161e-01]]],\n",
              "              \n",
              "              \n",
              "                      [[[-6.5106e-02, -3.6430e-02, -1.1707e-02],\n",
              "                        [-2.0370e-02,  4.8108e-02, -9.2510e-02],\n",
              "                        [ 1.5521e-02,  1.8254e-03,  2.7842e-02]],\n",
              "              \n",
              "                       [[ 1.0479e-01,  6.4874e-02, -5.8366e-02],\n",
              "                        [-8.6378e-02, -2.5520e-02, -5.2876e-02],\n",
              "                        [ 3.6820e-02,  9.6628e-04,  8.4783e-02]],\n",
              "              \n",
              "                       [[ 4.1405e-02, -1.9382e-02,  3.6229e-03],\n",
              "                        [ 2.5244e-02, -1.3080e-02,  8.5058e-02],\n",
              "                        [-8.2420e-02,  5.1377e-02, -6.7192e-02]],\n",
              "              \n",
              "                       [[-9.2347e-02, -2.1640e-02,  5.1366e-02],\n",
              "                        [ 7.4478e-02,  2.6452e-02, -9.1104e-03],\n",
              "                        [-5.9092e-03, -4.2731e-02, -9.4592e-03]],\n",
              "              \n",
              "                       [[-7.2831e-03,  8.9699e-02,  6.1690e-02],\n",
              "                        [-8.4351e-02,  4.3604e-04, -6.4834e-02],\n",
              "                        [-1.6733e-02, -8.3776e-02,  2.7402e-02]],\n",
              "              \n",
              "                       [[-7.6008e-02,  1.0406e-01,  7.9605e-02],\n",
              "                        [-7.2559e-02, -9.9239e-02,  4.1128e-03],\n",
              "                        [-2.9425e-02,  3.0945e-02, -7.1353e-02]],\n",
              "              \n",
              "                       [[ 4.3148e-02, -9.1047e-02, -5.5632e-02],\n",
              "                        [-5.5414e-02,  5.1007e-02, -2.7597e-03],\n",
              "                        [-1.0130e-01, -6.0201e-02, -4.8781e-02]],\n",
              "              \n",
              "                       [[-9.7802e-02,  1.3497e-02,  3.7561e-02],\n",
              "                        [-1.9340e-02, -4.1947e-02, -6.3926e-04],\n",
              "                        [-8.3725e-02, -6.4184e-02, -2.4040e-03]],\n",
              "              \n",
              "                       [[ 9.3643e-02, -3.2414e-02,  5.2247e-02],\n",
              "                        [-4.1484e-02, -2.8060e-02, -1.0034e-01],\n",
              "                        [ 8.7330e-02,  1.0264e-01, -2.2139e-03]],\n",
              "              \n",
              "                       [[ 6.6974e-02,  8.6219e-02,  5.2359e-02],\n",
              "                        [ 5.4288e-02, -1.0035e-01, -9.9050e-02],\n",
              "                        [-8.0906e-02,  3.2970e-02, -9.1177e-02]]],\n",
              "              \n",
              "              \n",
              "                      [[[-8.0464e-02, -5.1092e-02, -9.7154e-02],\n",
              "                        [ 1.4203e-04,  1.5207e-02, -6.1686e-02],\n",
              "                        [ 6.9018e-02, -4.0018e-02, -2.9676e-02]],\n",
              "              \n",
              "                       [[ 8.0309e-02,  9.0499e-02, -1.2093e-02],\n",
              "                        [-7.5671e-02, -5.2881e-02,  1.3423e-02],\n",
              "                        [ 6.1790e-02,  5.2477e-02, -4.6547e-02]],\n",
              "              \n",
              "                       [[-9.9650e-02, -9.2249e-02, -3.3537e-02],\n",
              "                        [ 1.3223e-03, -4.7347e-02, -8.3348e-02],\n",
              "                        [ 1.1109e-02, -8.3668e-02, -8.0946e-02]],\n",
              "              \n",
              "                       [[-8.5692e-02, -2.8563e-02,  9.3104e-02],\n",
              "                        [ 4.1207e-02, -1.2498e-02,  2.1694e-02],\n",
              "                        [ 4.1975e-02,  6.1414e-04, -8.5020e-02]],\n",
              "              \n",
              "                       [[-6.4944e-02, -7.1610e-02, -2.6766e-03],\n",
              "                        [-9.6492e-02, -1.9166e-02, -3.8545e-02],\n",
              "                        [ 1.0345e-01,  8.5679e-02,  6.1227e-02]],\n",
              "              \n",
              "                       [[ 5.9116e-03, -3.4129e-02,  2.6887e-02],\n",
              "                        [-7.2830e-02, -4.4957e-02, -2.1175e-02],\n",
              "                        [-2.4766e-02, -9.9854e-02,  4.1903e-02]],\n",
              "              \n",
              "                       [[ 8.6803e-02, -5.8141e-02,  2.8415e-02],\n",
              "                        [-1.2225e-02, -3.8445e-03,  6.1443e-03],\n",
              "                        [ 9.1346e-02,  1.4124e-02, -6.6690e-02]],\n",
              "              \n",
              "                       [[-3.7917e-02,  5.1495e-02,  3.2893e-02],\n",
              "                        [ 2.0487e-03, -1.3912e-02, -4.1012e-02],\n",
              "                        [-3.7413e-02, -5.5602e-02,  1.7273e-02]],\n",
              "              \n",
              "                       [[ 2.9603e-02,  8.0717e-02, -2.3813e-02],\n",
              "                        [ 7.5461e-03,  6.8125e-02,  4.5852e-02],\n",
              "                        [ 1.3544e-02,  3.2390e-02,  5.4714e-03]],\n",
              "              \n",
              "                       [[-9.0419e-02,  4.0636e-03, -2.3040e-02],\n",
              "                        [ 9.5123e-02,  9.5145e-02,  2.0912e-02],\n",
              "                        [ 9.4215e-02, -5.4288e-02,  9.1619e-02]]],\n",
              "              \n",
              "              \n",
              "                      [[[ 9.0756e-02, -4.0288e-03, -8.4592e-02],\n",
              "                        [-3.4015e-02, -2.8189e-02,  1.7411e-03],\n",
              "                        [-9.5569e-02,  1.9535e-02, -4.3839e-02]],\n",
              "              \n",
              "                       [[-2.6989e-02, -5.4443e-02, -2.2255e-02],\n",
              "                        [-9.7896e-02, -5.5885e-02,  9.7108e-03],\n",
              "                        [ 6.9072e-02,  9.5790e-02, -7.9737e-02]],\n",
              "              \n",
              "                       [[ 4.4264e-02, -5.9419e-02, -8.1498e-02],\n",
              "                        [-4.6417e-03, -6.0468e-02, -9.0783e-02],\n",
              "                        [-9.8509e-02, -7.0556e-02,  8.6619e-02]],\n",
              "              \n",
              "                       [[ 5.8788e-02, -4.1726e-02, -7.0553e-02],\n",
              "                        [-8.1085e-02, -6.2246e-02, -4.3376e-02],\n",
              "                        [ 6.3308e-02,  3.4496e-02, -4.0622e-02]],\n",
              "              \n",
              "                       [[ 7.2567e-02, -6.5484e-02, -8.5876e-02],\n",
              "                        [ 2.3006e-02, -5.8123e-02,  2.9987e-02],\n",
              "                        [ 8.9306e-02, -4.9849e-02, -7.3556e-02]],\n",
              "              \n",
              "                       [[ 3.9676e-02, -9.5200e-02,  9.4044e-02],\n",
              "                        [-4.9780e-02,  5.0961e-02, -8.3818e-02],\n",
              "                        [-7.1348e-02,  1.1611e-02,  3.7463e-02]],\n",
              "              \n",
              "                       [[ 8.1734e-02,  8.8158e-02, -6.0623e-03],\n",
              "                        [-1.3552e-02,  1.7424e-02, -2.4486e-02],\n",
              "                        [ 3.5882e-03, -9.9828e-02, -8.6531e-02]],\n",
              "              \n",
              "                       [[ 7.2233e-02, -6.1597e-02,  8.3008e-02],\n",
              "                        [ 1.1568e-02,  2.5676e-02,  9.5804e-02],\n",
              "                        [-5.8628e-02, -1.6640e-02,  1.8675e-02]],\n",
              "              \n",
              "                       [[ 3.6012e-02, -1.0259e-01,  3.7464e-02],\n",
              "                        [-6.2163e-02,  1.3846e-02,  7.1315e-02],\n",
              "                        [-1.0500e-02, -3.3346e-03, -7.8757e-03]],\n",
              "              \n",
              "                       [[ 8.7962e-02,  5.9907e-02,  1.7727e-02],\n",
              "                        [-6.3437e-02, -5.7241e-02,  8.3964e-02],\n",
              "                        [ 7.5834e-02,  6.1033e-02, -8.2189e-02]]],\n",
              "              \n",
              "              \n",
              "                      [[[ 8.2092e-02, -1.0076e-02,  7.7661e-02],\n",
              "                        [ 9.1553e-02,  1.1554e-02, -4.3863e-02],\n",
              "                        [ 9.9153e-02, -5.4931e-02,  6.8876e-02]],\n",
              "              \n",
              "                       [[-1.0108e-01, -3.3153e-02, -9.1902e-02],\n",
              "                        [-4.7284e-02,  4.4759e-02, -7.5529e-02],\n",
              "                        [-9.1158e-02,  7.5371e-02,  5.6270e-02]],\n",
              "              \n",
              "                       [[-1.1527e-03, -7.4309e-02, -2.7927e-02],\n",
              "                        [-3.4129e-02,  6.5100e-02, -3.4478e-02],\n",
              "                        [-3.0360e-02, -7.4720e-02, -4.9646e-02]],\n",
              "              \n",
              "                       [[ 5.7074e-02,  6.7914e-02,  1.5315e-02],\n",
              "                        [-3.9549e-02,  1.0124e-01,  2.0806e-02],\n",
              "                        [-4.0688e-02, -3.6535e-02, -1.4752e-02]],\n",
              "              \n",
              "                       [[ 4.9974e-02,  3.8555e-02,  7.6418e-02],\n",
              "                        [-4.7494e-03,  8.7183e-02, -4.2816e-02],\n",
              "                        [-4.8547e-02, -3.8927e-02, -9.8896e-02]],\n",
              "              \n",
              "                       [[-6.9195e-02, -9.5382e-02, -6.2294e-03],\n",
              "                        [ 9.9374e-04, -2.7358e-02, -7.2035e-02],\n",
              "                        [ 9.5637e-02, -3.4926e-02,  5.0233e-02]],\n",
              "              \n",
              "                       [[ 7.3408e-02, -6.9291e-02, -1.3179e-02],\n",
              "                        [ 6.0923e-02,  1.0218e-01, -1.3299e-02],\n",
              "                        [ 7.6382e-02, -8.2732e-02, -6.8489e-02]],\n",
              "              \n",
              "                       [[ 8.6682e-02, -9.9801e-03,  1.0414e-01],\n",
              "                        [ 7.6651e-03, -4.3714e-02,  1.0011e-01],\n",
              "                        [ 9.2179e-02,  9.7826e-03, -6.3900e-02]],\n",
              "              \n",
              "                       [[-4.5639e-03, -5.0693e-02,  7.6810e-02],\n",
              "                        [ 4.8829e-03,  2.2191e-02,  6.3927e-02],\n",
              "                        [ 3.4916e-02, -6.5803e-02,  8.7566e-02]],\n",
              "              \n",
              "                       [[ 6.4758e-02, -6.5073e-02,  7.9700e-02],\n",
              "                        [ 2.9905e-02, -2.0750e-02, -7.5385e-02],\n",
              "                        [-1.7490e-02, -1.0335e-01,  6.0163e-02]]],\n",
              "              \n",
              "              \n",
              "                      [[[ 7.6343e-02, -3.0347e-02,  9.7720e-02],\n",
              "                        [-3.9032e-02,  1.8051e-02, -7.3459e-02],\n",
              "                        [-4.4565e-03,  4.2610e-02,  4.5403e-02]],\n",
              "              \n",
              "                       [[-3.5346e-03, -5.3154e-02,  7.3680e-02],\n",
              "                        [ 6.9788e-02,  1.6916e-02, -4.8475e-02],\n",
              "                        [ 2.2349e-02,  2.8186e-04,  9.6302e-02]],\n",
              "              \n",
              "                       [[ 1.5621e-02,  8.1301e-03,  7.2057e-03],\n",
              "                        [ 5.6079e-02, -1.3024e-03,  9.0351e-02],\n",
              "                        [ 5.4917e-02, -7.9650e-02, -1.2063e-06]],\n",
              "              \n",
              "                       [[-8.9472e-02, -8.0934e-02,  2.0480e-02],\n",
              "                        [ 2.3687e-02, -9.2246e-03,  1.0019e-01],\n",
              "                        [-5.6627e-02, -4.4176e-02, -1.6881e-02]],\n",
              "              \n",
              "                       [[ 6.3911e-04, -8.9284e-03,  9.4909e-02],\n",
              "                        [-4.4519e-02, -5.5137e-02,  9.0599e-03],\n",
              "                        [ 7.9171e-02,  2.5019e-02,  5.6787e-02]],\n",
              "              \n",
              "                       [[ 2.0406e-02,  8.9839e-02,  6.3311e-02],\n",
              "                        [ 7.5428e-02, -1.4198e-02, -8.7268e-02],\n",
              "                        [-5.0002e-02,  3.5910e-02,  7.3950e-02]],\n",
              "              \n",
              "                       [[-4.1184e-02,  8.7218e-02,  1.5150e-02],\n",
              "                        [ 4.1869e-04,  4.1093e-03, -1.8623e-02],\n",
              "                        [ 9.8683e-02,  4.5784e-03,  6.4564e-02]],\n",
              "              \n",
              "                       [[-8.8967e-02, -5.4309e-02,  1.1852e-02],\n",
              "                        [ 8.4169e-02,  5.0184e-02,  2.0076e-02],\n",
              "                        [-1.0414e-01,  1.9816e-03, -6.9581e-02]],\n",
              "              \n",
              "                       [[-9.0006e-02,  1.4414e-02, -6.6693e-02],\n",
              "                        [ 9.5674e-02, -5.7294e-02,  3.3970e-02],\n",
              "                        [ 6.1871e-02, -8.1928e-02,  5.3946e-02]],\n",
              "              \n",
              "                       [[-1.4114e-02,  5.4619e-02,  1.0201e-01],\n",
              "                        [-4.4922e-02, -4.5653e-02,  8.3753e-02],\n",
              "                        [ 1.1722e-02, -1.0513e-02,  7.9971e-02]]],\n",
              "              \n",
              "              \n",
              "                      [[[-5.0928e-02, -5.2047e-03,  7.2403e-02],\n",
              "                        [ 4.1195e-02, -6.8180e-02,  2.7398e-02],\n",
              "                        [-8.0368e-02, -5.7245e-02,  6.7779e-02]],\n",
              "              \n",
              "                       [[-2.8093e-02, -5.3691e-02,  7.4717e-03],\n",
              "                        [ 2.5759e-02, -6.5524e-02, -7.1084e-02],\n",
              "                        [-1.0209e-01,  2.7236e-02, -6.8013e-02]],\n",
              "              \n",
              "                       [[ 8.0331e-03, -2.3576e-02, -6.8923e-02],\n",
              "                        [-3.3636e-02, -8.1027e-02, -5.5797e-02],\n",
              "                        [-3.2857e-03, -9.0116e-02, -9.2447e-02]],\n",
              "              \n",
              "                       [[ 7.8958e-02,  9.9188e-03, -4.6618e-02],\n",
              "                        [-3.5047e-03,  7.8168e-02, -8.7939e-02],\n",
              "                        [-5.5886e-02, -7.6226e-02, -7.6634e-03]],\n",
              "              \n",
              "                       [[-3.6274e-03, -8.2146e-02,  7.3163e-02],\n",
              "                        [-8.0946e-02,  9.8414e-02, -7.2560e-02],\n",
              "                        [-1.4446e-02,  1.9710e-02, -4.6852e-02]],\n",
              "              \n",
              "                       [[ 9.6939e-02, -7.2673e-02, -5.8427e-03],\n",
              "                        [-7.7398e-02,  2.9261e-02,  8.9871e-02],\n",
              "                        [ 9.7776e-02,  1.2514e-02, -5.2773e-02]],\n",
              "              \n",
              "                       [[ 1.0244e-01,  7.8667e-03,  7.1317e-02],\n",
              "                        [-5.4751e-02, -4.8920e-02, -8.7504e-02],\n",
              "                        [ 9.6990e-02,  1.7486e-02, -7.5704e-02]],\n",
              "              \n",
              "                       [[ 9.0535e-03, -4.5211e-02,  5.2659e-03],\n",
              "                        [ 3.4988e-02, -5.2308e-02,  1.8394e-02],\n",
              "                        [-6.6553e-02,  2.0312e-02, -1.0178e-01]],\n",
              "              \n",
              "                       [[ 1.6797e-02,  1.0473e-01,  9.7094e-02],\n",
              "                        [ 3.8451e-02,  7.7563e-02,  1.0248e-01],\n",
              "                        [ 2.9870e-02,  3.5156e-02,  1.3707e-02]],\n",
              "              \n",
              "                       [[ 9.3322e-02,  9.0551e-02, -4.9570e-02],\n",
              "                        [-4.3333e-03, -5.3110e-02,  3.7824e-02],\n",
              "                        [-1.0214e-01,  3.7301e-02, -2.8929e-02]]],\n",
              "              \n",
              "              \n",
              "                      [[[ 3.8227e-02,  3.2899e-02, -5.2454e-02],\n",
              "                        [ 5.4687e-02,  4.4762e-02, -8.9602e-02],\n",
              "                        [ 1.0517e-01,  9.0731e-02,  6.5584e-02]],\n",
              "              \n",
              "                       [[-1.0699e-02,  3.7345e-02, -5.7028e-02],\n",
              "                        [-3.5818e-02,  4.9749e-02,  4.6925e-02],\n",
              "                        [ 4.1741e-02, -1.0053e-01,  8.7350e-02]],\n",
              "              \n",
              "                       [[-4.4028e-02,  9.1223e-02,  8.6852e-02],\n",
              "                        [ 3.9070e-02,  1.0502e-01,  6.0528e-02],\n",
              "                        [ 6.1821e-02, -3.5794e-02,  9.7766e-02]],\n",
              "              \n",
              "                       [[ 2.7627e-02,  6.2280e-02, -2.3834e-02],\n",
              "                        [ 7.6340e-02,  9.3509e-02, -8.0770e-02],\n",
              "                        [ 8.6415e-02, -6.9664e-02, -7.2571e-02]],\n",
              "              \n",
              "                       [[-8.8089e-02,  3.0459e-02, -7.9144e-02],\n",
              "                        [-3.9680e-02, -5.2988e-02,  2.8172e-02],\n",
              "                        [-1.0349e-01, -4.8324e-02,  7.7112e-04]],\n",
              "              \n",
              "                       [[ 9.4660e-03, -4.7605e-02,  3.7764e-02],\n",
              "                        [-6.9544e-02, -8.9270e-02, -1.4986e-02],\n",
              "                        [-5.6989e-02,  6.6443e-02, -7.2049e-02]],\n",
              "              \n",
              "                       [[-8.8494e-03,  4.3782e-02, -9.2311e-02],\n",
              "                        [ 8.1599e-02, -4.7895e-02, -2.8684e-02],\n",
              "                        [-6.4480e-02, -3.9279e-02, -4.0645e-02]],\n",
              "              \n",
              "                       [[-9.3801e-02,  3.6019e-02, -3.3768e-04],\n",
              "                        [ 1.0311e-01,  7.1117e-02,  9.1699e-02],\n",
              "                        [ 3.1014e-02,  5.5388e-02,  9.8704e-02]],\n",
              "              \n",
              "                       [[ 8.6545e-02, -8.0996e-02, -2.3636e-02],\n",
              "                        [-1.0166e-01,  3.9877e-03, -3.7229e-02],\n",
              "                        [ 9.1486e-02,  1.6666e-02,  1.1601e-03]],\n",
              "              \n",
              "                       [[-7.6248e-02, -8.2718e-02,  1.6594e-02],\n",
              "                        [-5.2376e-02, -4.8409e-02,  7.3938e-02],\n",
              "                        [-5.4952e-02, -4.6918e-02,  8.0934e-02]]]])),\n",
              "             ('conv_block_2.2.bias',\n",
              "              tensor([ 0.0412, -0.0599,  0.0319,  0.0531, -0.0936,  0.0197,  0.0241, -0.0041,\n",
              "                       0.1011, -0.0697])),\n",
              "             ('classifier.1.weight',\n",
              "              tensor([[ 0.0245, -0.0240, -0.0387,  ...,  0.0094, -0.0015, -0.0225],\n",
              "                      [ 0.0228,  0.0067, -0.0439,  ..., -0.0302,  0.0368,  0.0293],\n",
              "                      [ 0.0303,  0.0347, -0.0211,  ...,  0.0207, -0.0423, -0.0240],\n",
              "                      ...,\n",
              "                      [-0.0359, -0.0343,  0.0166,  ...,  0.0324,  0.0113, -0.0143],\n",
              "                      [-0.0294, -0.0316,  0.0251,  ..., -0.0056,  0.0300, -0.0396],\n",
              "                      [-0.0246, -0.0035, -0.0046,  ..., -0.0146, -0.0358,  0.0175]])),\n",
              "             ('classifier.1.bias',\n",
              "              tensor([ 0.0320, -0.0445,  0.0246, -0.0357, -0.0442,  0.0156, -0.0010, -0.0277,\n",
              "                       0.0404,  0.0037]))])"
            ]
          },
          "metadata": {},
          "execution_count": 284
        }
      ]
    },
    {
      "cell_type": "code",
      "source": [
        "torch.manual_seed(42)\n",
        "# Create a single conv2d layer\n",
        "conv_layer = nn.Conv2d(in_channels=3,\n",
        "                       out_channels=10,\n",
        "                       kernel_size=1,\n",
        "                       stride=1,\n",
        "                       padding=0)\n",
        "\n",
        "# Pass the data to convolutional layer\n",
        "conv_output = conv_layer(test_image.unsqueeze(0))\n",
        "conv_output"
      ],
      "metadata": {
        "colab": {
          "base_uri": "https://localhost:8080/"
        },
        "collapsed": true,
        "id": "2wQXTk1EgPmB",
        "outputId": "303e51f7-c5bc-4b38-9e11-d894b17d2df3"
      },
      "execution_count": 285,
      "outputs": [
        {
          "output_type": "execute_result",
          "data": {
            "text/plain": [
              "tensor([[[[ 1.2308e+00,  1.9268e+00,  1.6440e+00,  ...,  1.5997e+00,\n",
              "           -8.5224e-01,  7.3464e-01],\n",
              "          [ 2.3550e+00,  1.6758e+00,  8.0257e-01,  ...,  1.7378e+00,\n",
              "           -3.1718e-01,  4.0120e-01],\n",
              "          [ 1.5140e+00,  6.4329e-01, -8.2773e-01,  ...,  5.3751e-01,\n",
              "            9.3595e-01,  4.3796e-01],\n",
              "          ...,\n",
              "          [ 2.9592e-01,  7.1071e-01,  3.8388e-01,  ...,  1.9031e-01,\n",
              "            1.8224e-01,  2.2702e-01],\n",
              "          [ 1.0780e+00,  3.7521e-01,  5.5073e-01,  ..., -6.9858e-01,\n",
              "           -8.1761e-01,  1.0629e+00],\n",
              "          [-7.4138e-01,  2.4270e-01,  2.8843e-01,  ...,  7.5329e-01,\n",
              "            1.1632e+00,  1.2715e+00]],\n",
              "\n",
              "         [[ 5.0432e-01,  1.8357e-01, -1.1148e-01,  ...,  5.1619e-01,\n",
              "           -8.1850e-01,  3.4196e-01],\n",
              "          [-1.5800e-01, -3.9931e-01,  8.7839e-01,  ..., -7.5316e-01,\n",
              "            1.3680e-01, -1.3593e-01],\n",
              "          [ 3.8416e-01,  2.0034e-01, -1.2024e+00,  ..., -9.5011e-01,\n",
              "           -1.3362e-01,  1.8324e-02],\n",
              "          ...,\n",
              "          [-7.2753e-01, -8.8309e-01, -4.4612e-02,  ..., -5.8401e-01,\n",
              "           -1.0147e+00, -7.9732e-01],\n",
              "          [-4.8358e-01, -5.6184e-01, -4.5555e-01,  ..., -1.2949e+00,\n",
              "            2.4420e-01, -1.0524e+00],\n",
              "          [-1.1919e+00, -2.6268e-01, -9.0843e-01,  ..., -6.6309e-01,\n",
              "            1.2856e-02, -6.1592e-01]],\n",
              "\n",
              "         [[-6.7815e-01,  1.1780e+00,  1.3988e+00,  ...,  8.4774e-01,\n",
              "            7.4230e-01, -2.7158e-01],\n",
              "          [-7.3522e-05, -4.2906e-01, -6.1004e-01,  ..., -1.0373e-01,\n",
              "           -1.0229e+00,  5.4045e-01],\n",
              "          [-8.4073e-01,  4.4340e-01, -6.9600e-01,  ...,  6.9381e-02,\n",
              "            4.0095e-01,  1.7147e-01],\n",
              "          ...,\n",
              "          [ 1.1153e+00,  6.3984e-01,  8.2113e-01,  ...,  3.3158e-01,\n",
              "            7.9496e-01,  1.0203e+00],\n",
              "          [ 3.1910e-01,  2.1289e-01,  5.8668e-01,  ...,  2.0536e+00,\n",
              "            8.1630e-01,  2.1013e+00],\n",
              "          [ 2.2376e-01,  1.1388e+00,  8.8373e-01,  ...,  5.3839e-01,\n",
              "            8.1691e-01,  1.5836e+00]],\n",
              "\n",
              "         ...,\n",
              "\n",
              "         [[ 1.5233e-01,  3.2438e-01,  4.1396e-01,  ...,  5.9678e-01,\n",
              "            1.2594e+00,  5.4259e-01],\n",
              "          [-6.8053e-01, -5.9145e-01,  6.9004e-01,  ..., -7.1152e-01,\n",
              "            7.4887e-01,  8.0841e-01],\n",
              "          [-1.7442e-01,  8.2509e-01,  3.6902e-01,  ...,  2.1911e-04,\n",
              "            4.0989e-01,  7.2053e-01],\n",
              "          ...,\n",
              "          [ 7.5360e-01,  1.8359e-01,  1.0005e+00,  ...,  5.6685e-01,\n",
              "            5.0324e-01,  7.1135e-01],\n",
              "          [ 6.2626e-02,  4.1160e-01,  5.3191e-01,  ...,  1.4370e+00,\n",
              "            1.9419e+00,  4.9569e-01],\n",
              "          [ 7.2512e-01,  1.0916e+00,  5.4220e-01,  ...,  2.5116e-01,\n",
              "            5.4140e-01,  4.1208e-01]],\n",
              "\n",
              "         [[-5.4668e-01, -1.2750e+00, -1.0231e+00,  ..., -1.2132e+00,\n",
              "            8.5274e-01, -3.2808e-01],\n",
              "          [-9.1081e-01, -2.9231e-01, -5.8435e-01,  ..., -2.0812e-01,\n",
              "            5.5374e-01, -1.2371e-01],\n",
              "          [-5.6289e-01, -4.1926e-01,  1.5244e+00,  ...,  4.5383e-01,\n",
              "           -3.4687e-01, -1.2116e-01],\n",
              "          ...,\n",
              "          [ 1.1106e-01,  1.4886e-01, -2.5859e-01,  ...,  3.2025e-01,\n",
              "            4.4314e-01,  2.1761e-01],\n",
              "          [-1.7771e-01,  2.5200e-01, -1.6771e-02,  ...,  6.5872e-01,\n",
              "            1.6227e-01, -3.7845e-01],\n",
              "          [ 1.1881e+00, -1.5428e-01,  2.9773e-01,  ...,  2.4790e-02,\n",
              "           -6.7904e-01, -5.8737e-01]],\n",
              "\n",
              "         [[-4.2439e-01, -1.1826e+00, -1.0485e+00,  ..., -1.4656e+00,\n",
              "           -3.8663e-01, -6.6428e-01],\n",
              "          [ 2.6493e-01,  6.9482e-01, -1.0879e+00,  ...,  9.3010e-01,\n",
              "           -1.5241e-01, -7.4821e-01],\n",
              "          [-6.3170e-02, -1.0400e+00,  1.1891e+00,  ...,  6.9904e-01,\n",
              "           -4.8803e-01, -6.6269e-01],\n",
              "          ...,\n",
              "          [-4.4013e-01,  2.3912e-01, -1.0807e+00,  ..., -7.4422e-02,\n",
              "            1.3689e-01, -2.9940e-01],\n",
              "          [ 6.9136e-02,  4.0271e-02, -3.2351e-01,  ..., -6.9896e-01,\n",
              "           -1.8097e+00, -5.2415e-01],\n",
              "          [ 5.1672e-01, -1.0764e+00, -3.5374e-02,  ...,  4.1972e-02,\n",
              "           -9.1991e-01, -6.4274e-01]]]], grad_fn=<ConvolutionBackward0>)"
            ]
          },
          "metadata": {},
          "execution_count": 285
        }
      ]
    },
    {
      "cell_type": "code",
      "source": [
        "conv_output.shape"
      ],
      "metadata": {
        "colab": {
          "base_uri": "https://localhost:8080/"
        },
        "id": "cAvobAtTilqi",
        "outputId": "3333e8f7-da5c-4597-8224-5861a64f9923"
      },
      "execution_count": 286,
      "outputs": [
        {
          "output_type": "execute_result",
          "data": {
            "text/plain": [
              "torch.Size([1, 10, 64, 64])"
            ]
          },
          "metadata": {},
          "execution_count": 286
        }
      ]
    },
    {
      "cell_type": "markdown",
      "source": [
        "### 7.2 Stepping through 'nn.MaxPool2d()'"
      ],
      "metadata": {
        "id": "06UQ2Q-ikmRw"
      }
    },
    {
      "cell_type": "code",
      "source": [
        "test_image.shape"
      ],
      "metadata": {
        "colab": {
          "base_uri": "https://localhost:8080/"
        },
        "id": "FHsso2bkilcp",
        "outputId": "4fecd5a9-576b-4c86-b501-84be0098c575"
      },
      "execution_count": 287,
      "outputs": [
        {
          "output_type": "execute_result",
          "data": {
            "text/plain": [
              "torch.Size([3, 64, 64])"
            ]
          },
          "metadata": {},
          "execution_count": 287
        }
      ]
    },
    {
      "cell_type": "code",
      "source": [
        "# Print original image shape without unsqueezes dimension\n",
        "print(f\"Test image original shape: {test_image.shape}\")\n",
        "print(f\"Test image with unsqueezed dimension: {test_image.unsqueeze(0).shape}\")\n",
        "\n",
        "# Create a sample nn.MaxPool2d layer\n",
        "max_pool_layer = nn.MaxPool2d(kernel_size=2)\n",
        "\n",
        "# Pass data through just the conv layer\n",
        "test_image_through_conv = conv_layer(test_image.unsqueeze(dim=0))\n",
        "print(f\"Shape after going through conv_layer(): {test_image_through_conv.shape}\")\n",
        "\n",
        "# Pass data through max pool layer\n",
        "test_image_through_conv_and_max_pool = max_pool_layer(test_image_through_conv)\n",
        "print(f\"Shape after going through conv and max pool layer: {test_image_through_conv_and_max_pool.shape}\")\n"
      ],
      "metadata": {
        "colab": {
          "base_uri": "https://localhost:8080/"
        },
        "id": "uXQC548NilV1",
        "outputId": "1ac5e442-9de5-48eb-b56c-211db4feb96a"
      },
      "execution_count": 288,
      "outputs": [
        {
          "output_type": "stream",
          "name": "stdout",
          "text": [
            "Test image original shape: torch.Size([3, 64, 64])\n",
            "Test image with unsqueezed dimension: torch.Size([1, 3, 64, 64])\n",
            "Shape after going through conv_layer(): torch.Size([1, 10, 64, 64])\n",
            "Shape after going through conv and max pool layer: torch.Size([1, 10, 32, 32])\n"
          ]
        }
      ]
    },
    {
      "cell_type": "code",
      "source": [
        "torch.manual_seed(42)\n",
        "# Create a random tensor with a similar number of dimensions to our images\n",
        "random_tensor = torch.randn(size=(1,1,2,2))\n",
        "print(f\"\\nRandom Tensor:\\n {random_tensor}\")\n",
        "print(f\"\\nRandom Tensor shape:\\n {random_tensor.shape}\")\n",
        "\n",
        "# Create a max pool layer\n",
        "max_pol_layer = nn.MaxPool2d(kernel_size=2)\n",
        "\n",
        "# Pass the random tensor through the max pool layer\n",
        "max_pool_tensor = max_pool_layer(random_tensor)\n",
        "print(f\"\\nMax Pool tensor:\\n {max_pool_tensor}\")\n",
        "print(f\"\\nMax Pool tensor shape:\\n {max_pool_tensor.shape}\")\n",
        "random_tensor"
      ],
      "metadata": {
        "colab": {
          "base_uri": "https://localhost:8080/"
        },
        "id": "AbRgV-g5ilOq",
        "outputId": "b8031cc5-b1a7-4c6f-bdd3-8f1a91f30ab8"
      },
      "execution_count": 289,
      "outputs": [
        {
          "output_type": "stream",
          "name": "stdout",
          "text": [
            "\n",
            "Random Tensor:\n",
            " tensor([[[[0.3367, 0.1288],\n",
            "          [0.2345, 0.2303]]]])\n",
            "\n",
            "Random Tensor shape:\n",
            " torch.Size([1, 1, 2, 2])\n",
            "\n",
            "Max Pool tensor:\n",
            " tensor([[[[0.3367]]]])\n",
            "\n",
            "Max Pool tensor shape:\n",
            " torch.Size([1, 1, 1, 1])\n"
          ]
        },
        {
          "output_type": "execute_result",
          "data": {
            "text/plain": [
              "tensor([[[[0.3367, 0.1288],\n",
              "          [0.2345, 0.2303]]]])"
            ]
          },
          "metadata": {},
          "execution_count": 289
        }
      ]
    },
    {
      "cell_type": "markdown",
      "source": [
        "### 7.3 Setup a loss function and optimizer for model_2"
      ],
      "metadata": {
        "id": "22YK85YVv5cn"
      }
    },
    {
      "cell_type": "code",
      "source": [
        "# loss function/eval metrics/optimizer\n",
        "from helper_functions import accuracy_fn\n",
        "\n",
        "loss_fn = nn.CrossEntropyLoss()\n",
        "optimizer = torch.optim.SGD(params=model_2.parameters(),\n",
        "                            lr=0.1)"
      ],
      "metadata": {
        "id": "AjqdeqVWilHL"
      },
      "execution_count": 290,
      "outputs": []
    },
    {
      "cell_type": "markdown",
      "source": [
        "### 7.4 Training and tsting model_2 using our training and test function"
      ],
      "metadata": {
        "id": "ZQ2vdDbbw8I8"
      }
    },
    {
      "cell_type": "code",
      "source": [
        "torch.manual_seed(42)\n",
        "torch.cuda.manual_seed(42)\n",
        "\n",
        "# Measure time\n",
        "from timeit import default_timer as timer\n",
        "train_time_start_model_2 = timer()\n",
        "\n",
        "# Train and test model\n",
        "epochs = 3\n",
        "for epoch in tqdm(range(epochs)):\n",
        "  print(f\"Epoch: {epoch}\")\n",
        "  train_step(model=model_2,\n",
        "             data_loader=train_dataloader,\n",
        "             loss_fn=loss_fn,\n",
        "             optimizer=optimizer,\n",
        "             accuracy_fn=accuracy_fn,\n",
        "             device=device)\n",
        "  test_step(model=model_2,\n",
        "             data_loader=test_dataloader,\n",
        "             loss_fn=loss_fn,\n",
        "             accuracy_fn=accuracy_fn,\n",
        "             device=device)\n",
        "\n",
        "  train_time_end_model_2 = timer()\n",
        "  total_train_time_model_2 = print_train_time(start=train_time_start_model_2,\n",
        "                                              end=train_time_end_model_2,\n",
        "                                              device=device\n",
        "                                              )\n"
      ],
      "metadata": {
        "colab": {
          "base_uri": "https://localhost:8080/",
          "height": 309,
          "referenced_widgets": [
            "377b941a216d49ec923c3161d21404dc",
            "cfe84672c90b40fbb421660a0cfe52ab",
            "fa86d6b5a0e84ff78811fcc4c509e56e",
            "5b0f3e1589e24ad19b0ca4b493c25f7f",
            "18dad3bce5ed4abc893053f493ee8df1",
            "2ce9e3454d3a48bf82bcfaa5e574d4f9",
            "50d0b6d6b3c04fbd98762215c0caac27",
            "440342c574ea432c8221785657debb04",
            "5e23a0f459884900b1dab7977666b52e",
            "230aa9d213b64c37a33e84e20decdfbe",
            "32e6bf35143c46839c7c3d5b3f4edd40"
          ]
        },
        "collapsed": true,
        "id": "vWC-KvcXik9S",
        "outputId": "1fcbfae0-982e-42e6-bf64-4cc5c498bfa5"
      },
      "execution_count": 291,
      "outputs": [
        {
          "output_type": "display_data",
          "data": {
            "text/plain": [
              "  0%|          | 0/3 [00:00<?, ?it/s]"
            ],
            "application/vnd.jupyter.widget-view+json": {
              "version_major": 2,
              "version_minor": 0,
              "model_id": "377b941a216d49ec923c3161d21404dc"
            }
          },
          "metadata": {}
        },
        {
          "output_type": "stream",
          "name": "stdout",
          "text": [
            "Epoch: 0\n",
            "Train loss: 0.59518 | Train acc: 78.38%\n",
            "Test loss: 0.39500 | Test acc: 85.99%\n",
            "\n",
            "train time on cpu: 54.761 seconds\n",
            "Epoch: 1\n",
            "Train loss: 0.36536 | Train acc: 86.90%\n",
            "Test loss: 0.35244 | Test acc: 86.91%\n",
            "\n",
            "train time on cpu: 108.923 seconds\n",
            "Epoch: 2\n",
            "Train loss: 0.32588 | Train acc: 88.13%\n",
            "Test loss: 0.32719 | Test acc: 88.07%\n",
            "\n",
            "train time on cpu: 163.424 seconds\n"
          ]
        }
      ]
    },
    {
      "cell_type": "code",
      "source": [
        "# Get model_2 results\n",
        "model_2_results = eval_model(\n",
        "    model=model_2,\n",
        "    data_loader=test_dataloader,\n",
        "    loss_fn=loss_fn,\n",
        "    accuracy_fn=accuracy_fn,\n",
        ")\n",
        "\n",
        "model_2_results"
      ],
      "metadata": {
        "colab": {
          "base_uri": "https://localhost:8080/"
        },
        "id": "lPqd5wsDyfux",
        "outputId": "e7688399-c287-40c5-ceb8-aa14eadc52c9"
      },
      "execution_count": 292,
      "outputs": [
        {
          "output_type": "execute_result",
          "data": {
            "text/plain": [
              "{'model_name': 'FashionMNISTModelV2',\n",
              " 'model_loss': 0.32718968391418457,\n",
              " 'model_acc': 88.06908945686901}"
            ]
          },
          "metadata": {},
          "execution_count": 292
        }
      ]
    },
    {
      "cell_type": "markdown",
      "source": [
        "## 8. Compare model results and training time"
      ],
      "metadata": {
        "id": "wB8PqLWD1Ucf"
      }
    },
    {
      "cell_type": "code",
      "source": [
        "import pandas as pd\n",
        "compare_results = pd.DataFrame([model_0_results,\n",
        "                                model_1_results,\n",
        "                                model_2_results])\n",
        "\n",
        "compare_results"
      ],
      "metadata": {
        "colab": {
          "base_uri": "https://localhost:8080/",
          "height": 143
        },
        "id": "6x7I4ZDI0tXS",
        "outputId": "75a0e65d-3712-4cd3-870d-66b791457194"
      },
      "execution_count": 293,
      "outputs": [
        {
          "output_type": "execute_result",
          "data": {
            "text/plain": [
              "            model_name  model_loss  model_acc\n",
              "0  FashionMNISTModelV0    0.476639  83.426518\n",
              "1  FashionMNISTModelV1    0.685001  75.019968\n",
              "2  FashionMNISTModelV2    0.327190  88.069089"
            ],
            "text/html": [
              "\n",
              "  <div id=\"df-79322cd0-fa3e-4f9c-a8aa-3de7d679c00f\" class=\"colab-df-container\">\n",
              "    <div>\n",
              "<style scoped>\n",
              "    .dataframe tbody tr th:only-of-type {\n",
              "        vertical-align: middle;\n",
              "    }\n",
              "\n",
              "    .dataframe tbody tr th {\n",
              "        vertical-align: top;\n",
              "    }\n",
              "\n",
              "    .dataframe thead th {\n",
              "        text-align: right;\n",
              "    }\n",
              "</style>\n",
              "<table border=\"1\" class=\"dataframe\">\n",
              "  <thead>\n",
              "    <tr style=\"text-align: right;\">\n",
              "      <th></th>\n",
              "      <th>model_name</th>\n",
              "      <th>model_loss</th>\n",
              "      <th>model_acc</th>\n",
              "    </tr>\n",
              "  </thead>\n",
              "  <tbody>\n",
              "    <tr>\n",
              "      <th>0</th>\n",
              "      <td>FashionMNISTModelV0</td>\n",
              "      <td>0.476639</td>\n",
              "      <td>83.426518</td>\n",
              "    </tr>\n",
              "    <tr>\n",
              "      <th>1</th>\n",
              "      <td>FashionMNISTModelV1</td>\n",
              "      <td>0.685001</td>\n",
              "      <td>75.019968</td>\n",
              "    </tr>\n",
              "    <tr>\n",
              "      <th>2</th>\n",
              "      <td>FashionMNISTModelV2</td>\n",
              "      <td>0.327190</td>\n",
              "      <td>88.069089</td>\n",
              "    </tr>\n",
              "  </tbody>\n",
              "</table>\n",
              "</div>\n",
              "    <div class=\"colab-df-buttons\">\n",
              "\n",
              "  <div class=\"colab-df-container\">\n",
              "    <button class=\"colab-df-convert\" onclick=\"convertToInteractive('df-79322cd0-fa3e-4f9c-a8aa-3de7d679c00f')\"\n",
              "            title=\"Convert this dataframe to an interactive table.\"\n",
              "            style=\"display:none;\">\n",
              "\n",
              "  <svg xmlns=\"http://www.w3.org/2000/svg\" height=\"24px\" viewBox=\"0 -960 960 960\">\n",
              "    <path d=\"M120-120v-720h720v720H120Zm60-500h600v-160H180v160Zm220 220h160v-160H400v160Zm0 220h160v-160H400v160ZM180-400h160v-160H180v160Zm440 0h160v-160H620v160ZM180-180h160v-160H180v160Zm440 0h160v-160H620v160Z\"/>\n",
              "  </svg>\n",
              "    </button>\n",
              "\n",
              "  <style>\n",
              "    .colab-df-container {\n",
              "      display:flex;\n",
              "      gap: 12px;\n",
              "    }\n",
              "\n",
              "    .colab-df-convert {\n",
              "      background-color: #E8F0FE;\n",
              "      border: none;\n",
              "      border-radius: 50%;\n",
              "      cursor: pointer;\n",
              "      display: none;\n",
              "      fill: #1967D2;\n",
              "      height: 32px;\n",
              "      padding: 0 0 0 0;\n",
              "      width: 32px;\n",
              "    }\n",
              "\n",
              "    .colab-df-convert:hover {\n",
              "      background-color: #E2EBFA;\n",
              "      box-shadow: 0px 1px 2px rgba(60, 64, 67, 0.3), 0px 1px 3px 1px rgba(60, 64, 67, 0.15);\n",
              "      fill: #174EA6;\n",
              "    }\n",
              "\n",
              "    .colab-df-buttons div {\n",
              "      margin-bottom: 4px;\n",
              "    }\n",
              "\n",
              "    [theme=dark] .colab-df-convert {\n",
              "      background-color: #3B4455;\n",
              "      fill: #D2E3FC;\n",
              "    }\n",
              "\n",
              "    [theme=dark] .colab-df-convert:hover {\n",
              "      background-color: #434B5C;\n",
              "      box-shadow: 0px 1px 3px 1px rgba(0, 0, 0, 0.15);\n",
              "      filter: drop-shadow(0px 1px 2px rgba(0, 0, 0, 0.3));\n",
              "      fill: #FFFFFF;\n",
              "    }\n",
              "  </style>\n",
              "\n",
              "    <script>\n",
              "      const buttonEl =\n",
              "        document.querySelector('#df-79322cd0-fa3e-4f9c-a8aa-3de7d679c00f button.colab-df-convert');\n",
              "      buttonEl.style.display =\n",
              "        google.colab.kernel.accessAllowed ? 'block' : 'none';\n",
              "\n",
              "      async function convertToInteractive(key) {\n",
              "        const element = document.querySelector('#df-79322cd0-fa3e-4f9c-a8aa-3de7d679c00f');\n",
              "        const dataTable =\n",
              "          await google.colab.kernel.invokeFunction('convertToInteractive',\n",
              "                                                    [key], {});\n",
              "        if (!dataTable) return;\n",
              "\n",
              "        const docLinkHtml = 'Like what you see? Visit the ' +\n",
              "          '<a target=\"_blank\" href=https://colab.research.google.com/notebooks/data_table.ipynb>data table notebook</a>'\n",
              "          + ' to learn more about interactive tables.';\n",
              "        element.innerHTML = '';\n",
              "        dataTable['output_type'] = 'display_data';\n",
              "        await google.colab.output.renderOutput(dataTable, element);\n",
              "        const docLink = document.createElement('div');\n",
              "        docLink.innerHTML = docLinkHtml;\n",
              "        element.appendChild(docLink);\n",
              "      }\n",
              "    </script>\n",
              "  </div>\n",
              "\n",
              "\n",
              "<div id=\"df-fdb396f6-b9d2-4008-9c14-a26b9c801b10\">\n",
              "  <button class=\"colab-df-quickchart\" onclick=\"quickchart('df-fdb396f6-b9d2-4008-9c14-a26b9c801b10')\"\n",
              "            title=\"Suggest charts\"\n",
              "            style=\"display:none;\">\n",
              "\n",
              "<svg xmlns=\"http://www.w3.org/2000/svg\" height=\"24px\"viewBox=\"0 0 24 24\"\n",
              "     width=\"24px\">\n",
              "    <g>\n",
              "        <path d=\"M19 3H5c-1.1 0-2 .9-2 2v14c0 1.1.9 2 2 2h14c1.1 0 2-.9 2-2V5c0-1.1-.9-2-2-2zM9 17H7v-7h2v7zm4 0h-2V7h2v10zm4 0h-2v-4h2v4z\"/>\n",
              "    </g>\n",
              "</svg>\n",
              "  </button>\n",
              "\n",
              "<style>\n",
              "  .colab-df-quickchart {\n",
              "      --bg-color: #E8F0FE;\n",
              "      --fill-color: #1967D2;\n",
              "      --hover-bg-color: #E2EBFA;\n",
              "      --hover-fill-color: #174EA6;\n",
              "      --disabled-fill-color: #AAA;\n",
              "      --disabled-bg-color: #DDD;\n",
              "  }\n",
              "\n",
              "  [theme=dark] .colab-df-quickchart {\n",
              "      --bg-color: #3B4455;\n",
              "      --fill-color: #D2E3FC;\n",
              "      --hover-bg-color: #434B5C;\n",
              "      --hover-fill-color: #FFFFFF;\n",
              "      --disabled-bg-color: #3B4455;\n",
              "      --disabled-fill-color: #666;\n",
              "  }\n",
              "\n",
              "  .colab-df-quickchart {\n",
              "    background-color: var(--bg-color);\n",
              "    border: none;\n",
              "    border-radius: 50%;\n",
              "    cursor: pointer;\n",
              "    display: none;\n",
              "    fill: var(--fill-color);\n",
              "    height: 32px;\n",
              "    padding: 0;\n",
              "    width: 32px;\n",
              "  }\n",
              "\n",
              "  .colab-df-quickchart:hover {\n",
              "    background-color: var(--hover-bg-color);\n",
              "    box-shadow: 0 1px 2px rgba(60, 64, 67, 0.3), 0 1px 3px 1px rgba(60, 64, 67, 0.15);\n",
              "    fill: var(--button-hover-fill-color);\n",
              "  }\n",
              "\n",
              "  .colab-df-quickchart-complete:disabled,\n",
              "  .colab-df-quickchart-complete:disabled:hover {\n",
              "    background-color: var(--disabled-bg-color);\n",
              "    fill: var(--disabled-fill-color);\n",
              "    box-shadow: none;\n",
              "  }\n",
              "\n",
              "  .colab-df-spinner {\n",
              "    border: 2px solid var(--fill-color);\n",
              "    border-color: transparent;\n",
              "    border-bottom-color: var(--fill-color);\n",
              "    animation:\n",
              "      spin 1s steps(1) infinite;\n",
              "  }\n",
              "\n",
              "  @keyframes spin {\n",
              "    0% {\n",
              "      border-color: transparent;\n",
              "      border-bottom-color: var(--fill-color);\n",
              "      border-left-color: var(--fill-color);\n",
              "    }\n",
              "    20% {\n",
              "      border-color: transparent;\n",
              "      border-left-color: var(--fill-color);\n",
              "      border-top-color: var(--fill-color);\n",
              "    }\n",
              "    30% {\n",
              "      border-color: transparent;\n",
              "      border-left-color: var(--fill-color);\n",
              "      border-top-color: var(--fill-color);\n",
              "      border-right-color: var(--fill-color);\n",
              "    }\n",
              "    40% {\n",
              "      border-color: transparent;\n",
              "      border-right-color: var(--fill-color);\n",
              "      border-top-color: var(--fill-color);\n",
              "    }\n",
              "    60% {\n",
              "      border-color: transparent;\n",
              "      border-right-color: var(--fill-color);\n",
              "    }\n",
              "    80% {\n",
              "      border-color: transparent;\n",
              "      border-right-color: var(--fill-color);\n",
              "      border-bottom-color: var(--fill-color);\n",
              "    }\n",
              "    90% {\n",
              "      border-color: transparent;\n",
              "      border-bottom-color: var(--fill-color);\n",
              "    }\n",
              "  }\n",
              "</style>\n",
              "\n",
              "  <script>\n",
              "    async function quickchart(key) {\n",
              "      const quickchartButtonEl =\n",
              "        document.querySelector('#' + key + ' button');\n",
              "      quickchartButtonEl.disabled = true;  // To prevent multiple clicks.\n",
              "      quickchartButtonEl.classList.add('colab-df-spinner');\n",
              "      try {\n",
              "        const charts = await google.colab.kernel.invokeFunction(\n",
              "            'suggestCharts', [key], {});\n",
              "      } catch (error) {\n",
              "        console.error('Error during call to suggestCharts:', error);\n",
              "      }\n",
              "      quickchartButtonEl.classList.remove('colab-df-spinner');\n",
              "      quickchartButtonEl.classList.add('colab-df-quickchart-complete');\n",
              "    }\n",
              "    (() => {\n",
              "      let quickchartButtonEl =\n",
              "        document.querySelector('#df-fdb396f6-b9d2-4008-9c14-a26b9c801b10 button');\n",
              "      quickchartButtonEl.style.display =\n",
              "        google.colab.kernel.accessAllowed ? 'block' : 'none';\n",
              "    })();\n",
              "  </script>\n",
              "</div>\n",
              "\n",
              "  <div id=\"id_1a7dcbaa-5948-44d2-9390-2bb057328778\">\n",
              "    <style>\n",
              "      .colab-df-generate {\n",
              "        background-color: #E8F0FE;\n",
              "        border: none;\n",
              "        border-radius: 50%;\n",
              "        cursor: pointer;\n",
              "        display: none;\n",
              "        fill: #1967D2;\n",
              "        height: 32px;\n",
              "        padding: 0 0 0 0;\n",
              "        width: 32px;\n",
              "      }\n",
              "\n",
              "      .colab-df-generate:hover {\n",
              "        background-color: #E2EBFA;\n",
              "        box-shadow: 0px 1px 2px rgba(60, 64, 67, 0.3), 0px 1px 3px 1px rgba(60, 64, 67, 0.15);\n",
              "        fill: #174EA6;\n",
              "      }\n",
              "\n",
              "      [theme=dark] .colab-df-generate {\n",
              "        background-color: #3B4455;\n",
              "        fill: #D2E3FC;\n",
              "      }\n",
              "\n",
              "      [theme=dark] .colab-df-generate:hover {\n",
              "        background-color: #434B5C;\n",
              "        box-shadow: 0px 1px 3px 1px rgba(0, 0, 0, 0.15);\n",
              "        filter: drop-shadow(0px 1px 2px rgba(0, 0, 0, 0.3));\n",
              "        fill: #FFFFFF;\n",
              "      }\n",
              "    </style>\n",
              "    <button class=\"colab-df-generate\" onclick=\"generateWithVariable('compare_results')\"\n",
              "            title=\"Generate code using this dataframe.\"\n",
              "            style=\"display:none;\">\n",
              "\n",
              "  <svg xmlns=\"http://www.w3.org/2000/svg\" height=\"24px\"viewBox=\"0 0 24 24\"\n",
              "       width=\"24px\">\n",
              "    <path d=\"M7,19H8.4L18.45,9,17,7.55,7,17.6ZM5,21V16.75L18.45,3.32a2,2,0,0,1,2.83,0l1.4,1.43a1.91,1.91,0,0,1,.58,1.4,1.91,1.91,0,0,1-.58,1.4L9.25,21ZM18.45,9,17,7.55Zm-12,3A5.31,5.31,0,0,0,4.9,8.1,5.31,5.31,0,0,0,1,6.5,5.31,5.31,0,0,0,4.9,4.9,5.31,5.31,0,0,0,6.5,1,5.31,5.31,0,0,0,8.1,4.9,5.31,5.31,0,0,0,12,6.5,5.46,5.46,0,0,0,6.5,12Z\"/>\n",
              "  </svg>\n",
              "    </button>\n",
              "    <script>\n",
              "      (() => {\n",
              "      const buttonEl =\n",
              "        document.querySelector('#id_1a7dcbaa-5948-44d2-9390-2bb057328778 button.colab-df-generate');\n",
              "      buttonEl.style.display =\n",
              "        google.colab.kernel.accessAllowed ? 'block' : 'none';\n",
              "\n",
              "      buttonEl.onclick = () => {\n",
              "        google.colab.notebook.generateWithVariable('compare_results');\n",
              "      }\n",
              "      })();\n",
              "    </script>\n",
              "  </div>\n",
              "\n",
              "    </div>\n",
              "  </div>\n"
            ],
            "application/vnd.google.colaboratory.intrinsic+json": {
              "type": "dataframe",
              "variable_name": "compare_results",
              "summary": "{\n  \"name\": \"compare_results\",\n  \"rows\": 3,\n  \"fields\": [\n    {\n      \"column\": \"model_name\",\n      \"properties\": {\n        \"dtype\": \"string\",\n        \"num_unique_values\": 3,\n        \"samples\": [\n          \"FashionMNISTModelV0\",\n          \"FashionMNISTModelV1\",\n          \"FashionMNISTModelV2\"\n        ],\n        \"semantic_type\": \"\",\n        \"description\": \"\"\n      }\n    },\n    {\n      \"column\": \"model_loss\",\n      \"properties\": {\n        \"dtype\": \"number\",\n        \"std\": 0.17971213834245262,\n        \"min\": 0.32718968391418457,\n        \"max\": 0.6850009560585022,\n        \"num_unique_values\": 3,\n        \"samples\": [\n          0.47663894295692444,\n          0.6850009560585022,\n          0.32718968391418457\n        ],\n        \"semantic_type\": \"\",\n        \"description\": \"\"\n      }\n    },\n    {\n      \"column\": \"model_acc\",\n      \"properties\": {\n        \"dtype\": \"number\",\n        \"std\": 6.614417560833454,\n        \"min\": 75.01996805111821,\n        \"max\": 88.06908945686901,\n        \"num_unique_values\": 3,\n        \"samples\": [\n          83.42651757188499,\n          75.01996805111821,\n          88.06908945686901\n        ],\n        \"semantic_type\": \"\",\n        \"description\": \"\"\n      }\n    }\n  ]\n}"
            }
          },
          "metadata": {},
          "execution_count": 293
        }
      ]
    },
    {
      "cell_type": "code",
      "source": [
        "# Add training time to results comparison\n",
        "compare_results[\"training_time\"] = [total_train_time_model_0,\n",
        "                                    total_train_time_model_1,\n",
        "                                    total_train_time_model_2]\n",
        "compare_results"
      ],
      "metadata": {
        "colab": {
          "base_uri": "https://localhost:8080/",
          "height": 143
        },
        "id": "tambQ-OM1brz",
        "outputId": "f7d4f718-a4bc-4983-dc2a-c095a5e7f7fc"
      },
      "execution_count": 294,
      "outputs": [
        {
          "output_type": "execute_result",
          "data": {
            "text/plain": [
              "            model_name  model_loss  model_acc  training_time\n",
              "0  FashionMNISTModelV0    0.476639  83.426518       0.000000\n",
              "1  FashionMNISTModelV1    0.685001  75.019968      36.284871\n",
              "2  FashionMNISTModelV2    0.327190  88.069089     163.423590"
            ],
            "text/html": [
              "\n",
              "  <div id=\"df-bf21b875-5515-46b6-90f3-195265afbd03\" class=\"colab-df-container\">\n",
              "    <div>\n",
              "<style scoped>\n",
              "    .dataframe tbody tr th:only-of-type {\n",
              "        vertical-align: middle;\n",
              "    }\n",
              "\n",
              "    .dataframe tbody tr th {\n",
              "        vertical-align: top;\n",
              "    }\n",
              "\n",
              "    .dataframe thead th {\n",
              "        text-align: right;\n",
              "    }\n",
              "</style>\n",
              "<table border=\"1\" class=\"dataframe\">\n",
              "  <thead>\n",
              "    <tr style=\"text-align: right;\">\n",
              "      <th></th>\n",
              "      <th>model_name</th>\n",
              "      <th>model_loss</th>\n",
              "      <th>model_acc</th>\n",
              "      <th>training_time</th>\n",
              "    </tr>\n",
              "  </thead>\n",
              "  <tbody>\n",
              "    <tr>\n",
              "      <th>0</th>\n",
              "      <td>FashionMNISTModelV0</td>\n",
              "      <td>0.476639</td>\n",
              "      <td>83.426518</td>\n",
              "      <td>0.000000</td>\n",
              "    </tr>\n",
              "    <tr>\n",
              "      <th>1</th>\n",
              "      <td>FashionMNISTModelV1</td>\n",
              "      <td>0.685001</td>\n",
              "      <td>75.019968</td>\n",
              "      <td>36.284871</td>\n",
              "    </tr>\n",
              "    <tr>\n",
              "      <th>2</th>\n",
              "      <td>FashionMNISTModelV2</td>\n",
              "      <td>0.327190</td>\n",
              "      <td>88.069089</td>\n",
              "      <td>163.423590</td>\n",
              "    </tr>\n",
              "  </tbody>\n",
              "</table>\n",
              "</div>\n",
              "    <div class=\"colab-df-buttons\">\n",
              "\n",
              "  <div class=\"colab-df-container\">\n",
              "    <button class=\"colab-df-convert\" onclick=\"convertToInteractive('df-bf21b875-5515-46b6-90f3-195265afbd03')\"\n",
              "            title=\"Convert this dataframe to an interactive table.\"\n",
              "            style=\"display:none;\">\n",
              "\n",
              "  <svg xmlns=\"http://www.w3.org/2000/svg\" height=\"24px\" viewBox=\"0 -960 960 960\">\n",
              "    <path d=\"M120-120v-720h720v720H120Zm60-500h600v-160H180v160Zm220 220h160v-160H400v160Zm0 220h160v-160H400v160ZM180-400h160v-160H180v160Zm440 0h160v-160H620v160ZM180-180h160v-160H180v160Zm440 0h160v-160H620v160Z\"/>\n",
              "  </svg>\n",
              "    </button>\n",
              "\n",
              "  <style>\n",
              "    .colab-df-container {\n",
              "      display:flex;\n",
              "      gap: 12px;\n",
              "    }\n",
              "\n",
              "    .colab-df-convert {\n",
              "      background-color: #E8F0FE;\n",
              "      border: none;\n",
              "      border-radius: 50%;\n",
              "      cursor: pointer;\n",
              "      display: none;\n",
              "      fill: #1967D2;\n",
              "      height: 32px;\n",
              "      padding: 0 0 0 0;\n",
              "      width: 32px;\n",
              "    }\n",
              "\n",
              "    .colab-df-convert:hover {\n",
              "      background-color: #E2EBFA;\n",
              "      box-shadow: 0px 1px 2px rgba(60, 64, 67, 0.3), 0px 1px 3px 1px rgba(60, 64, 67, 0.15);\n",
              "      fill: #174EA6;\n",
              "    }\n",
              "\n",
              "    .colab-df-buttons div {\n",
              "      margin-bottom: 4px;\n",
              "    }\n",
              "\n",
              "    [theme=dark] .colab-df-convert {\n",
              "      background-color: #3B4455;\n",
              "      fill: #D2E3FC;\n",
              "    }\n",
              "\n",
              "    [theme=dark] .colab-df-convert:hover {\n",
              "      background-color: #434B5C;\n",
              "      box-shadow: 0px 1px 3px 1px rgba(0, 0, 0, 0.15);\n",
              "      filter: drop-shadow(0px 1px 2px rgba(0, 0, 0, 0.3));\n",
              "      fill: #FFFFFF;\n",
              "    }\n",
              "  </style>\n",
              "\n",
              "    <script>\n",
              "      const buttonEl =\n",
              "        document.querySelector('#df-bf21b875-5515-46b6-90f3-195265afbd03 button.colab-df-convert');\n",
              "      buttonEl.style.display =\n",
              "        google.colab.kernel.accessAllowed ? 'block' : 'none';\n",
              "\n",
              "      async function convertToInteractive(key) {\n",
              "        const element = document.querySelector('#df-bf21b875-5515-46b6-90f3-195265afbd03');\n",
              "        const dataTable =\n",
              "          await google.colab.kernel.invokeFunction('convertToInteractive',\n",
              "                                                    [key], {});\n",
              "        if (!dataTable) return;\n",
              "\n",
              "        const docLinkHtml = 'Like what you see? Visit the ' +\n",
              "          '<a target=\"_blank\" href=https://colab.research.google.com/notebooks/data_table.ipynb>data table notebook</a>'\n",
              "          + ' to learn more about interactive tables.';\n",
              "        element.innerHTML = '';\n",
              "        dataTable['output_type'] = 'display_data';\n",
              "        await google.colab.output.renderOutput(dataTable, element);\n",
              "        const docLink = document.createElement('div');\n",
              "        docLink.innerHTML = docLinkHtml;\n",
              "        element.appendChild(docLink);\n",
              "      }\n",
              "    </script>\n",
              "  </div>\n",
              "\n",
              "\n",
              "<div id=\"df-4185908b-d1e5-444b-9534-7e6d4380dcf6\">\n",
              "  <button class=\"colab-df-quickchart\" onclick=\"quickchart('df-4185908b-d1e5-444b-9534-7e6d4380dcf6')\"\n",
              "            title=\"Suggest charts\"\n",
              "            style=\"display:none;\">\n",
              "\n",
              "<svg xmlns=\"http://www.w3.org/2000/svg\" height=\"24px\"viewBox=\"0 0 24 24\"\n",
              "     width=\"24px\">\n",
              "    <g>\n",
              "        <path d=\"M19 3H5c-1.1 0-2 .9-2 2v14c0 1.1.9 2 2 2h14c1.1 0 2-.9 2-2V5c0-1.1-.9-2-2-2zM9 17H7v-7h2v7zm4 0h-2V7h2v10zm4 0h-2v-4h2v4z\"/>\n",
              "    </g>\n",
              "</svg>\n",
              "  </button>\n",
              "\n",
              "<style>\n",
              "  .colab-df-quickchart {\n",
              "      --bg-color: #E8F0FE;\n",
              "      --fill-color: #1967D2;\n",
              "      --hover-bg-color: #E2EBFA;\n",
              "      --hover-fill-color: #174EA6;\n",
              "      --disabled-fill-color: #AAA;\n",
              "      --disabled-bg-color: #DDD;\n",
              "  }\n",
              "\n",
              "  [theme=dark] .colab-df-quickchart {\n",
              "      --bg-color: #3B4455;\n",
              "      --fill-color: #D2E3FC;\n",
              "      --hover-bg-color: #434B5C;\n",
              "      --hover-fill-color: #FFFFFF;\n",
              "      --disabled-bg-color: #3B4455;\n",
              "      --disabled-fill-color: #666;\n",
              "  }\n",
              "\n",
              "  .colab-df-quickchart {\n",
              "    background-color: var(--bg-color);\n",
              "    border: none;\n",
              "    border-radius: 50%;\n",
              "    cursor: pointer;\n",
              "    display: none;\n",
              "    fill: var(--fill-color);\n",
              "    height: 32px;\n",
              "    padding: 0;\n",
              "    width: 32px;\n",
              "  }\n",
              "\n",
              "  .colab-df-quickchart:hover {\n",
              "    background-color: var(--hover-bg-color);\n",
              "    box-shadow: 0 1px 2px rgba(60, 64, 67, 0.3), 0 1px 3px 1px rgba(60, 64, 67, 0.15);\n",
              "    fill: var(--button-hover-fill-color);\n",
              "  }\n",
              "\n",
              "  .colab-df-quickchart-complete:disabled,\n",
              "  .colab-df-quickchart-complete:disabled:hover {\n",
              "    background-color: var(--disabled-bg-color);\n",
              "    fill: var(--disabled-fill-color);\n",
              "    box-shadow: none;\n",
              "  }\n",
              "\n",
              "  .colab-df-spinner {\n",
              "    border: 2px solid var(--fill-color);\n",
              "    border-color: transparent;\n",
              "    border-bottom-color: var(--fill-color);\n",
              "    animation:\n",
              "      spin 1s steps(1) infinite;\n",
              "  }\n",
              "\n",
              "  @keyframes spin {\n",
              "    0% {\n",
              "      border-color: transparent;\n",
              "      border-bottom-color: var(--fill-color);\n",
              "      border-left-color: var(--fill-color);\n",
              "    }\n",
              "    20% {\n",
              "      border-color: transparent;\n",
              "      border-left-color: var(--fill-color);\n",
              "      border-top-color: var(--fill-color);\n",
              "    }\n",
              "    30% {\n",
              "      border-color: transparent;\n",
              "      border-left-color: var(--fill-color);\n",
              "      border-top-color: var(--fill-color);\n",
              "      border-right-color: var(--fill-color);\n",
              "    }\n",
              "    40% {\n",
              "      border-color: transparent;\n",
              "      border-right-color: var(--fill-color);\n",
              "      border-top-color: var(--fill-color);\n",
              "    }\n",
              "    60% {\n",
              "      border-color: transparent;\n",
              "      border-right-color: var(--fill-color);\n",
              "    }\n",
              "    80% {\n",
              "      border-color: transparent;\n",
              "      border-right-color: var(--fill-color);\n",
              "      border-bottom-color: var(--fill-color);\n",
              "    }\n",
              "    90% {\n",
              "      border-color: transparent;\n",
              "      border-bottom-color: var(--fill-color);\n",
              "    }\n",
              "  }\n",
              "</style>\n",
              "\n",
              "  <script>\n",
              "    async function quickchart(key) {\n",
              "      const quickchartButtonEl =\n",
              "        document.querySelector('#' + key + ' button');\n",
              "      quickchartButtonEl.disabled = true;  // To prevent multiple clicks.\n",
              "      quickchartButtonEl.classList.add('colab-df-spinner');\n",
              "      try {\n",
              "        const charts = await google.colab.kernel.invokeFunction(\n",
              "            'suggestCharts', [key], {});\n",
              "      } catch (error) {\n",
              "        console.error('Error during call to suggestCharts:', error);\n",
              "      }\n",
              "      quickchartButtonEl.classList.remove('colab-df-spinner');\n",
              "      quickchartButtonEl.classList.add('colab-df-quickchart-complete');\n",
              "    }\n",
              "    (() => {\n",
              "      let quickchartButtonEl =\n",
              "        document.querySelector('#df-4185908b-d1e5-444b-9534-7e6d4380dcf6 button');\n",
              "      quickchartButtonEl.style.display =\n",
              "        google.colab.kernel.accessAllowed ? 'block' : 'none';\n",
              "    })();\n",
              "  </script>\n",
              "</div>\n",
              "\n",
              "  <div id=\"id_b990b51f-3238-4efb-8c2d-e6a3081aa3fd\">\n",
              "    <style>\n",
              "      .colab-df-generate {\n",
              "        background-color: #E8F0FE;\n",
              "        border: none;\n",
              "        border-radius: 50%;\n",
              "        cursor: pointer;\n",
              "        display: none;\n",
              "        fill: #1967D2;\n",
              "        height: 32px;\n",
              "        padding: 0 0 0 0;\n",
              "        width: 32px;\n",
              "      }\n",
              "\n",
              "      .colab-df-generate:hover {\n",
              "        background-color: #E2EBFA;\n",
              "        box-shadow: 0px 1px 2px rgba(60, 64, 67, 0.3), 0px 1px 3px 1px rgba(60, 64, 67, 0.15);\n",
              "        fill: #174EA6;\n",
              "      }\n",
              "\n",
              "      [theme=dark] .colab-df-generate {\n",
              "        background-color: #3B4455;\n",
              "        fill: #D2E3FC;\n",
              "      }\n",
              "\n",
              "      [theme=dark] .colab-df-generate:hover {\n",
              "        background-color: #434B5C;\n",
              "        box-shadow: 0px 1px 3px 1px rgba(0, 0, 0, 0.15);\n",
              "        filter: drop-shadow(0px 1px 2px rgba(0, 0, 0, 0.3));\n",
              "        fill: #FFFFFF;\n",
              "      }\n",
              "    </style>\n",
              "    <button class=\"colab-df-generate\" onclick=\"generateWithVariable('compare_results')\"\n",
              "            title=\"Generate code using this dataframe.\"\n",
              "            style=\"display:none;\">\n",
              "\n",
              "  <svg xmlns=\"http://www.w3.org/2000/svg\" height=\"24px\"viewBox=\"0 0 24 24\"\n",
              "       width=\"24px\">\n",
              "    <path d=\"M7,19H8.4L18.45,9,17,7.55,7,17.6ZM5,21V16.75L18.45,3.32a2,2,0,0,1,2.83,0l1.4,1.43a1.91,1.91,0,0,1,.58,1.4,1.91,1.91,0,0,1-.58,1.4L9.25,21ZM18.45,9,17,7.55Zm-12,3A5.31,5.31,0,0,0,4.9,8.1,5.31,5.31,0,0,0,1,6.5,5.31,5.31,0,0,0,4.9,4.9,5.31,5.31,0,0,0,6.5,1,5.31,5.31,0,0,0,8.1,4.9,5.31,5.31,0,0,0,12,6.5,5.46,5.46,0,0,0,6.5,12Z\"/>\n",
              "  </svg>\n",
              "    </button>\n",
              "    <script>\n",
              "      (() => {\n",
              "      const buttonEl =\n",
              "        document.querySelector('#id_b990b51f-3238-4efb-8c2d-e6a3081aa3fd button.colab-df-generate');\n",
              "      buttonEl.style.display =\n",
              "        google.colab.kernel.accessAllowed ? 'block' : 'none';\n",
              "\n",
              "      buttonEl.onclick = () => {\n",
              "        google.colab.notebook.generateWithVariable('compare_results');\n",
              "      }\n",
              "      })();\n",
              "    </script>\n",
              "  </div>\n",
              "\n",
              "    </div>\n",
              "  </div>\n"
            ],
            "application/vnd.google.colaboratory.intrinsic+json": {
              "type": "dataframe",
              "variable_name": "compare_results",
              "summary": "{\n  \"name\": \"compare_results\",\n  \"rows\": 3,\n  \"fields\": [\n    {\n      \"column\": \"model_name\",\n      \"properties\": {\n        \"dtype\": \"string\",\n        \"num_unique_values\": 3,\n        \"samples\": [\n          \"FashionMNISTModelV0\",\n          \"FashionMNISTModelV1\",\n          \"FashionMNISTModelV2\"\n        ],\n        \"semantic_type\": \"\",\n        \"description\": \"\"\n      }\n    },\n    {\n      \"column\": \"model_loss\",\n      \"properties\": {\n        \"dtype\": \"number\",\n        \"std\": 0.17971213834245262,\n        \"min\": 0.32718968391418457,\n        \"max\": 0.6850009560585022,\n        \"num_unique_values\": 3,\n        \"samples\": [\n          0.47663894295692444,\n          0.6850009560585022,\n          0.32718968391418457\n        ],\n        \"semantic_type\": \"\",\n        \"description\": \"\"\n      }\n    },\n    {\n      \"column\": \"model_acc\",\n      \"properties\": {\n        \"dtype\": \"number\",\n        \"std\": 6.614417560833454,\n        \"min\": 75.01996805111821,\n        \"max\": 88.06908945686901,\n        \"num_unique_values\": 3,\n        \"samples\": [\n          83.42651757188499,\n          75.01996805111821,\n          88.06908945686901\n        ],\n        \"semantic_type\": \"\",\n        \"description\": \"\"\n      }\n    },\n    {\n      \"column\": \"training_time\",\n      \"properties\": {\n        \"dtype\": \"number\",\n        \"std\": 85.8177483475512,\n        \"min\": 0.0,\n        \"max\": 163.42359011500048,\n        \"num_unique_values\": 3,\n        \"samples\": [\n          0.0,\n          36.28487088499969,\n          163.42359011500048\n        ],\n        \"semantic_type\": \"\",\n        \"description\": \"\"\n      }\n    }\n  ]\n}"
            }
          },
          "metadata": {},
          "execution_count": 294
        }
      ]
    },
    {
      "cell_type": "code",
      "source": [
        "# Visualize our model results\n",
        "compare_results.set_index(\"model_name\")[\"model_acc\"].plot(kind=\"barh\")\n",
        "plt.xlabel(\"accuracy (%)\")\n",
        "plt.ylabel(\"model\");"
      ],
      "metadata": {
        "colab": {
          "base_uri": "https://localhost:8080/",
          "height": 405
        },
        "id": "t0iFrEB91bkJ",
        "outputId": "9e6b862c-2611-4613-d2b0-7c0389b1cd21"
      },
      "execution_count": 295,
      "outputs": [
        {
          "output_type": "display_data",
          "data": {
            "text/plain": [
              "<Figure size 640x480 with 1 Axes>"
            ],
            "image/png": "[encoded data removed]"
          },
          "metadata": {}
        }
      ]
    },
    {
      "cell_type": "markdown",
      "source": [
        "## 9. Make and Evaluate random predictions with best model"
      ],
      "metadata": {
        "id": "_6HGKcG-3HGL"
      }
    },
    {
      "cell_type": "code",
      "source": [
        "def make_predictions(model: torch.nn.Module,\n",
        "                     data: list,\n",
        "                     device: torch.device = device):\n",
        "\n",
        "  pred_probs = []\n",
        "  model.to(device)\n",
        "  model.eval()\n",
        "\n",
        "  with torch.inference_mode():\n",
        "    for sample in data:\n",
        "      # Prepare the sample (add a batch dimension and pass to target device)\n",
        "      sample = torch.unsqueeze(sample, dim=0).to(device)\n",
        "\n",
        "      # Forward pass (model outputs raw logits)\n",
        "      pred_logit = model(sample)\n",
        "\n",
        "      # Get prediction probability (logit -> prediction probability)\n",
        "      pred_prob = torch.softmax(pred_logit.squeeze(), dim=0)\n",
        "\n",
        "      # Get pred_prob off GPU for further calculations\n",
        "      pred_probs.append(pred_prob.cpu())\n",
        "\n",
        "  # Stack the pred_probs to turn list into a tensor\n",
        "  return torch.stack(pred_probs)\n"
      ],
      "metadata": {
        "id": "CW0zSuJi1bbo"
      },
      "execution_count": 296,
      "outputs": []
    },
    {
      "cell_type": "code",
      "source": [
        "import random\n",
        "# random.seed(42)\n",
        "test_samples = []\n",
        "test_labels = []\n",
        "\n",
        "for sample, label in random.sample(list(test_data), k=9):\n",
        "  test_samples.append(sample)\n",
        "  test_labels.append(label)\n",
        "\n",
        "# View the first sample shape\n",
        "test_samples[0].shape"
      ],
      "metadata": {
        "colab": {
          "base_uri": "https://localhost:8080/"
        },
        "id": "UeGe3_7-4_G5",
        "outputId": "afec4e71-e0db-4af1-c759-3095303f497c"
      },
      "execution_count": 297,
      "outputs": [
        {
          "output_type": "execute_result",
          "data": {
            "text/plain": [
              "torch.Size([1, 28, 28])"
            ]
          },
          "metadata": {},
          "execution_count": 297
        }
      ]
    },
    {
      "cell_type": "code",
      "source": [
        "plt.imshow(test_samples[0].squeeze(), cmap=\"gray\")"
      ],
      "metadata": {
        "colab": {
          "base_uri": "https://localhost:8080/",
          "height": 447
        },
        "id": "0yJNa4f15xzE",
        "outputId": "54a39cc5-42d8-4687-ff54-d47415367598"
      },
      "execution_count": 298,
      "outputs": [
        {
          "output_type": "execute_result",
          "data": {
            "text/plain": [
              "<matplotlib.image.AxesImage at 0x7e34def80be0>"
            ]
          },
          "metadata": {},
          "execution_count": 298
        },
        {
          "output_type": "display_data",
          "data": {
            "text/plain": [
              "<Figure size 640x480 with 1 Axes>"
            ],
            "image/png": "[encoded data removed]"
          },
          "metadata": {}
        }
      ]
    },
    {
      "cell_type": "code",
      "source": [
        "# Make Predictions\n",
        "pred_probs = make_predictions(model=model_2,\n",
        "                              data=test_samples)\n",
        "\n",
        "# View first two prediction probabilities\n",
        "pred_probs[:2]"
      ],
      "metadata": {
        "colab": {
          "base_uri": "https://localhost:8080/"
        },
        "id": "0bOfgrI958xs",
        "outputId": "716a937d-5726-4b74-d324-36209422fb8c"
      },
      "execution_count": 299,
      "outputs": [
        {
          "output_type": "execute_result",
          "data": {
            "text/plain": [
              "tensor([[4.9888e-02, 1.8706e-03, 5.7892e-01, 9.2597e-03, 1.9227e-01, 9.2515e-05,\n",
              "         1.4721e-01, 1.8579e-04, 2.0143e-02, 1.5928e-04],\n",
              "        [4.4751e-04, 5.4043e-05, 6.0747e-02, 4.6409e-04, 9.3198e-01, 6.9176e-07,\n",
              "         3.2903e-03, 7.9197e-06, 2.9982e-03, 8.0210e-06]])"
            ]
          },
          "metadata": {},
          "execution_count": 299
        }
      ]
    },
    {
      "cell_type": "code",
      "source": [
        "test_labels"
      ],
      "metadata": {
        "colab": {
          "base_uri": "https://localhost:8080/"
        },
        "id": "yOl_KtSB6R95",
        "outputId": "2a0e1c93-ac14-4dd4-ecf4-45451dc69f76"
      },
      "execution_count": 300,
      "outputs": [
        {
          "output_type": "execute_result",
          "data": {
            "text/plain": [
              "[2, 4, 6, 3, 2, 2, 0, 1, 1]"
            ]
          },
          "metadata": {},
          "execution_count": 300
        }
      ]
    },
    {
      "cell_type": "code",
      "source": [
        "# pred_probs -> pred_classes\n",
        "pred_classes = pred_probs.argmax(dim=1)\n",
        "pred_classes"
      ],
      "metadata": {
        "colab": {
          "base_uri": "https://localhost:8080/"
        },
        "id": "CPC5radw6bFJ",
        "outputId": "5926591c-7f3d-40e4-aedd-5ffb3e1ac864"
      },
      "execution_count": 301,
      "outputs": [
        {
          "output_type": "execute_result",
          "data": {
            "text/plain": [
              "tensor([2, 4, 6, 3, 2, 2, 0, 1, 1])"
            ]
          },
          "metadata": {},
          "execution_count": 301
        }
      ]
    },
    {
      "cell_type": "code",
      "source": [
        "# Plot Predictions\n",
        "plt.figure(figsize=(9,9))\n",
        "nrows=3\n",
        "ncols=3\n",
        "for i, sample in enumerate(test_samples):\n",
        "  # Create subplot\n",
        "  plt.subplot(nrows, ncols, i+1)\n",
        "\n",
        "  # plot the target image\n",
        "  plt.imshow(sample.squeeze(), cmap=\"gray\")\n",
        "\n",
        "  # Find prediction in text form\n",
        "  pred_label = class_names[pred_classes[i]]\n",
        "\n",
        "  # Get the truth label in text form\n",
        "  truth_label = class_names[test_labels[i]]\n",
        "\n",
        "  # create a title for the plot\n",
        "  title_text = f\"Pred: {pred_label} | Truth: {truth_label}\"\n",
        "\n",
        "  # Check for equality between pred and truth and change color of title text\n",
        "  if pred_label == truth_label:\n",
        "    plt.title(title_text, fontsize=10, c='g') # green = truth\n",
        "  else:\n",
        "    plt.title(title_text, fontsize=10, c='r') # red = false\n",
        "\n",
        "  plt.axis(False)"
      ],
      "metadata": {
        "colab": {
          "base_uri": "https://localhost:8080/",
          "height": 643
        },
        "id": "yKTGi4-_6mD6",
        "outputId": "88ccf9bb-2ec2-40ac-f7d7-e2ba6fbe4edd"
      },
      "execution_count": 302,
      "outputs": [
        {
          "output_type": "display_data",
          "data": {
            "text/plain": [
              "<Figure size 900x900 with 9 Axes>"
            ],
            "image/png": "[encoded data removed]"
          },
          "metadata": {}
        }
      ]
    },
    {
      "cell_type": "markdown",
      "source": [
        "## 10. Making a confusion matrix for further prediction evaluation\n",
        "\n",
        "1. Make predictions with our trained model on the test dataset.\n",
        "\n",
        "2. Make a confusion matrix torchmetrics.ConfusionMatrix.\n",
        "\n",
        "3. Plot the confusion matrix using mlxtend.plotting.plot_confusion_matrix()"
      ],
      "metadata": {
        "id": "b9zi61NIHQHs"
      }
    },
    {
      "cell_type": "code",
      "source": [
        "# Import tqdm.auto\n",
        "from tqdm.auto import tqdm\n",
        "\n",
        "# 1. Make predictions with trained model\n",
        "y_preds = []\n",
        "model_2.eval()\n",
        "with torch.inference_mode():\n",
        "  for X, y in tqdm(test_dataloader, desc=\"Making predictions...\"):\n",
        "    # Send data and targets to target device\n",
        "    X,y = X.to(device), y.to(device)\n",
        "    # Do the forward pass\n",
        "    y_logit = model_2(X)\n",
        "    # Turn predictions from logits -> pred probs -> pred labels\n",
        "    y_pred = torch.softmax(y_logit.squeeze(), dim=0).argmax(dim=1)\n",
        "    # Put predictions on cpu for evaluation\n",
        "    y_preds.append(y_pred.cpu())\n",
        "\n",
        "  # Concatenate list of predictions into a tensor\n",
        "  # print(y_preds)\n",
        "  y_pred_tensor = torch.cat(y_preds)"
      ],
      "metadata": {
        "colab": {
          "base_uri": "https://localhost:8080/",
          "height": 49,
          "referenced_widgets": [
            "8e598ed50abe44aaaeb8f105999ee2a5",
            "1bd3c9a7ebd447468a41668795d90157",
            "87dfe6182c804d0a8846d769f724eb1b",
            "8f22a176911f492a89384322540b426e",
            "87d1b66f8a4b4c82bc8f4f4fdd330b51",
            "b7c4ee00c8134f8f8a9aaa26e0a12f7b",
            "d7097ebef45148fa8b6559174258b2a1",
            "cbb21718371443ea885650fb3e77c2a0",
            "c9f5596f7511421dbb1ac6a04cf7984e",
            "b07beddb87f340588af7ca92c9c305ad",
            "4c8c15d3b9ac4f6e8cea2eaa3f75e524"
          ]
        },
        "id": "zn1FOHbOIi5c",
        "outputId": "3030c5e7-09fe-4f99-ae7c-cf2505805101"
      },
      "execution_count": 306,
      "outputs": [
        {
          "output_type": "display_data",
          "data": {
            "text/plain": [
              "Making predictions...:   0%|          | 0/313 [00:00<?, ?it/s]"
            ],
            "application/vnd.jupyter.widget-view+json": {
              "version_major": 2,
              "version_minor": 0,
              "model_id": "8e598ed50abe44aaaeb8f105999ee2a5"
            }
          },
          "metadata": {}
        }
      ]
    },
    {
      "cell_type": "code",
      "source": [
        "y_pred_tensor.shape"
      ],
      "metadata": {
        "colab": {
          "base_uri": "https://localhost:8080/"
        },
        "id": "3Dr9fn7DLKe3",
        "outputId": "d6b86777-189d-486e-86c5-42d4a042f1c9"
      },
      "execution_count": 308,
      "outputs": [
        {
          "output_type": "execute_result",
          "data": {
            "text/plain": [
              "torch.Size([10000])"
            ]
          },
          "metadata": {},
          "execution_count": 308
        }
      ]
    },
    {
      "cell_type": "code",
      "source": [
        "!pip install torchmetrics"
      ],
      "metadata": {
        "colab": {
          "base_uri": "https://localhost:8080/"
        },
        "id": "6iT0A7glLVh_",
        "outputId": "864bbe03-0c42-4642-8ed8-9cbc965be4fa"
      },
      "execution_count": 310,
      "outputs": [
        {
          "output_type": "stream",
          "name": "stdout",
          "text": [
            "Collecting torchmetrics\n",
            "  Downloading torchmetrics-1.4.0.post0-py3-none-any.whl.metadata (19 kB)\n",
            "Requirement already satisfied: numpy>1.20.0 in /usr/local/lib/python3.10/dist-packages (from torchmetrics) (1.26.4)\n",
            "Requirement already satisfied: packaging>17.1 in /usr/local/lib/python3.10/dist-packages (from torchmetrics) (24.1)\n",
            "Requirement already satisfied: torch>=1.10.0 in /usr/local/lib/python3.10/dist-packages (from torchmetrics) (2.3.1+cu121)\n",
            "Collecting lightning-utilities>=0.8.0 (from torchmetrics)\n",
            "  Downloading lightning_utilities-0.11.6-py3-none-any.whl.metadata (5.2 kB)\n",
            "Requirement already satisfied: setuptools in /usr/local/lib/python3.10/dist-packages (from lightning-utilities>=0.8.0->torchmetrics) (71.0.4)\n",
            "Requirement already satisfied: typing-extensions in /usr/local/lib/python3.10/dist-packages (from lightning-utilities>=0.8.0->torchmetrics) (4.12.2)\n",
            "Requirement already satisfied: filelock in /usr/local/lib/python3.10/dist-packages (from torch>=1.10.0->torchmetrics) (3.15.4)\n",
            "Requirement already satisfied: sympy in /usr/local/lib/python3.10/dist-packages (from torch>=1.10.0->torchmetrics) (1.13.1)\n",
            "Requirement already satisfied: networkx in /usr/local/lib/python3.10/dist-packages (from torch>=1.10.0->torchmetrics) (3.3)\n",
            "Requirement already satisfied: jinja2 in /usr/local/lib/python3.10/dist-packages (from torch>=1.10.0->torchmetrics) (3.1.4)\n",
            "Requirement already satisfied: fsspec in /usr/local/lib/python3.10/dist-packages (from torch>=1.10.0->torchmetrics) (2024.6.1)\n",
            "Collecting nvidia-cuda-nvrtc-cu12==12.1.105 (from torch>=1.10.0->torchmetrics)\n",
            "  Using cached nvidia_cuda_nvrtc_cu12-12.1.105-py3-none-manylinux1_x86_64.whl.metadata (1.5 kB)\n",
            "Collecting nvidia-cuda-runtime-cu12==12.1.105 (from torch>=1.10.0->torchmetrics)\n",
            "  Using cached nvidia_cuda_runtime_cu12-12.1.105-py3-none-manylinux1_x86_64.whl.metadata (1.5 kB)\n",
            "Collecting nvidia-cuda-cupti-cu12==12.1.105 (from torch>=1.10.0->torchmetrics)\n",
            "  Using cached nvidia_cuda_cupti_cu12-12.1.105-py3-none-manylinux1_x86_64.whl.metadata (1.6 kB)\n",
            "Collecting nvidia-cudnn-cu12==8.9.2.26 (from torch>=1.10.0->torchmetrics)\n",
            "  Using cached nvidia_cudnn_cu12-8.9.2.26-py3-none-manylinux1_x86_64.whl.metadata (1.6 kB)\n",
            "Collecting nvidia-cublas-cu12==12.1.3.1 (from torch>=1.10.0->torchmetrics)\n",
            "  Using cached nvidia_cublas_cu12-12.1.3.1-py3-none-manylinux1_x86_64.whl.metadata (1.5 kB)\n",
            "Collecting nvidia-cufft-cu12==11.0.2.54 (from torch>=1.10.0->torchmetrics)\n",
            "  Using cached nvidia_cufft_cu12-11.0.2.54-py3-none-manylinux1_x86_64.whl.metadata (1.5 kB)\n",
            "Collecting nvidia-curand-cu12==10.3.2.106 (from torch>=1.10.0->torchmetrics)\n",
            "  Using cached nvidia_curand_cu12-10.3.2.106-py3-none-manylinux1_x86_64.whl.metadata (1.5 kB)\n",
            "Collecting nvidia-cusolver-cu12==11.4.5.107 (from torch>=1.10.0->torchmetrics)\n",
            "  Using cached nvidia_cusolver_cu12-11.4.5.107-py3-none-manylinux1_x86_64.whl.metadata (1.6 kB)\n",
            "Collecting nvidia-cusparse-cu12==12.1.0.106 (from torch>=1.10.0->torchmetrics)\n",
            "  Using cached nvidia_cusparse_cu12-12.1.0.106-py3-none-manylinux1_x86_64.whl.metadata (1.6 kB)\n",
            "Collecting nvidia-nccl-cu12==2.20.5 (from torch>=1.10.0->torchmetrics)\n",
            "  Using cached nvidia_nccl_cu12-2.20.5-py3-none-manylinux2014_x86_64.whl.metadata (1.8 kB)\n",
            "Collecting nvidia-nvtx-cu12==12.1.105 (from torch>=1.10.0->torchmetrics)\n",
            "  Using cached nvidia_nvtx_cu12-12.1.105-py3-none-manylinux1_x86_64.whl.metadata (1.7 kB)\n",
            "Requirement already satisfied: triton==2.3.1 in /usr/local/lib/python3.10/dist-packages (from torch>=1.10.0->torchmetrics) (2.3.1)\n",
            "Collecting nvidia-nvjitlink-cu12 (from nvidia-cusolver-cu12==11.4.5.107->torch>=1.10.0->torchmetrics)\n",
            "  Downloading nvidia_nvjitlink_cu12-12.6.20-py3-none-manylinux2014_x86_64.whl.metadata (1.5 kB)\n",
            "Requirement already satisfied: MarkupSafe>=2.0 in /usr/local/lib/python3.10/dist-packages (from jinja2->torch>=1.10.0->torchmetrics) (2.1.5)\n",
            "Requirement already satisfied: mpmath<1.4,>=1.1.0 in /usr/local/lib/python3.10/dist-packages (from sympy->torch>=1.10.0->torchmetrics) (1.3.0)\n",
            "Downloading torchmetrics-1.4.0.post0-py3-none-any.whl (868 kB)\n",
            "\u001b[2K   \u001b[90m━━━━━━━━━━━━━━━━━━━━━━━━━━━━━━━━━━━━━━━━\u001b[0m \u001b[32m868.8/868.8 kB\u001b[0m \u001b[31m34.6 MB/s\u001b[0m eta \u001b[36m0:00:00\u001b[0m\n",
            "\u001b[?25hDownloading lightning_utilities-0.11.6-py3-none-any.whl (26 kB)\n",
            "Using cached nvidia_cublas_cu12-12.1.3.1-py3-none-manylinux1_x86_64.whl (410.6 MB)\n",
            "Using cached nvidia_cuda_cupti_cu12-12.1.105-py3-none-manylinux1_x86_64.whl (14.1 MB)\n",
            "Using cached nvidia_cuda_nvrtc_cu12-12.1.105-py3-none-manylinux1_x86_64.whl (23.7 MB)\n",
            "Using cached nvidia_cuda_runtime_cu12-12.1.105-py3-none-manylinux1_x86_64.whl (823 kB)\n",
            "Using cached nvidia_cudnn_cu12-8.9.2.26-py3-none-manylinux1_x86_64.whl (731.7 MB)\n",
            "Using cached nvidia_cufft_cu12-11.0.2.54-py3-none-manylinux1_x86_64.whl (121.6 MB)\n",
            "Using cached nvidia_curand_cu12-10.3.2.106-py3-none-manylinux1_x86_64.whl (56.5 MB)\n",
            "Using cached nvidia_cusolver_cu12-11.4.5.107-py3-none-manylinux1_x86_64.whl (124.2 MB)\n",
            "Using cached nvidia_cusparse_cu12-12.1.0.106-py3-none-manylinux1_x86_64.whl (196.0 MB)\n",
            "Using cached nvidia_nccl_cu12-2.20.5-py3-none-manylinux2014_x86_64.whl (176.2 MB)\n",
            "Using cached nvidia_nvtx_cu12-12.1.105-py3-none-manylinux1_x86_64.whl (99 kB)\n",
            "Downloading nvidia_nvjitlink_cu12-12.6.20-py3-none-manylinux2014_x86_64.whl (19.7 MB)\n",
            "\u001b[2K   \u001b[90m━━━━━━━━━━━━━━━━━━━━━━━━━━━━━━━━━━━━━━━━\u001b[0m \u001b[32m19.7/19.7 MB\u001b[0m \u001b[31m11.7 MB/s\u001b[0m eta \u001b[36m0:00:00\u001b[0m\n",
            "\u001b[?25hInstalling collected packages: nvidia-nvtx-cu12, nvidia-nvjitlink-cu12, nvidia-nccl-cu12, nvidia-curand-cu12, nvidia-cufft-cu12, nvidia-cuda-runtime-cu12, nvidia-cuda-nvrtc-cu12, nvidia-cuda-cupti-cu12, nvidia-cublas-cu12, lightning-utilities, nvidia-cusparse-cu12, nvidia-cudnn-cu12, nvidia-cusolver-cu12, torchmetrics\n",
            "Successfully installed lightning-utilities-0.11.6 nvidia-cublas-cu12-12.1.3.1 nvidia-cuda-cupti-cu12-12.1.105 nvidia-cuda-nvrtc-cu12-12.1.105 nvidia-cuda-runtime-cu12-12.1.105 nvidia-cudnn-cu12-8.9.2.26 nvidia-cufft-cu12-11.0.2.54 nvidia-curand-cu12-10.3.2.106 nvidia-cusolver-cu12-11.4.5.107 nvidia-cusparse-cu12-12.1.0.106 nvidia-nccl-cu12-2.20.5 nvidia-nvjitlink-cu12-12.6.20 nvidia-nvtx-cu12-12.1.105 torchmetrics-1.4.0.post0\n"
          ]
        }
      ]
    },
    {
      "cell_type": "code",
      "source": [
        "import mlxtend"
      ],
      "metadata": {
        "id": "eWZhfici8XN2"
      },
      "execution_count": 304,
      "outputs": []
    },
    {
      "cell_type": "code",
      "source": [
        "import torchmetrics"
      ],
      "metadata": {
        "id": "5z6R3cniInW3"
      },
      "execution_count": 311,
      "outputs": []
    },
    {
      "cell_type": "code",
      "source": [
        "mlxtend.__version__"
      ],
      "metadata": {
        "colab": {
          "base_uri": "https://localhost:8080/",
          "height": 35
        },
        "id": "pRxn12hHIe5n",
        "outputId": "7ee78ac6-06a4-4c17-aa06-9712227bd9cc"
      },
      "execution_count": 305,
      "outputs": [
        {
          "output_type": "execute_result",
          "data": {
            "text/plain": [
              "'0.23.1'"
            ],
            "application/vnd.google.colaboratory.intrinsic+json": {
              "type": "string"
            }
          },
          "metadata": {},
          "execution_count": 305
        }
      ]
    },
    {
      "cell_type": "code",
      "source": [
        "torchmetrics.__version__"
      ],
      "metadata": {
        "colab": {
          "base_uri": "https://localhost:8080/",
          "height": 35
        },
        "id": "See7qgaRLaMA",
        "outputId": "4dc37730-f8e5-4ba4-ed72-d7f45029146f"
      },
      "execution_count": 312,
      "outputs": [
        {
          "output_type": "execute_result",
          "data": {
            "text/plain": [
              "'1.4.0.post0'"
            ],
            "application/vnd.google.colaboratory.intrinsic+json": {
              "type": "string"
            }
          },
          "metadata": {},
          "execution_count": 312
        }
      ]
    },
    {
      "cell_type": "code",
      "source": [
        "from torchmetrics import ConfusionMatrix\n",
        "from mlxtend.plotting import plot_confusion_matrix\n",
        "\n",
        "# Setup confusion instance and compare predictions to targets\n",
        "confmat = ConfusionMatrix(num_classes=len(class_names), task='multiclass')\n",
        "confmat_tensor = confmat(preds=y_pred_tensor,\n",
        "                         target=test_data.targets)\n",
        "\n",
        "# 3. Plot the confusion matrix\n",
        "fig, ax = plot_confusion_matrix(\n",
        "    conf_mat = confmat_tensor.numpy(),\n",
        "    class_names = class_names,\n",
        "    figsize=(10,7)\n",
        ")"
      ],
      "metadata": {
        "colab": {
          "base_uri": "https://localhost:8080/",
          "height": 635
        },
        "id": "NWODiq2VL2zI",
        "outputId": "96ecf925-3158-441a-a8b3-aebcebc2da78"
      },
      "execution_count": 319,
      "outputs": [
        {
          "output_type": "display_data",
          "data": {
            "text/plain": [
              "<Figure size 1000x700 with 1 Axes>"
            ],
            "image/png": "[encoded data removed]"
          },
          "metadata": {}
        }
      ]
    },
    {
      "cell_type": "code",
      "source": [
        "confmat_tensor"
      ],
      "metadata": {
        "colab": {
          "base_uri": "https://localhost:8080/"
        },
        "id": "p1UngUy-M8xb",
        "outputId": "1a019671-283f-4dce-a54c-993df90fb20c"
      },
      "execution_count": 318,
      "outputs": [
        {
          "output_type": "execute_result",
          "data": {
            "text/plain": [
              "tensor([[628,   5,  44,  79,  12,   1, 224,   0,   7,   0],\n",
              "        [  8, 895,   7,  68,  13,   0,   5,   0,   3,   1],\n",
              "        [  7,   1, 810,  13,  95,   0,  69,   0,   5,   0],\n",
              "        [ 25,  13,  25, 861,  36,   0,  34,   0,   4,   2],\n",
              "        [  5,   6, 117,  50, 712,   0, 106,   0,   4,   0],\n",
              "        [  6,   0,   9,  11,   0, 840,   4,  44,  66,  20],\n",
              "        [ 69,   7, 123,  64,  98,   0, 626,   0,  13,   0],\n",
              "        [  1,   1,   0,   1,   0,  33,   0, 877,  18,  69],\n",
              "        [  8,   2,  23,  17,   6,   7,  29,   7, 900,   1],\n",
              "        [  1,   0,   1,   2,   0,  20,   4,  71,  11, 890]])"
            ]
          },
          "metadata": {},
          "execution_count": 318
        }
      ]
    },
    {
      "cell_type": "code",
      "source": [],
      "metadata": {
        "id": "JWst8bDHM8oF"
      },
      "execution_count": null,
      "outputs": []
    },
    {
      "cell_type": "code",
      "source": [],
      "metadata": {
        "id": "6q72Z7DfMyng"
      },
      "execution_count": null,
      "outputs": []
    }
  ]
}